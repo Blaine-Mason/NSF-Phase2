{
 "cells": [
  {
   "cell_type": "code",
   "execution_count": 14,
   "metadata": {},
   "outputs": [],
   "source": [
    "import numpy as np\n",
    "import numpy.linalg as la\n",
    "import matplotlib.pyplot as plt\n",
    "import pandas as pd\n",
    "import math\n",
    "import seaborn as sns\n",
    "import seaborn as sns\n",
    "from scipy import stats\n",
    "\n",
    "def ell_1(n):\n",
    "    U = np.random.uniform(0,1,n)\n",
    "    tmp = np.array([0,1])\n",
    "    Final = np.zeros(n)\n",
    "    U = np.hstack((U,tmp))\n",
    "    U = np.sort(U)\n",
    "    for i in range(1,n+1):\n",
    "        Final[i-1] = U[i] - U[i-1]\n",
    "    Final = np.reshape(Final, (n,1))\n",
    "    for j in range(n):\n",
    "        binom = np.random.binomial(1,.5)\n",
    "        if(binom == 1):\n",
    "            Final[j] = Final[j]*(-1)\n",
    "    return Final"
   ]
  },
  {
   "cell_type": "code",
   "execution_count": 336,
   "metadata": {},
   "outputs": [],
   "source": [
    "def support(X, val, q): # Set q to be the qth quantile\n",
    "    return np.quantile((X.T).dot(val), q)\n",
    "\n",
    "def compute_fb(X, q, n):\n",
    "    polar_body = np.ones((n,0))\n",
    "    for i in range(X.shape[1]):\n",
    "        if support(X, X[:,i] / la.norm(X[:,i]), q) > np.dot(X[:,i], X[:,i]/la.norm(X[:,i])): \n",
    "            polar_body = np.hstack((polar_body, np.array(X[:,i]).reshape(n,1)))\n",
    "    return polar_body"
   ]
  },
  {
   "cell_type": "code",
   "execution_count": 16,
   "metadata": {},
   "outputs": [],
   "source": [
    "def anderson(e,q,d,n):\n",
    "    a = (1024/(e**2*(1-q)**2))\n",
    "    b = n*np.log(a*n) + np.log(4/d)\n",
    "    return a*b"
   ]
  },
  {
   "cell_type": "code",
   "execution_count": 17,
   "metadata": {},
   "outputs": [],
   "source": [
    "def cart2pol(x, y):\n",
    "    rho = np.sqrt(x**2 + y**2)\n",
    "    phi = np.arctan2(y, x)\n",
    "    return math.degrees(phi)"
   ]
  },
  {
   "cell_type": "code",
   "execution_count": 42,
   "metadata": {},
   "outputs": [],
   "source": [
    "def ret_supp(point, ret_vals):\n",
    "    \n",
    "    if point[0] == 0:\n",
    "        m = 0\n",
    "    else:\n",
    "        m = -math.pow(point[1]/point[0],-1)\n",
    "    #print(m)\n",
    "    b = point[1] + -m*point[0]\n",
    "   # print(b)\n",
    "    #print(f'y = {m}x + {b}')\n",
    "    x = np.arange(-2,2,.01)\n",
    "    y = m*x + b\n",
    "    if ret_vals:\n",
    "        return m, b\n",
    "    else:\n",
    "        return x, y"
   ]
  },
  {
   "cell_type": "code",
   "execution_count": 18,
   "metadata": {},
   "outputs": [],
   "source": [
    "from tqdm import tqdm"
   ]
  },
  {
   "cell_type": "code",
   "execution_count": 35,
   "metadata": {},
   "outputs": [],
   "source": [
    "e_ = [.1, .01, .001, .0001]"
   ]
  },
  {
   "cell_type": "code",
   "execution_count": 328,
   "metadata": {
    "scrolled": true,
    "tags": []
   },
   "outputs": [
    {
     "name": "stderr",
     "output_type": "stream",
     "text": [
      "  0%|          | 0/4 [00:00<?, ?it/s]\n",
      "  0%|          | 0/100 [00:00<?, ?it/s]\u001b[A\n",
      "  1%|          | 1/100 [00:16<27:03, 16.40s/it]\u001b[A\n",
      "  2%|▏         | 2/100 [00:56<38:32, 23.60s/it]\u001b[A\n",
      "  3%|▎         | 3/100 [01:21<38:53, 24.06s/it]\u001b[A\n",
      "  4%|▍         | 4/100 [01:48<39:37, 24.77s/it]\u001b[A\n",
      "  5%|▌         | 5/100 [02:07<36:32, 23.08s/it]\u001b[A\n",
      "  6%|▌         | 6/100 [02:30<36:06, 23.05s/it]\u001b[A\n",
      "  7%|▋         | 7/100 [02:48<33:23, 21.54s/it]\u001b[A\n",
      "  8%|▊         | 8/100 [03:00<28:44, 18.75s/it]\u001b[A\n",
      "  9%|▉         | 9/100 [03:27<32:14, 21.26s/it]\u001b[A\n",
      " 10%|█         | 10/100 [04:42<55:59, 37.32s/it]\u001b[A\n",
      " 11%|█         | 11/100 [05:03<48:04, 32.41s/it]\u001b[A\n",
      " 12%|█▏        | 12/100 [05:38<48:34, 33.12s/it]\u001b[A\n",
      " 13%|█▎        | 13/100 [06:11<48:13, 33.26s/it]\u001b[A\n",
      " 14%|█▍        | 14/100 [06:28<40:34, 28.31s/it]\u001b[A\n",
      " 15%|█▌        | 15/100 [06:54<39:03, 27.57s/it]\u001b[A\n",
      " 16%|█▌        | 16/100 [07:47<49:10, 35.12s/it]\u001b[A\n",
      " 17%|█▋        | 17/100 [08:01<39:49, 28.79s/it]\u001b[A\n",
      " 18%|█▊        | 18/100 [08:17<34:13, 25.04s/it]\u001b[A\n",
      " 19%|█▉        | 19/100 [08:40<33:00, 24.45s/it]\u001b[A\n",
      " 20%|██        | 20/100 [09:08<34:06, 25.58s/it]\u001b[A\n",
      " 21%|██        | 21/100 [10:48<1:03:07, 47.94s/it]\u001b[A\n",
      " 22%|██▏       | 22/100 [11:19<55:34, 42.75s/it]  \u001b[A\n",
      " 23%|██▎       | 23/100 [11:59<53:48, 41.92s/it]\u001b[A\n",
      " 24%|██▍       | 24/100 [12:19<44:52, 35.42s/it]\u001b[A\n",
      " 25%|██▌       | 25/100 [12:36<37:17, 29.84s/it]\u001b[A\n",
      " 26%|██▌       | 26/100 [13:10<38:10, 30.96s/it]\u001b[A\n",
      " 27%|██▋       | 27/100 [13:23<31:01, 25.51s/it]\u001b[A\n",
      " 28%|██▊       | 28/100 [14:51<53:24, 44.51s/it]\u001b[A\n",
      " 29%|██▉       | 29/100 [16:04<1:02:29, 52.81s/it]\u001b[A\n",
      " 30%|███       | 30/100 [17:50<1:20:31, 69.02s/it]\u001b[A\n",
      " 31%|███       | 31/100 [18:02<59:39, 51.88s/it]  \u001b[A\n",
      " 32%|███▏      | 32/100 [18:28<49:49, 43.96s/it]\u001b[A\n",
      " 33%|███▎      | 33/100 [18:57<44:14, 39.62s/it]\u001b[A\n",
      " 34%|███▍      | 34/100 [19:26<39:55, 36.30s/it]\u001b[A\n",
      " 35%|███▌      | 35/100 [19:48<34:45, 32.08s/it]\u001b[A\n",
      " 36%|███▌      | 36/100 [20:24<35:26, 33.23s/it]\u001b[A\n",
      " 37%|███▋      | 37/100 [21:05<37:20, 35.56s/it]\u001b[A\n",
      " 38%|███▊      | 38/100 [22:31<52:32, 50.84s/it]\u001b[A\n",
      " 39%|███▉      | 39/100 [23:24<52:11, 51.33s/it]\u001b[A\n",
      " 40%|████      | 40/100 [23:39<40:25, 40.42s/it]\u001b[A\n",
      " 41%|████      | 41/100 [24:18<39:15, 39.92s/it]\u001b[A\n",
      " 42%|████▏     | 42/100 [24:57<38:23, 39.71s/it]\u001b[A\n",
      " 43%|████▎     | 43/100 [25:14<31:23, 33.04s/it]\u001b[A\n",
      " 44%|████▍     | 44/100 [25:41<28:55, 30.99s/it]\u001b[A\n",
      " 45%|████▌     | 45/100 [26:39<35:51, 39.12s/it]\u001b[A\n",
      " 46%|████▌     | 46/100 [27:09<32:53, 36.55s/it]\u001b[A\n",
      " 47%|████▋     | 47/100 [27:37<29:54, 33.86s/it]\u001b[A\n",
      " 48%|████▊     | 48/100 [28:17<30:58, 35.73s/it]\u001b[A\n",
      " 49%|████▉     | 49/100 [28:49<29:31, 34.73s/it]\u001b[A\n",
      " 50%|█████     | 50/100 [29:50<35:22, 42.44s/it]\u001b[A\n",
      " 51%|█████     | 51/100 [31:38<50:49, 62.23s/it]\u001b[A\n",
      " 52%|█████▏    | 52/100 [32:21<45:11, 56.49s/it]\u001b[A\n",
      " 53%|█████▎    | 53/100 [33:11<42:38, 54.43s/it]\u001b[A\n",
      " 54%|█████▍    | 54/100 [34:11<42:57, 56.04s/it]\u001b[A\n",
      " 55%|█████▌    | 55/100 [34:59<40:21, 53.81s/it]\u001b[A\n",
      " 56%|█████▌    | 56/100 [35:19<31:58, 43.61s/it]\u001b[A\n",
      " 57%|█████▋    | 57/100 [35:33<24:57, 34.82s/it]\u001b[A\n",
      " 58%|█████▊    | 58/100 [35:56<21:46, 31.11s/it]\u001b[A\n",
      " 59%|█████▉    | 59/100 [36:18<19:27, 28.48s/it]\u001b[A\n",
      " 60%|██████    | 60/100 [36:31<15:53, 23.84s/it]\u001b[A\n",
      " 61%|██████    | 61/100 [37:04<17:16, 26.59s/it]\u001b[A\n",
      " 62%|██████▏   | 62/100 [37:15<13:55, 21.99s/it]\u001b[A\n",
      " 63%|██████▎   | 63/100 [37:34<12:53, 20.92s/it]\u001b[A\n",
      " 64%|██████▍   | 64/100 [38:09<15:11, 25.31s/it]\u001b[A\n",
      " 65%|██████▌   | 65/100 [38:34<14:42, 25.20s/it]\u001b[A\n",
      " 66%|██████▌   | 66/100 [39:38<20:48, 36.71s/it]\u001b[A\n",
      " 67%|██████▋   | 67/100 [40:01<17:58, 32.68s/it]\u001b[A\n",
      " 68%|██████▊   | 68/100 [40:33<17:21, 32.55s/it]\u001b[A\n",
      " 69%|██████▉   | 69/100 [41:37<21:40, 41.95s/it]\u001b[A\n",
      " 70%|███████   | 70/100 [42:11<19:42, 39.42s/it]\u001b[A\n",
      " 71%|███████   | 71/100 [42:50<19:01, 39.36s/it]\u001b[A\n",
      " 72%|███████▏  | 72/100 [43:14<16:16, 34.86s/it]\u001b[A\n",
      " 73%|███████▎  | 73/100 [44:06<17:57, 39.89s/it]\u001b[A\n",
      " 74%|███████▍  | 74/100 [45:01<19:16, 44.47s/it]\u001b[A\n",
      " 75%|███████▌  | 75/100 [46:31<24:11, 58.05s/it]\u001b[A\n",
      " 76%|███████▌  | 76/100 [47:09<20:50, 52.12s/it]\u001b[A\n",
      " 77%|███████▋  | 77/100 [47:28<16:09, 42.14s/it]\u001b[A\n",
      " 78%|███████▊  | 78/100 [48:24<16:59, 46.36s/it]\u001b[A\n",
      " 79%|███████▉  | 79/100 [48:31<12:06, 34.61s/it]\u001b[A\n",
      " 80%|████████  | 80/100 [54:02<41:08, 123.43s/it]\u001b[A\n",
      " 81%|████████  | 81/100 [54:20<29:01, 91.64s/it] \u001b[A\n",
      " 82%|████████▏ | 82/100 [55:48<27:10, 90.56s/it]\u001b[A\n",
      " 83%|████████▎ | 83/100 [56:09<19:45, 69.76s/it]\u001b[A\n",
      " 84%|████████▍ | 84/100 [56:39<15:23, 57.74s/it]\u001b[A\n",
      " 85%|████████▌ | 85/100 [56:52<11:08, 44.53s/it]\u001b[A\n",
      " 86%|████████▌ | 86/100 [59:27<18:06, 77.59s/it]\u001b[A\n",
      " 87%|████████▋ | 87/100 [1:00:03<14:06, 65.11s/it]\u001b[A\n",
      " 88%|████████▊ | 88/100 [1:00:33<10:55, 54.62s/it]\u001b[A\n",
      " 89%|████████▉ | 89/100 [1:01:12<09:07, 49.73s/it]\u001b[A\n",
      " 90%|█████████ | 90/100 [1:01:57<08:04, 48.41s/it]\u001b[A\n",
      " 91%|█████████ | 91/100 [1:03:12<08:26, 56.30s/it]\u001b[A\n",
      " 92%|█████████▏| 92/100 [1:04:10<07:35, 56.92s/it]\u001b[A\n",
      " 93%|█████████▎| 93/100 [1:04:51<06:04, 52.10s/it]\u001b[A\n",
      " 94%|█████████▍| 94/100 [1:05:10<04:12, 42.12s/it]\u001b[A\n",
      " 95%|█████████▌| 95/100 [1:05:59<03:42, 44.43s/it]\u001b[A\n",
      " 96%|█████████▌| 96/100 [1:06:26<02:36, 39.11s/it]\u001b[A\n",
      " 97%|█████████▋| 97/100 [1:06:35<01:30, 30.03s/it]\u001b[A\n",
      " 98%|█████████▊| 98/100 [1:06:56<00:54, 27.44s/it]\u001b[A\n",
      " 99%|█████████▉| 99/100 [1:08:54<00:54, 54.63s/it]\u001b[A\n",
      "100%|██████████| 100/100 [1:09:08<00:00, 41.49s/it]\u001b[A\n",
      " 25%|██▌       | 1/4 [1:09:08<3:27:25, 4148.66s/it]\n",
      "  0%|          | 0/100 [00:00<?, ?it/s]\u001b[A\n",
      "  1%|          | 1/100 [00:05<09:08,  5.54s/it]\u001b[A\n",
      "  2%|▏         | 2/100 [00:08<07:59,  4.89s/it]\u001b[A\n",
      "  3%|▎         | 3/100 [00:12<07:08,  4.42s/it]\u001b[A\n",
      "  4%|▍         | 4/100 [00:13<05:39,  3.53s/it]\u001b[A\n",
      "  5%|▌         | 5/100 [00:16<05:23,  3.40s/it]\u001b[A\n",
      "  6%|▌         | 6/100 [00:18<04:19,  2.76s/it]\u001b[A\n",
      "  7%|▋         | 7/100 [00:23<05:19,  3.44s/it]\u001b[A\n",
      "  8%|▊         | 8/100 [00:24<04:19,  2.82s/it]\u001b[A\n",
      "  9%|▉         | 9/100 [00:29<05:23,  3.56s/it]\u001b[A\n",
      " 10%|█         | 10/100 [00:32<04:46,  3.19s/it]\u001b[A\n",
      " 11%|█         | 11/100 [00:39<06:28,  4.37s/it]\u001b[A\n",
      " 12%|█▏        | 12/100 [00:41<05:20,  3.64s/it]\u001b[A\n",
      " 13%|█▎        | 13/100 [00:43<04:39,  3.21s/it]\u001b[A\n",
      " 14%|█▍        | 14/100 [00:46<04:41,  3.27s/it]\u001b[A\n",
      " 15%|█▌        | 15/100 [00:48<03:48,  2.68s/it]\u001b[A\n",
      " 16%|█▌        | 16/100 [00:50<03:45,  2.69s/it]\u001b[A\n",
      " 17%|█▋        | 17/100 [00:52<03:13,  2.33s/it]\u001b[A\n",
      " 18%|█▊        | 18/100 [00:54<03:11,  2.34s/it]\u001b[A\n",
      " 19%|█▉        | 19/100 [00:56<02:53,  2.14s/it]\u001b[A\n",
      " 20%|██        | 20/100 [00:57<02:19,  1.74s/it]\u001b[A\n",
      " 21%|██        | 21/100 [00:58<02:07,  1.62s/it]\u001b[A\n",
      " 22%|██▏       | 22/100 [01:01<02:48,  2.16s/it]\u001b[A\n",
      " 23%|██▎       | 23/100 [01:05<03:26,  2.68s/it]\u001b[A\n",
      " 24%|██▍       | 24/100 [01:10<04:04,  3.22s/it]\u001b[A\n",
      " 25%|██▌       | 25/100 [01:14<04:26,  3.55s/it]\u001b[A\n",
      " 26%|██▌       | 26/100 [01:20<05:19,  4.31s/it]\u001b[A\n",
      " 27%|██▋       | 27/100 [01:21<04:08,  3.41s/it]\u001b[A\n",
      " 28%|██▊       | 28/100 [01:22<03:10,  2.65s/it]\u001b[A\n",
      " 29%|██▉       | 29/100 [01:23<02:31,  2.13s/it]\u001b[A\n",
      " 30%|███       | 30/100 [01:28<03:23,  2.90s/it]\u001b[A\n",
      " 31%|███       | 31/100 [01:31<03:23,  2.95s/it]\u001b[A\n",
      " 32%|███▏      | 32/100 [01:34<03:27,  3.05s/it]\u001b[A\n",
      " 33%|███▎      | 33/100 [01:35<02:43,  2.44s/it]\u001b[A\n",
      " 34%|███▍      | 34/100 [01:40<03:20,  3.04s/it]\u001b[A\n",
      " 35%|███▌      | 35/100 [01:41<02:50,  2.63s/it]\u001b[A\n",
      " 36%|███▌      | 36/100 [01:45<03:13,  3.02s/it]\u001b[A\n",
      " 37%|███▋      | 37/100 [01:48<02:58,  2.83s/it]\u001b[A\n",
      " 38%|███▊      | 38/100 [01:50<02:49,  2.73s/it]\u001b[A\n",
      " 39%|███▉      | 39/100 [01:53<02:45,  2.72s/it]\u001b[A\n",
      " 40%|████      | 40/100 [01:56<02:44,  2.74s/it]\u001b[A\n",
      " 41%|████      | 41/100 [01:59<02:51,  2.91s/it]\u001b[A\n",
      " 42%|████▏     | 42/100 [02:01<02:34,  2.66s/it]\u001b[A\n",
      " 43%|████▎     | 43/100 [02:03<02:13,  2.33s/it]\u001b[A\n",
      " 44%|████▍     | 44/100 [02:04<02:01,  2.18s/it]\u001b[A\n",
      " 45%|████▌     | 45/100 [02:07<02:06,  2.30s/it]\u001b[A\n",
      " 46%|████▌     | 46/100 [02:08<01:40,  1.86s/it]\u001b[A\n",
      " 47%|████▋     | 47/100 [02:11<02:00,  2.28s/it]\u001b[A\n",
      " 48%|████▊     | 48/100 [02:14<02:05,  2.42s/it]\u001b[A\n",
      " 49%|████▉     | 49/100 [02:17<02:07,  2.49s/it]\u001b[A\n",
      " 50%|█████     | 50/100 [02:17<01:38,  1.98s/it]\u001b[A\n",
      " 51%|█████     | 51/100 [02:21<01:55,  2.35s/it]\u001b[A\n",
      " 52%|█████▏    | 52/100 [02:21<01:30,  1.89s/it]\u001b[A\n",
      " 53%|█████▎    | 53/100 [02:23<01:28,  1.88s/it]\u001b[A\n",
      " 54%|█████▍    | 54/100 [02:25<01:22,  1.79s/it]\u001b[A\n",
      " 55%|█████▌    | 55/100 [02:26<01:14,  1.66s/it]\u001b[A\n",
      " 56%|█████▌    | 56/100 [02:27<00:55,  1.27s/it]\u001b[A\n",
      " 57%|█████▋    | 57/100 [02:29<01:07,  1.57s/it]\u001b[A\n",
      " 58%|█████▊    | 58/100 [02:33<01:36,  2.29s/it]\u001b[A\n",
      " 59%|█████▉    | 59/100 [02:35<01:38,  2.41s/it]\u001b[A\n",
      " 60%|██████    | 60/100 [02:38<01:33,  2.35s/it]\u001b[A\n",
      " 61%|██████    | 61/100 [02:38<01:11,  1.84s/it]\u001b[A\n",
      " 62%|██████▏   | 62/100 [02:40<01:09,  1.82s/it]\u001b[A\n",
      " 63%|██████▎   | 63/100 [02:42<01:08,  1.86s/it]\u001b[A\n",
      " 64%|██████▍   | 64/100 [02:45<01:16,  2.13s/it]\u001b[A\n",
      " 65%|██████▌   | 65/100 [02:48<01:21,  2.32s/it]\u001b[A\n",
      " 66%|██████▌   | 66/100 [02:49<01:06,  1.96s/it]\u001b[A\n",
      " 67%|██████▋   | 67/100 [02:51<01:08,  2.07s/it]\u001b[A\n",
      " 68%|██████▊   | 68/100 [02:56<01:38,  3.07s/it]\u001b[A\n",
      " 69%|██████▉   | 69/100 [03:04<02:17,  4.44s/it]\u001b[A\n",
      " 70%|███████   | 70/100 [03:08<02:10,  4.34s/it]\u001b[A\n",
      " 71%|███████   | 71/100 [03:13<02:08,  4.42s/it]\u001b[A\n",
      " 72%|███████▏  | 72/100 [03:14<01:39,  3.55s/it]\u001b[A\n",
      " 73%|███████▎  | 73/100 [03:16<01:22,  3.07s/it]\u001b[A\n",
      " 74%|███████▍  | 74/100 [03:22<01:37,  3.75s/it]\u001b[A\n",
      " 75%|███████▌  | 75/100 [03:25<01:33,  3.74s/it]\u001b[A\n",
      " 76%|███████▌  | 76/100 [03:27<01:17,  3.25s/it]\u001b[A\n",
      " 77%|███████▋  | 77/100 [03:29<01:05,  2.84s/it]\u001b[A\n",
      " 78%|███████▊  | 78/100 [03:34<01:16,  3.50s/it]\u001b[A\n",
      " 79%|███████▉  | 79/100 [03:36<01:00,  2.90s/it]\u001b[A\n",
      " 80%|████████  | 80/100 [03:37<00:49,  2.48s/it]\u001b[A\n",
      " 81%|████████  | 81/100 [03:42<01:02,  3.27s/it]\u001b[A\n",
      " 82%|████████▏ | 82/100 [03:45<00:56,  3.14s/it]\u001b[A\n",
      " 83%|████████▎ | 83/100 [03:48<00:50,  2.97s/it]\u001b[A\n",
      " 84%|████████▍ | 84/100 [03:52<00:54,  3.44s/it]\u001b[A\n",
      " 85%|████████▌ | 85/100 [03:54<00:41,  2.78s/it]\u001b[A\n",
      " 86%|████████▌ | 86/100 [03:56<00:35,  2.56s/it]\u001b[A\n",
      " 87%|████████▋ | 87/100 [03:57<00:26,  2.05s/it]\u001b[A\n",
      " 88%|████████▊ | 88/100 [04:02<00:37,  3.16s/it]\u001b[A\n",
      " 89%|████████▉ | 89/100 [04:05<00:32,  2.91s/it]\u001b[A\n",
      " 90%|█████████ | 90/100 [04:06<00:24,  2.49s/it]\u001b[A\n",
      " 91%|█████████ | 91/100 [04:10<00:26,  2.89s/it]\u001b[A\n",
      " 92%|█████████▏| 92/100 [04:12<00:20,  2.55s/it]\u001b[A\n",
      " 93%|█████████▎| 93/100 [04:14<00:18,  2.61s/it]\u001b[A\n",
      " 94%|█████████▍| 94/100 [04:17<00:15,  2.60s/it]\u001b[A\n",
      " 95%|█████████▌| 95/100 [04:18<00:10,  2.06s/it]\u001b[A\n",
      " 96%|█████████▌| 96/100 [04:22<00:10,  2.57s/it]\u001b[A\n",
      " 97%|█████████▋| 97/100 [04:23<00:06,  2.09s/it]\u001b[A\n",
      " 98%|█████████▊| 98/100 [04:26<00:05,  2.61s/it]\u001b[A\n",
      " 99%|█████████▉| 99/100 [04:27<00:02,  2.11s/it]\u001b[A\n",
      "100%|██████████| 100/100 [04:31<00:00,  2.72s/it]\u001b[A\n",
      " 50%|█████     | 2/4 [1:13:40<1:39:31, 2985.65s/it]\n",
      "  0%|          | 0/100 [00:00<?, ?it/s]\u001b[A\n",
      "  1%|          | 1/100 [00:00<00:14,  6.78it/s]\u001b[A\n",
      "  2%|▏         | 2/100 [00:00<00:29,  3.34it/s]\u001b[A\n",
      "  3%|▎         | 3/100 [00:01<00:29,  3.24it/s]\u001b[A\n",
      "  4%|▍         | 4/100 [00:01<00:34,  2.76it/s]\u001b[A\n",
      "  5%|▌         | 5/100 [00:01<00:28,  3.29it/s]\u001b[A\n",
      "  6%|▌         | 6/100 [00:02<00:36,  2.55it/s]\u001b[A\n",
      "  7%|▋         | 7/100 [00:02<00:29,  3.12it/s]\u001b[A\n",
      "  8%|▊         | 8/100 [00:02<00:27,  3.35it/s]\u001b[A\n",
      "  9%|▉         | 9/100 [00:02<00:23,  3.93it/s]\u001b[A\n",
      " 11%|█         | 11/100 [00:03<00:19,  4.53it/s]\u001b[A\n",
      " 12%|█▏        | 12/100 [00:03<00:20,  4.20it/s]\u001b[A\n",
      " 13%|█▎        | 13/100 [00:03<00:19,  4.38it/s]\u001b[A\n",
      " 14%|█▍        | 14/100 [00:04<00:22,  3.90it/s]\u001b[A\n",
      " 15%|█▌        | 15/100 [00:04<00:25,  3.31it/s]\u001b[A\n",
      " 16%|█▌        | 16/100 [00:04<00:23,  3.63it/s]\u001b[A\n",
      " 17%|█▋        | 17/100 [00:04<00:21,  3.95it/s]\u001b[A\n",
      " 18%|█▊        | 18/100 [00:04<00:18,  4.52it/s]\u001b[A\n",
      " 19%|█▉        | 19/100 [00:05<00:17,  4.54it/s]\u001b[A\n",
      " 20%|██        | 20/100 [00:05<00:24,  3.27it/s]\u001b[A\n",
      " 21%|██        | 21/100 [00:06<00:26,  3.01it/s]\u001b[A\n",
      " 23%|██▎       | 23/100 [00:06<00:21,  3.56it/s]\u001b[A\n",
      " 24%|██▍       | 24/100 [00:06<00:23,  3.25it/s]\u001b[A\n",
      " 25%|██▌       | 25/100 [00:07<00:23,  3.22it/s]\u001b[A\n",
      " 26%|██▌       | 26/100 [00:07<00:28,  2.63it/s]\u001b[A\n",
      " 27%|██▋       | 27/100 [00:07<00:22,  3.26it/s]\u001b[A\n",
      " 29%|██▉       | 29/100 [00:08<00:21,  3.26it/s]\u001b[A\n",
      " 30%|███       | 30/100 [00:08<00:19,  3.56it/s]\u001b[A\n",
      " 31%|███       | 31/100 [00:08<00:17,  3.83it/s]\u001b[A\n",
      " 32%|███▏      | 32/100 [00:09<00:16,  4.20it/s]\u001b[A\n",
      " 33%|███▎      | 33/100 [00:09<00:22,  3.04it/s]\u001b[A\n",
      " 34%|███▍      | 34/100 [00:09<00:21,  3.05it/s]\u001b[A\n",
      " 35%|███▌      | 35/100 [00:10<00:18,  3.52it/s]\u001b[A\n",
      " 36%|███▌      | 36/100 [00:10<00:16,  3.81it/s]\u001b[A\n",
      " 37%|███▋      | 37/100 [00:10<00:13,  4.61it/s]\u001b[A\n",
      " 38%|███▊      | 38/100 [00:10<00:16,  3.73it/s]\u001b[A\n",
      " 39%|███▉      | 39/100 [00:10<00:14,  4.32it/s]\u001b[A\n",
      " 40%|████      | 40/100 [00:11<00:13,  4.44it/s]\u001b[A\n",
      " 41%|████      | 41/100 [00:11<00:13,  4.52it/s]\u001b[A\n",
      " 42%|████▏     | 42/100 [00:11<00:13,  4.40it/s]\u001b[A\n",
      " 43%|████▎     | 43/100 [00:11<00:13,  4.08it/s]\u001b[A\n",
      " 44%|████▍     | 44/100 [00:12<00:12,  4.41it/s]\u001b[A\n",
      " 45%|████▌     | 45/100 [00:12<00:12,  4.39it/s]\u001b[A\n",
      " 46%|████▌     | 46/100 [00:12<00:12,  4.17it/s]\u001b[A\n",
      " 47%|████▋     | 47/100 [00:12<00:12,  4.34it/s]\u001b[A\n",
      " 48%|████▊     | 48/100 [00:13<00:15,  3.43it/s]\u001b[A\n",
      " 49%|████▉     | 49/100 [00:13<00:13,  3.72it/s]\u001b[A\n",
      " 50%|█████     | 50/100 [00:13<00:11,  4.48it/s]\u001b[A\n",
      " 51%|█████     | 51/100 [00:13<00:10,  4.71it/s]\u001b[A\n",
      " 52%|█████▏    | 52/100 [00:14<00:13,  3.43it/s]\u001b[A\n",
      " 53%|█████▎    | 53/100 [00:14<00:11,  3.99it/s]\u001b[A\n",
      " 55%|█████▌    | 55/100 [00:14<00:11,  4.01it/s]\u001b[A\n",
      " 56%|█████▌    | 56/100 [00:14<00:09,  4.63it/s]\u001b[A\n",
      " 57%|█████▋    | 57/100 [00:15<00:09,  4.61it/s]\u001b[A\n",
      " 58%|█████▊    | 58/100 [00:15<00:11,  3.59it/s]\u001b[A\n",
      " 59%|█████▉    | 59/100 [00:15<00:09,  4.42it/s]\u001b[A\n",
      " 60%|██████    | 60/100 [00:15<00:08,  4.92it/s]\u001b[A\n",
      " 61%|██████    | 61/100 [00:16<00:09,  4.17it/s]\u001b[A\n",
      " 62%|██████▏   | 62/100 [00:16<00:08,  4.70it/s]\u001b[A\n",
      " 63%|██████▎   | 63/100 [00:16<00:10,  3.37it/s]\u001b[A\n",
      " 65%|██████▌   | 65/100 [00:17<00:08,  3.91it/s]\u001b[A\n",
      " 66%|██████▌   | 66/100 [00:17<00:07,  4.51it/s]\u001b[A\n",
      " 67%|██████▋   | 67/100 [00:17<00:06,  4.88it/s]\u001b[A\n",
      " 68%|██████▊   | 68/100 [00:17<00:07,  4.02it/s]\u001b[A\n",
      " 69%|██████▉   | 69/100 [00:18<00:07,  4.09it/s]\u001b[A\n",
      " 70%|███████   | 70/100 [00:18<00:07,  4.11it/s]\u001b[A\n",
      " 71%|███████   | 71/100 [00:18<00:07,  4.07it/s]\u001b[A\n",
      " 72%|███████▏  | 72/100 [00:19<00:10,  2.65it/s]\u001b[A\n",
      " 73%|███████▎  | 73/100 [00:19<00:08,  3.28it/s]\u001b[A\n",
      " 74%|███████▍  | 74/100 [00:19<00:06,  3.91it/s]\u001b[A\n",
      " 75%|███████▌  | 75/100 [00:19<00:06,  4.14it/s]\u001b[A\n",
      " 76%|███████▌  | 76/100 [00:19<00:05,  4.52it/s]\u001b[A\n",
      " 77%|███████▋  | 77/100 [00:20<00:04,  4.63it/s]\u001b[A\n",
      " 78%|███████▊  | 78/100 [00:20<00:04,  4.68it/s]\u001b[A\n",
      " 79%|███████▉  | 79/100 [00:21<00:08,  2.60it/s]\u001b[A\n",
      " 80%|████████  | 80/100 [00:21<00:06,  3.08it/s]\u001b[A\n",
      " 81%|████████  | 81/100 [00:21<00:06,  2.75it/s]\u001b[A\n",
      " 82%|████████▏ | 82/100 [00:21<00:05,  3.28it/s]\u001b[A\n",
      " 83%|████████▎ | 83/100 [00:22<00:05,  3.37it/s]\u001b[A\n",
      " 84%|████████▍ | 84/100 [00:22<00:04,  3.31it/s]\u001b[A\n",
      " 85%|████████▌ | 85/100 [00:22<00:04,  3.38it/s]\u001b[A\n",
      " 86%|████████▌ | 86/100 [00:23<00:03,  3.56it/s]\u001b[A\n",
      " 87%|████████▋ | 87/100 [00:23<00:03,  3.46it/s]\u001b[A\n",
      " 88%|████████▊ | 88/100 [00:23<00:03,  3.59it/s]\u001b[A\n",
      " 90%|█████████ | 90/100 [00:24<00:02,  3.54it/s]\u001b[A\n",
      " 91%|█████████ | 91/100 [00:24<00:02,  3.40it/s]\u001b[A\n",
      " 92%|█████████▏| 92/100 [00:24<00:02,  3.52it/s]\u001b[A\n",
      " 93%|█████████▎| 93/100 [00:25<00:02,  2.91it/s]\u001b[A\n",
      " 94%|█████████▍| 94/100 [00:25<00:01,  3.22it/s]\u001b[A\n",
      " 95%|█████████▌| 95/100 [00:25<00:01,  3.77it/s]\u001b[A\n",
      " 97%|█████████▋| 97/100 [00:25<00:00,  4.77it/s]\u001b[A\n",
      " 98%|█████████▊| 98/100 [00:25<00:00,  5.17it/s]\u001b[A\n",
      " 99%|█████████▉| 99/100 [00:26<00:00,  5.08it/s]\u001b[A\n",
      "100%|██████████| 100/100 [00:26<00:00,  3.78it/s]\u001b[A\n",
      " 75%|███████▌  | 3/4 [1:14:07<34:57, 2097.89s/it]  \n",
      "  0%|          | 0/100 [00:00<?, ?it/s]\u001b[A\n",
      "  4%|▍         | 4/100 [00:00<00:02, 39.85it/s]\u001b[A\n",
      "  8%|▊         | 8/100 [00:00<00:02, 37.15it/s]\u001b[A\n",
      " 14%|█▍        | 14/100 [00:00<00:02, 39.60it/s]\u001b[A\n",
      " 19%|█▉        | 19/100 [00:00<00:02, 38.97it/s]\u001b[A\n",
      " 23%|██▎       | 23/100 [00:00<00:02, 37.81it/s]\u001b[A\n",
      " 29%|██▉       | 29/100 [00:00<00:01, 40.43it/s]\u001b[A\n",
      " 34%|███▍      | 34/100 [00:00<00:01, 39.34it/s]\u001b[A\n",
      " 38%|███▊      | 38/100 [00:00<00:01, 37.86it/s]\u001b[A\n",
      " 42%|████▏     | 42/100 [00:01<00:01, 35.12it/s]\u001b[A\n",
      " 47%|████▋     | 47/100 [00:01<00:01, 37.41it/s]\u001b[A\n",
      " 52%|█████▏    | 52/100 [00:01<00:01, 40.01it/s]\u001b[A\n",
      " 57%|█████▋    | 57/100 [00:01<00:01, 34.94it/s]\u001b[A\n",
      " 62%|██████▏   | 62/100 [00:01<00:01, 37.88it/s]\u001b[A\n",
      " 66%|██████▌   | 66/100 [00:01<00:00, 37.34it/s]\u001b[A\n",
      " 72%|███████▏  | 72/100 [00:01<00:00, 41.78it/s]\u001b[A\n",
      " 77%|███████▋  | 77/100 [00:01<00:00, 40.74it/s]\u001b[A\n",
      " 82%|████████▏ | 82/100 [00:02<00:00, 42.31it/s]\u001b[A\n",
      " 87%|████████▋ | 87/100 [00:02<00:00, 44.18it/s]\u001b[A\n",
      " 92%|█████████▏| 92/100 [00:02<00:00, 42.72it/s]\u001b[A\n",
      "100%|██████████| 100/100 [00:02<00:00, 40.30it/s][A\n",
      "100%|██████████| 4/4 [1:14:09<00:00, 1112.39s/it]\n"
     ]
    }
   ],
   "source": [
    "n = 2\n",
    "e1 = np.array([[np.sqrt(2)/2],[np.sqrt(2)/2]])\n",
    "e2 = np.array([[-np.sqrt(2)/2],[np.sqrt(2)/2]])\n",
    "e3 = np.array([[-np.sqrt(2)/2],[-np.sqrt(2)/2]])\n",
    "e4 = np.array([[np.sqrt(2)/2],[-np.sqrt(2)/2]])\n",
    "\n",
    "error = []\n",
    "trials = 100\n",
    "plot = False\n",
    "if plot: \n",
    "    fig = plt.figure()\n",
    "    ax = fig.add_subplot(111)\n",
    "for e in tqdm([.0001, .001, .01, .1]):\n",
    "    t = np.degrees(2*(math.pi/4-((np.arctan(1/(1+e))))))\n",
    "    total = 0\n",
    "    for i in tqdm(range(trials)):\n",
    "        if plot:\n",
    "            A_left = np.radians(45+t/2)\n",
    "            A_right = np.radians(45-t/2)\n",
    "            B_left = np.radians(135+t/2)\n",
    "            B_right = np.radians(135-t/2)\n",
    "            C_left = np.radians(225+t/2)\n",
    "            C_right = np.radians(225-t/2)\n",
    "            D_left = np.radians(315+t/2)\n",
    "            D_right = np.radians(315-t/2)\n",
    "            A = (A_left, A_right)\n",
    "            B = (B_left, B_right)\n",
    "            C = (C_left, C_right)\n",
    "            D = (D_left, D_right)\n",
    "            sets = list((A, B,C, D))\n",
    "            unit = math.pi/4\n",
    "\n",
    "            letter = A\n",
    "            a = (np.sin(letter[0])/np.cos(letter[0]))\n",
    "            b = (np.sin(letter[1])/np.cos(letter[1]))\n",
    "            #c = (np.sin(unit)/np.cos(unit))\n",
    "            plt.plot([0,(a/(a+1))],[0, 1/(a+1)], 'r')\n",
    "            plt.plot([0,(b/(b+1))],[0, 1/(b+1)], 'r')\n",
    "            #plt.plot([0,(c/(c+1))],[0, 1/(c+1)], 'b--')\n",
    "\n",
    "            letter = B\n",
    "            a = -(np.sin(letter[0])/np.cos(letter[0]))\n",
    "            b = (np.sin(letter[1])/np.cos(letter[1]))\n",
    "            #c = (np.sin(3*unit)/np.cos(3*unit))\n",
    "            plt.plot([0, -(a/(a+1))],[0, 1/(a+1)], 'r')\n",
    "            plt.plot([0,-(b/(b-1))],[0, -1/(b-1)], 'r')\n",
    "            #plt.plot([0, -(c/(c-1))],[0, -1/(c-1)], 'b--')\n",
    "\n",
    "            letter = C\n",
    "            a = -(np.sin(letter[0])/np.cos(letter[0]))\n",
    "            b = -(np.sin(letter[1])/np.cos(letter[1]))\n",
    "            #c = -(np.sin(5*unit)/np.cos(5*unit))\n",
    "            plt.plot([0, -(a/(a-1))],[0, 1/(a-1)], 'r')\n",
    "            plt.plot([0, (b/(-b+1))],[0, 1/(b-1)], 'r')\n",
    "            #plt.plot([0,(c/(-c+1))],[0, 1/(c-1)], 'b--')\n",
    "\n",
    "            letter = D\n",
    "            a = (np.sin(letter[0])/np.cos(letter[0]))\n",
    "            b = (np.sin(letter[1])/np.cos(letter[1]))\n",
    "            #c = (np.sin(7*unit)/np.cos(7*unit))\n",
    "            plt.plot([0,(a/(a-1))],[0, 1/(a-1)], 'r')\n",
    "            plt.plot([0,(b/(b-1))],[0, 1/(b-1)], 'r')\n",
    "            #plt.plot([0,(c/(c-1))],[0, 1/(c-1)], 'b--')\n",
    "\n",
    "\n",
    "        A_inside = []\n",
    "        A_points = []\n",
    "        B_inside = []\n",
    "        B_points = []\n",
    "        C_inside = []\n",
    "        C_points = []\n",
    "        D_inside = []\n",
    "        D_points = []\n",
    "        thresh = 1000000\n",
    "        S = np.zeros((n, 1))\n",
    "        S = np.hstack((S, ell_1(n)))\n",
    "        S = np.delete(S, 0,1)\n",
    "        inside = [0, 0, 0, 0]\n",
    "        inside_r_2 = [0, 0, 0, 0]\n",
    "        clr = \"rs\"\n",
    "        size_block =  5\n",
    "        r1 = False\n",
    "        for i in range(thresh):\n",
    "            theta = t\n",
    "            if np.degrees(np.arccos(np.dot(S[:,i], e1)/la.norm(S[:,i]))) < theta/2:\n",
    "                inside[0] = 1\n",
    "                A_inside.append(np.arccos(np.dot(S[:,i], e1)/la.norm(S[:,i])))\n",
    "                A_points.append(S[:,i])\n",
    "                if plot:\n",
    "                    plt.plot(S[0,i], S[1,i], clr, markersize=size_block)\n",
    "            elif np.degrees(np.arccos(np.dot(S[:,i], e2)/la.norm(S[:,i]))) < theta/2:\n",
    "                inside[1] = 1\n",
    "                B_inside.append(np.arccos(np.dot(S[:,i], e2)/la.norm(S[:,i])))\n",
    "                B_points.append(S[:,i])\n",
    "                if plot:\n",
    "                    plt.plot(S[0,i], S[1,i], clr, markersize=size_block)\n",
    "            elif np.degrees(np.arccos(np.dot(S[:,i], e3)/la.norm(S[:,i]))) < theta/2:\n",
    "                inside[2] = 1\n",
    "                C_inside.append(np.arccos(np.dot(S[:,i], e3)/la.norm(S[:,i])))\n",
    "                C_points.append(S[:,i])\n",
    "                if plot:\n",
    "                    plt.plot(S[0,i], S[1,i], clr, markersize=size_block)\n",
    "            elif np.degrees(np.arccos(np.dot(S[:,i], e4)/la.norm(S[:,i]))) < theta/2:\n",
    "                inside[3] = 1\n",
    "                D_inside.append(np.arccos(np.dot(S[:,i], e4)/la.norm(S[:,i])))\n",
    "                D_points.append(S[:,i])\n",
    "                if plot:\n",
    "                    plt.plot(S[0,i], S[1,i], clr, markersize=size_block)\n",
    "            else:\n",
    "                if plot:\n",
    "                    plt.plot(S[0,i], S[1,i],\"bo\", markersize=2)\n",
    "            if sum(inside) == 4:\n",
    "                r1 = True\n",
    "\n",
    "            point = ell_1(n)\n",
    "            if point[0] > 0 and point[1] > 0 and la.norm(point, 1) >= 1-e:\n",
    "                inside_r_2[0] = 1\n",
    "                if plot:\n",
    "                    plt.plot(point[0], point[1], \"ko\", markersize=size_block)\n",
    "            elif point[0] < 0 and point[1] > 0 and la.norm(point, 1) >= 1-e:\n",
    "                inside_r_2[1] = 1\n",
    "                if plot:\n",
    "                    plt.plot(point[0], point[1], \"ko\", markersize=size_block)\n",
    "            elif point[0] > 0 and point[1] < 0 and la.norm(point, 1) >= 1-e:\n",
    "                inside_r_2[2] = 1\n",
    "                if plot:\n",
    "                    plt.plot(point[0], point[1], \"ko\", markersize=size_block)\n",
    "            elif point[0] < 0 and point[1] < 0 and la.norm(point, 1) >= 1-e:\n",
    "                inside_r_2[3] = 1\n",
    "                if plot:\n",
    "                    plt.plot(point[0], point[1], \"ko\", markersize=size_block)\n",
    "            else:\n",
    "                if plot:\n",
    "                    plt.plot(point[0], point[1],\"bo\", markersize=2)\n",
    "            if r1 and sum(inside_r_2) == 4:\n",
    "                break\n",
    "\n",
    "            S = np.hstack((S, ell_1(n)))\n",
    "        total += S.shape[1]\n",
    "\n",
    "\n",
    "    if plot:\n",
    "        plt.plot(np.arange(-1,1, .001), [(1-np.abs(x)) for x in np.arange(-1,1, .001)], 'k--')\n",
    "        plt.plot(np.arange(-1,1, .001), [-(1-np.abs(x)) for x in np.arange(-1,1, .001)], 'k--')\n",
    "        plt.xlim(-1,1)\n",
    "        plt.ylim(-1,1)\n",
    "        plt.axes().set_aspect('equal')\n",
    "        plt.show()\n",
    "    error.append(total/trials)"
   ]
  },
  {
   "cell_type": "code",
   "execution_count": 5,
   "metadata": {},
   "outputs": [],
   "source": [
    "error = np.loadtxt(\"error_samll_eps.csv\",delimiter = \",\")"
   ]
  },
  {
   "cell_type": "code",
   "execution_count": 330,
   "metadata": {},
   "outputs": [
    {
     "data": {
      "text/plain": [
       "[171673.7, 17689.63, 1760.38, 163.85]"
      ]
     },
     "execution_count": 330,
     "metadata": {},
     "output_type": "execute_result"
    }
   ],
   "source": [
    "error"
   ]
  },
  {
   "cell_type": "code",
   "execution_count": 332,
   "metadata": {},
   "outputs": [
    {
     "data": {
      "image/png": "[encoded data removed]",
      "text/plain": [
       "<Figure size 432x288 with 1 Axes>"
      ]
     },
     "metadata": {
      "needs_background": "light"
     },
     "output_type": "display_data"
    }
   ],
   "source": [
    "xinfb = .90\n",
    "slope, intercept, r_value, p_value, std_err = stats.linregress([np.log(e) for e in [.1, .01, .001, .0001]], np.log(error[::-1]))\n",
    "sns.regplot(x=[np.log(e) for e in [.1, .01, .001, .0001]], y=np.log(error[::-1]), truncate=False, line_kws={\"color\": \"red\", \n",
    "                                                                                                           'label': \"Empirical\"})\n",
    "plt.text(-9, 7, r\"$y={0:.3f}x+{1:.1f}$\".format(slope,intercept), fontsize=12)\n",
    "slope, intercept, r_value, p_value, std_err = stats.linregress([np.log(e) for e in [.1, .01, .001, .0001]], np.log([anderson(e,.95,.05,2) for e in [.1, .01, .001, .0001]]))\n",
    "sns.regplot(x=[np.log(e) for e in [.1, .01, .001, .0001]], y=np.log([anderson(e,.95,.05,2) for e in [.1, .01, .001, .0001]]), truncate=False, line_kws={\"color\": \"blue\",\n",
    "                                                                                                                                                        'label':\"Theorem 1\"})\n",
    "plt.text(-7.5, 33, r\"$y={0:.3f}x+{1:.1f}$\".format(slope,intercept), fontsize=12)\n",
    "slope, intercept, r_value, p_value, std_err = stats.linregress([np.log(e) for e in [.1, .01, .001, .0001]], np.log([(1/xinfb)*(8/e)*(np.log(4) + np.log(1/(1-np.sqrt(1-.05)))) for e in [.1, .01, .001, .0001]]))\n",
    "sns.regplot(x=[np.log(e) for e in [.1, .01, .001, .0001]], y=np.log([(1/xinfb)*(8/e)*(np.log(4) + np.log(1/(1-np.sqrt(1-.05)))) for e in [.1, .01, .001, .0001]]), truncate=False, line_kws={\"color\": \"black\",\n",
    "                                                                                                                                                                                             'label':\"Theorem 2\"})\n",
    "plt.text(-6, 12, r\"$y={0:.3f}x+{1:.1f}$\".format(slope,intercept), fontsize=12)\n",
    "plt.plot([np.log(e) for e in [.1, .01, .001, .0001]], np.log(error[::-1]), \"rs\")\n",
    "plt.plot([np.log(e) for e in [.1, .01, .001, .0001]], [np.log(anderson(e,.95,.05,2)) for e in [.1, .01, .001, .0001]], \"bs\")\n",
    "plt.plot([np.log(e) for e in [.1, .01, .001, .0001]], [np.log((1/xinfb)*(8/e)*(np.log(4) + np.log(1/(1-np.sqrt(1-.05))))) for e in [.1, .01, .001, .0001]], \"ks\")\n",
    "plt.ylabel(\"Log(N)\", size=12)\n",
    "plt.xlabel(\"Log(ε)\", size=12)\n",
    "plt.title(\"Order of Complexity\", size=12)\n",
    "plt.legend()\n",
    "plt.savefig(\"error.png\")\n",
    "plt.show()\n"
   ]
  },
  {
   "cell_type": "code",
   "execution_count": 327,
   "metadata": {},
   "outputs": [
    {
     "data": {
      "image/png": "[encoded data removed]",
      "text/plain": [
       "<Figure size 432x288 with 1 Axes>"
      ]
     },
     "metadata": {
      "needs_background": "light"
     },
     "output_type": "display_data"
    }
   ],
   "source": [
    "\n",
    "slope, intercept, r_value, p_value, std_err = stats.linregress([np.log(e) for e in [.1, .01, .001, .0001]], np.log([166, 1189, 10172, 358019]))\n",
    "sns.regplot(x=[np.log(e) for e in [.1, .01, .001, .0001]], y=np.log([166, 1189, 10172, 358019]), truncate=False, line_kws={\"color\": \"red\", \n",
    "                                                                                                           'label': \"R1 and R2 Algorithm\"})\n",
    "plt.plot([np.log(e) for e in [.1, .01, .001, .0001]], np.log([166, 1189, 10172, 358019]), \"rs\")\n",
    "plt.text(-6, 11, r\"$y={0:.3f}x+{1:.1f}$\".format(slope,intercept), fontsize=12)\n",
    "plt.ylabel(\"Log(N)\", size=12)\n",
    "plt.xlabel(\"Log(ε)\", size=12)\n",
    "plt.title(\"Order of Complexity\", size=12)\n",
    "plt.legend()\n",
    "plt.savefig(\"N_for_new_alg.png\", bbox_inches='tight')\n",
    "plt.show()"
   ]
  },
  {
   "cell_type": "code",
   "execution_count": 1077,
   "metadata": {},
   "outputs": [],
   "source": [
    "np.savetxt(\"error_samll_eps.csv\", error, delimiter=\",\")"
   ]
  },
  {
   "cell_type": "code",
   "execution_count": 377,
   "metadata": {},
   "outputs": [],
   "source": [
    "from scipy.spatial.distance import directed_hausdorff\n",
    "N_table = []\n",
    "d_h = []\n",
    "e = .1"
   ]
  },
  {
   "cell_type": "code",
   "execution_count": 379,
   "metadata": {},
   "outputs": [
    {
     "data": {
      "text/plain": [
       "0.09966865249116204"
      ]
     },
     "execution_count": 379,
     "metadata": {},
     "output_type": "execute_result"
    }
   ],
   "source": [
    "(np.arctan(e))"
   ]
  },
  {
   "cell_type": "code",
   "execution_count": null,
   "metadata": {},
   "outputs": [],
   "source": [
    "n = 2\n",
    "e1 = np.array([[np.sqrt(2)/2],[np.sqrt(2)/2]])\n",
    "e2 = np.array([[-np.sqrt(2)/2],[np.sqrt(2)/2]])\n",
    "e3 = np.array([[-np.sqrt(2)/2],[-np.sqrt(2)/2]])\n",
    "e4 = np.array([[np.sqrt(2)/2],[-np.sqrt(2)/2]])\n",
    "plt.figure(figsize=(5, 5))\n",
    "plot = False\n",
    "e = .0001\n",
    "#p_ = .95\n",
    "t = (np.arctan(e))\n",
    "fig = plt.figure()\n",
    "ax = fig.add_subplot(111)\n",
    "fig.set_size_inches(8,6)\n",
    "if plot:\n",
    "    A_left = np.radians(45+t/2)\n",
    "    A_right = np.radians(45-t/2)\n",
    "    B_left = np.radians(135+t/2)\n",
    "    B_right = np.radians(135-t/2)\n",
    "    C_left = np.radians(225+t/2)\n",
    "    C_right = np.radians(225-t/2)\n",
    "    D_left = np.radians(315+t/2)\n",
    "    D_right = np.radians(315-t/2)\n",
    "    A = (A_left, A_right)\n",
    "    B = (B_left, B_right)\n",
    "    C = (C_left, C_right)\n",
    "    D = (D_left, D_right)\n",
    "    sets = list((A, B,C, D))\n",
    "    unit = math.pi/4\n",
    "\n",
    "    letter = A\n",
    "    a = (np.sin(letter[0])/np.cos(letter[0]))\n",
    "    b = (np.sin(letter[1])/np.cos(letter[1]))\n",
    "    #c = (np.sin(unit)/np.cos(unit))\n",
    "    plt.plot([0,(a/(a+1))],[0, 1/(a+1)], 'r')\n",
    "    plt.plot([0,(b/(b+1))],[0, 1/(b+1)], 'r')\n",
    "    #plt.plot([0,(c/(c+1))],[0, 1/(c+1)], 'b--')\n",
    "\n",
    "    letter = B\n",
    "    a = -(np.sin(letter[0])/np.cos(letter[0]))\n",
    "    b = (np.sin(letter[1])/np.cos(letter[1]))\n",
    "    #c = (np.sin(3*unit)/np.cos(3*unit))\n",
    "    plt.plot([0, -(a/(a+1))],[0, 1/(a+1)], 'r')\n",
    "    plt.plot([0,-(b/(b-1))],[0, -1/(b-1)], 'r')\n",
    "    #plt.plot([0, -(c/(c-1))],[0, -1/(c-1)], 'b--')\n",
    "\n",
    "    letter = C\n",
    "    a = -(np.sin(letter[0])/np.cos(letter[0]))\n",
    "    b = -(np.sin(letter[1])/np.cos(letter[1]))\n",
    "    #c = -(np.sin(5*unit)/np.cos(5*unit))\n",
    "    plt.plot([0, -(a/(a-1))],[0, 1/(a-1)], 'r')\n",
    "    plt.plot([0, (b/(-b+1))],[0, 1/(b-1)], 'r')\n",
    "    #plt.plot([0,(c/(-c+1))],[0, 1/(c-1)], 'b--')\n",
    "\n",
    "    letter = D\n",
    "    a = (np.sin(letter[0])/np.cos(letter[0]))\n",
    "    b = (np.sin(letter[1])/np.cos(letter[1]))\n",
    "    #c = (np.sin(7*unit)/np.cos(7*unit))\n",
    "    plt.plot([0,(a/(a-1))],[0, 1/(a-1)], 'r')\n",
    "    plt.plot([0,(b/(b-1))],[0, 1/(b-1)], 'r')\n",
    "    #plt.plot([0,(c/(c-1))],[0, 1/(c-1)], 'b--')\n",
    "\n",
    "\n",
    "A_inside = []\n",
    "A_points = []\n",
    "B_inside = []\n",
    "B_points = []\n",
    "C_inside = []\n",
    "C_points = []\n",
    "D_inside = []\n",
    "D_points = []\n",
    "thresh = 10000000\n",
    "S = np.zeros((n, 1))\n",
    "S = np.hstack((S, ell_1(n)))\n",
    "S = np.delete(S, 0,1)\n",
    "inside = [0, 0, 0, 0]\n",
    "inside_r_2 = [0, 0, 0, 0]\n",
    "clr = \"rs\"\n",
    "size_block =  5\n",
    "r1 = False\n",
    "for i in range(thresh):\n",
    "    theta = t\n",
    "    if np.degrees(np.arccos(np.dot(S[:,i], e1)/la.norm(S[:,i]))) < theta/2:\n",
    "        inside[0] = 1\n",
    "        A_inside.append(np.arccos(np.dot(S[:,i], e1)/la.norm(S[:,i])))\n",
    "        A_points.append(S[:,i])\n",
    "        if plot:\n",
    "            plt.plot(S[0,i], S[1,i], clr, markersize=size_block)\n",
    "    elif np.degrees(np.arccos(np.dot(S[:,i], e2)/la.norm(S[:,i]))) < theta/2:\n",
    "        inside[1] = 1\n",
    "        B_inside.append(np.arccos(np.dot(S[:,i], e2)/la.norm(S[:,i])))\n",
    "        B_points.append(S[:,i])\n",
    "        if plot:\n",
    "            plt.plot(S[0,i], S[1,i], clr, markersize=size_block)\n",
    "    elif np.degrees(np.arccos(np.dot(S[:,i], e3)/la.norm(S[:,i]))) < theta/2:\n",
    "        inside[2] = 1\n",
    "        C_inside.append(np.arccos(np.dot(S[:,i], e3)/la.norm(S[:,i])))\n",
    "        C_points.append(S[:,i])\n",
    "        if plot:\n",
    "            plt.plot(S[0,i], S[1,i], clr, markersize=size_block)\n",
    "    elif np.degrees(np.arccos(np.dot(S[:,i], e4)/la.norm(S[:,i]))) < theta/2:\n",
    "        inside[3] = 1\n",
    "        D_inside.append(np.arccos(np.dot(S[:,i], e4)/la.norm(S[:,i])))\n",
    "        D_points.append(S[:,i])\n",
    "        if plot:\n",
    "            plt.plot(S[0,i], S[1,i], clr, markersize=size_block)\n",
    "    else:\n",
    "        if plot:\n",
    "            plt.plot(S[0,i], S[1,i],\"bo\", markersize=2)\n",
    "    if sum(inside) == 4:\n",
    "        r1 = True\n",
    "    \n",
    "    point = ell_1(n)\n",
    "    if point[0] > 0 and point[1] > 0 and la.norm(point, 1) >= 1-e:\n",
    "        inside_r_2[0] = 1\n",
    "        if plot:\n",
    "            plt.plot(point[0], point[1], \"ko\", markersize=size_block)\n",
    "    elif point[0] < 0 and point[1] > 0 and la.norm(point, 1) >= 1-e:\n",
    "        inside_r_2[1] = 1\n",
    "        if plot:\n",
    "            plt.plot(point[0], point[1], \"ko\", markersize=size_block)\n",
    "    elif point[0] > 0 and point[1] < 0 and la.norm(point, 1) >= 1-e:\n",
    "        inside_r_2[2] = 1\n",
    "        if plot:\n",
    "            plt.plot(point[0], point[1], \"ko\", markersize=size_block)\n",
    "    elif point[0] < 0 and point[1] < 0 and la.norm(point, 1) >= 1-e:\n",
    "        inside_r_2[3] = 1\n",
    "        if plot:\n",
    "            plt.plot(point[0], point[1], \"ko\", markersize=size_block)\n",
    "    else:\n",
    "        if plot:\n",
    "            plt.plot(point[0], point[1],\"bo\", markersize=2)\n",
    "    if r1 and sum(inside_r_2) == 4:\n",
    "        break\n",
    "        \n",
    "    S = np.hstack((S, ell_1(n)))\n",
    "\n",
    "\n",
    "N = S.shape[1]\n",
    "print(N)\n",
    "\n",
    "\n",
    "t_ = [A_points[np.argmax(A_inside)], B_points[np.argmax(B_inside)], C_points[np.argmax(C_inside)], D_points[np.argmax(D_inside)]]\n",
    "thetas = [cart2pol(t_[0][0], t_[0][1]), cart2pol(t_[1][0], t_[1][1]), 360+cart2pol(t_[2][0], t_[2][1]), 360+cart2pol(t_[3][0], t_[3][1])]\n",
    "directions = [[np.cos(np.radians(thetas[i])), np.sin(np.radians(thetas[i]))] for i in range(4)]\n",
    "colors = np.array([[np.dot(S[:,i], directions[j]) for i in range(N)] for j in range(4)])\n",
    "scales = [np.dot(S[:,np.argmax(colors[i])], directions[i]) for i in range(4)]\n",
    "supports = np.array([ret_supp([directions[i][0]*scales[i], directions[i][1]*scales[i]], False) for i in range(4)])\n",
    "#supports = np.array([ret_supp([directions[i][0], directions[i][1]], False) for i in range(4)])\n",
    "for i in range(4):\n",
    "        plt.plot(supports[i][0], supports[i][1], \"k\", linewidth=2)\n",
    "\n",
    "if plot:\n",
    "    plt.plot(np.arange(-1,1, .001), [(1-np.abs(x)) for x in np.arange(-1,1, .001)], 'k--')\n",
    "    plt.plot(np.arange(-1,1, .001), [-(1-np.abs(x)) for x in np.arange(-1,1, .001)], 'k--')\n",
    "    plt.xlim(-1.25,1.25)\n",
    "    plt.ylim(-1.25,1.25)\n",
    "    ax.set_aspect('equal')\n",
    "    plt.title(r\"$\\epsilon = .0001$\",size=15)\n",
    "    plt.savefig(\"ep0001.png\", bbox_inches='tight')\n",
    "    plt.show()\n",
    "# u = np.array([[1.0, 0.0],\n",
    "\n",
    "#              [0.0, 1.0],\n",
    "\n",
    "#               [-1.0, 0.0],\n",
    "\n",
    "#               [0.0, -1.0]])\n",
    "\n",
    "# v = S\n",
    "\n",
    "\n",
    "N_table.append(N)\n"
   ]
  },
  {
   "cell_type": "code",
   "execution_count": 306,
   "metadata": {},
   "outputs": [],
   "source": [
    "N_table.append(N)"
   ]
  },
  {
   "cell_type": "code",
   "execution_count": 307,
   "metadata": {},
   "outputs": [
    {
     "data": {
      "text/plain": [
       "[166, 1189, 10172, 358019]"
      ]
     },
     "execution_count": 307,
     "metadata": {},
     "output_type": "execute_result"
    }
   ],
   "source": [
    "N_table"
   ]
  },
  {
   "cell_type": "code",
   "execution_count": 359,
   "metadata": {},
   "outputs": [],
   "source": [
    "from scipy.spatial.distance import directed_hausdorff\n",
    "N_table = []\n",
    "d_h = []\n"
   ]
  },
  {
   "cell_type": "code",
   "execution_count": 363,
   "metadata": {},
   "outputs": [
    {
     "name": "stdout",
     "output_type": "stream",
     "text": [
      "here\n"
     ]
    }
   ],
   "source": [
    "epsilon_d_h = .0001\n",
    "delta_d_h = .05\n",
    "N = int(np.ceil(1*(8/epsilon_d_h)*(np.log(4)+np.log(1/(1-np.sqrt(1-delta_d_h))))))\n",
    "\n",
    "S = np.zeros((n, 1))\n",
    "for i in tqdm(range(N)):\n",
    "    S = np.hstack((S, ell_1(n)))\n",
    "S = np.delete(S, 0,1)\n",
    "print(\"here\")\n",
    "fb_d_h = compute_fb(S, 1, 2)\n",
    "\n",
    "d_h.append(1-la.norm(S, 1))\n",
    "N_table.append(N)"
   ]
  },
  {
   "cell_type": "code",
   "execution_count": 364,
   "metadata": {},
   "outputs": [
    {
     "data": {
      "text/plain": [
       "[405, 4050, 40500, 404995]"
      ]
     },
     "execution_count": 364,
     "metadata": {},
     "output_type": "execute_result"
    }
   ],
   "source": [
    "N_table"
   ]
  },
  {
   "cell_type": "code",
   "execution_count": 172,
   "metadata": {},
   "outputs": [
    {
     "data": {
      "text/html": [
       "<div>\n",
       "<style scoped>\n",
       "    .dataframe tbody tr th:only-of-type {\n",
       "        vertical-align: middle;\n",
       "    }\n",
       "\n",
       "    .dataframe tbody tr th {\n",
       "        vertical-align: top;\n",
       "    }\n",
       "\n",
       "    .dataframe thead th {\n",
       "        text-align: right;\n",
       "    }\n",
       "</style>\n",
       "<table border=\"1\" class=\"dataframe\">\n",
       "  <thead>\n",
       "    <tr style=\"text-align: right;\">\n",
       "      <th></th>\n",
       "      <th>$d_H$</th>\n",
       "      <th>$N$</th>\n",
       "    </tr>\n",
       "  </thead>\n",
       "  <tbody>\n",
       "    <tr>\n",
       "      <th>0.1000</th>\n",
       "      <td>1.077556e-03</td>\n",
       "      <td>421.0</td>\n",
       "    </tr>\n",
       "    <tr>\n",
       "      <th>0.0100</th>\n",
       "      <td>4.190159e-04</td>\n",
       "      <td>4207.0</td>\n",
       "    </tr>\n",
       "    <tr>\n",
       "      <th>0.0010</th>\n",
       "      <td>6.801858e-06</td>\n",
       "      <td>42068.0</td>\n",
       "    </tr>\n",
       "    <tr>\n",
       "      <th>0.0001</th>\n",
       "      <td>1.560297e-07</td>\n",
       "      <td>420675.0</td>\n",
       "    </tr>\n",
       "  </tbody>\n",
       "</table>\n",
       "</div>"
      ],
      "text/plain": [
       "               $d_H$       $N$\n",
       "0.1000  1.077556e-03     421.0\n",
       "0.0100  4.190159e-04    4207.0\n",
       "0.0010  6.801858e-06   42068.0\n",
       "0.0001  1.560297e-07  420675.0"
      ]
     },
     "execution_count": 172,
     "metadata": {},
     "output_type": "execute_result"
    }
   ],
   "source": [
    "import pandas as pd\n",
    "table = np.array([d_h, N_table])\n",
    "pd.DataFrame(table.T, index = e_, columns=[r'$d_H$', r'$N$'])"
   ]
  },
  {
   "cell_type": "code",
   "execution_count": 341,
   "metadata": {},
   "outputs": [
    {
     "name": "stdout",
     "output_type": "stream",
     "text": [
      "1\n"
     ]
    },
    {
     "data": {
      "image/png": "[encoded data removed]",
      "text/plain": [
       "<Figure size 576x432 with 1 Axes>"
      ]
     },
     "metadata": {
      "needs_background": "light"
     },
     "output_type": "display_data"
    }
   ],
   "source": [
    "import scipy.stats as spy\n",
    "epsilon_c = .001\n",
    "delta_c = 1-np.sqrt(1-.05)\n",
    "q__ = .99\n",
    "p_ = .99\n",
    "#s = 1/np.tan(math.pi*(1/2-(1-q__)/(2*(1-p_))))\n",
    "s = 1\n",
    "\n",
    "print(s)\n",
    "N = math.ceil((1/(2*q__-1)) * 4 * (2+ epsilon_c)/(epsilon_c)*(np.log(4)+ np.log(1/delta_c)))\n",
    "\n",
    "fig = plt.figure()\n",
    "ax = fig.add_subplot(111)\n",
    "fig.set_size_inches(8,6)\n",
    "\n",
    "samples_n= np.zeros((n, 1))\n",
    "for i in range(N):\n",
    "    choice = np.random.choice(2, 1, p=[p_, 1-p_])\n",
    "    if(choice == 0):\n",
    "        samples_n = np.hstack((samples_n, ell_1(n)))\n",
    "    if(choice == 1):\n",
    "        samples_n = np.hstack((samples_n,np.vstack((stats.cauchy.rvs(loc=0, scale=s, size=1), stats.cauchy.rvs(loc=0, scale=s, size=1)))))\n",
    "plt.plot(samples_n[0,:], samples_n[1, :], \"bo\")\n",
    "plt.title(r\"S = 99% Uniform in $B^2_1$ and 1% Cauchy(0,1)\")\n",
    "plt.savefig(\"cauchy.png\", bbox_inches='tight')\n",
    "\n",
    "plt.show()"
   ]
  },
  {
   "cell_type": "code",
   "execution_count": 342,
   "metadata": {},
   "outputs": [
    {
     "name": "stderr",
     "output_type": "stream",
     "text": [
      "<ipython-input-336-a5f13d64593b>:7: RuntimeWarning: invalid value encountered in true_divide\n",
      "  if support(X, X[:,i] / la.norm(X[:,i]), q) > np.dot(X[:,i], X[:,i]/la.norm(X[:,i])):\n"
     ]
    },
    {
     "data": {
      "image/png": "[encoded data removed]",
      "text/plain": [
       "<Figure size 576x432 with 1 Axes>"
      ]
     },
     "metadata": {
      "needs_background": "light"
     },
     "output_type": "display_data"
    }
   ],
   "source": [
    "fb = compute_fb(samples_n, q__, 2)\n",
    "t_ = np.degrees(2*(math.pi/4-((np.arctan(1/(1+epsilon_c))))))\n",
    "thetas = [45, 135, 225, 315]\n",
    "thetas = [thetas[i] + t_ for i in range(4)] \n",
    "directions = [[np.cos(np.radians(thetas[i])), np.sin(np.radians(thetas[i]))] for i in range(4)]\n",
    "colors = np.array([[np.dot(fb[:,i], directions[j]) for i in range(fb.shape[1])] for j in range(4)])\n",
    "scales = [np.dot(fb[:,np.argmax(colors[i])], directions[i]) for i in range(4)]\n",
    "supports = np.array([ret_supp([directions[i][0]*scales[i], directions[i][1]*scales[i]], False) for i in range(4)])\n",
    "\n",
    "fig = plt.figure()\n",
    "ax = fig.add_subplot(111)\n",
    "fig.set_size_inches(8,6)\n",
    "ax.set_aspect('equal')\n",
    "plt.plot(np.arange(-1,1, .001), [(1-np.abs(x)) for x in np.arange(-1,1, .001)], 'k--')\n",
    "plt.plot(np.arange(-1,1, .001), [-(1-np.abs(x)) for x in np.arange(-1,1, .001)], 'k--')\n",
    "plt.plot(fb[0,:], fb[1, :], \"ro\", markersize = .5)\n",
    "\n",
    "for i in range(4):\n",
    "        plt.plot(supports[i][0], supports[i][1], \"k\", linewidth=2)\n",
    "plt.xlim(-1.5,1.5)\n",
    "plt.ylim(-1.5,1.5)\n",
    "plt.title(\"Output of Algorithm 1 with input S\", size=12)\n",
    "\n",
    "\n",
    "\n",
    "plt.savefig(\"fb_cauchy.png\", bbox_inches='tight')\n"
   ]
  },
  {
   "cell_type": "code",
   "execution_count": 314,
   "metadata": {},
   "outputs": [
    {
     "data": {
      "text/plain": [
       "24912"
      ]
     },
     "execution_count": 314,
     "metadata": {},
     "output_type": "execute_result"
    }
   ],
   "source": [
    "N"
   ]
  },
  {
   "cell_type": "code",
   "execution_count": 1006,
   "metadata": {},
   "outputs": [
    {
     "data": {
      "text/plain": [
       "(0.15951909458758143, 1, 22)"
      ]
     },
     "execution_count": 1006,
     "metadata": {},
     "output_type": "execute_result"
    }
   ],
   "source": [
    "directed_hausdorff(u, v.T)"
   ]
  },
  {
   "cell_type": "code",
   "execution_count": 1003,
   "metadata": {},
   "outputs": [
    {
     "data": {
      "text/plain": [
       "(2, 177)"
      ]
     },
     "execution_count": 1003,
     "metadata": {},
     "output_type": "execute_result"
    }
   ],
   "source": []
  },
  {
   "cell_type": "code",
   "execution_count": 338,
   "metadata": {},
   "outputs": [
    {
     "name": "stderr",
     "output_type": "stream",
     "text": [
      "100%|██████████| 100/100 [00:00<00:00, 797.66it/s]\n"
     ]
    },
    {
     "data": {
      "text/plain": [
       "[]"
      ]
     },
     "execution_count": 338,
     "metadata": {},
     "output_type": "execute_result"
    },
    {
     "data": {
      "image/png": "[encoded data removed]",
      "text/plain": [
       "<Figure size 432x288 with 1 Axes>"
      ]
     },
     "metadata": {
      "needs_background": "light"
     },
     "output_type": "display_data"
    }
   ],
   "source": [
    "N = 100\n",
    "\n",
    "S = np.zeros((n, 1))\n",
    "for i in tqdm(range(N)):\n",
    "    S = np.hstack((S, ell_1(n)))\n",
    "    S = np.delete(S, 0,1)\n",
    "    plt.plot(S[0, :], S[1, :], \"bo\")\n",
    "    temp = compute_fb(S, .95, 2)\n",
    "    plt.plot(temp[0, :], temp[1, :], \"ro\")\n",
    "plt.plot()\n"
   ]
  },
  {
   "cell_type": "code",
   "execution_count": null,
   "metadata": {},
   "outputs": [],
   "source": []
  }
 ],
 "metadata": {
  "kernelspec": {
   "display_name": "Python 3",
   "language": "python",
   "name": "python3"
  },
  "language_info": {
   "codemirror_mode": {
    "name": "ipython",
    "version": 3
   },
   "file_extension": ".py",
   "mimetype": "text/x-python",
   "name": "python",
   "nbconvert_exporter": "python",
   "pygments_lexer": "ipython3",
   "version": "3.8.5"
  }
 },
 "nbformat": 4,
 "nbformat_minor": 4
}
