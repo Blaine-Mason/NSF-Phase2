{
 "cells": [
  {
   "cell_type": "code",
   "execution_count": 1,
   "metadata": {},
   "outputs": [],
   "source": [
    "import numpy as np\n",
    "import numpy.linalg as la\n",
    "import matplotlib.pyplot as plt\n",
    "import pandas as pd\n",
    "import math\n",
    "import seaborn as sns\n",
    "import seaborn as sns\n",
    "from scipy import stats\n",
    "\n",
    "def ell_1(n):\n",
    "    U = np.random.uniform(0,1,n)\n",
    "    tmp = np.array([0,1])\n",
    "    Final = np.zeros(n)\n",
    "    U = np.hstack((U,tmp))\n",
    "    U = np.sort(U)\n",
    "    for i in range(1,n+1):\n",
    "        Final[i-1] = U[i] - U[i-1]\n",
    "    Final = np.reshape(Final, (n,1))\n",
    "    for j in range(n):\n",
    "        binom = np.random.binomial(1,.5)\n",
    "        if(binom == 1):\n",
    "            Final[j] = Final[j]*(-1)\n",
    "    return Final"
   ]
  },
  {
   "cell_type": "code",
   "execution_count": 2,
   "metadata": {},
   "outputs": [],
   "source": [
    "def support(X, val, q): # Set q to be the qth quantile\n",
    "    return np.quantile((X.T).dot(val), q)\n",
    "\n",
    "def compute_fb(X, q, n):\n",
    "    polar_body = np.ones((n,0))\n",
    "    for i in range(X.shape[1]):\n",
    "        if support(X, X[:,i] / la.norm(X[:,i]), q) > np.dot(X[:,i], X[:,i]/la.norm(X[:,i])): \n",
    "            polar_body = np.hstack((polar_body, np.array(X[:,i]).reshape(n,1)))\n",
    "    return polar_body"
   ]
  },
  {
   "cell_type": "code",
   "execution_count": 3,
   "metadata": {},
   "outputs": [],
   "source": [
    "def anderson(e,q,d,n):\n",
    "    a = (1024/(e**2*(1-q)**2))\n",
    "    b = n*np.log(a*n) + np.log(4/d)\n",
    "    return a*b"
   ]
  },
  {
   "cell_type": "code",
   "execution_count": 4,
   "metadata": {},
   "outputs": [],
   "source": [
    "def cart2pol(x, y):\n",
    "    rho = np.sqrt(x**2 + y**2)\n",
    "    phi = np.arctan2(y, x)\n",
    "    return math.degrees(phi)"
   ]
  },
  {
   "cell_type": "code",
   "execution_count": 5,
   "metadata": {},
   "outputs": [],
   "source": [
    "def ret_supp(point, ret_vals):\n",
    "    \n",
    "    if point[0] == 0:\n",
    "        m = 0\n",
    "    else:\n",
    "        m = -math.pow(point[1]/point[0],-1)\n",
    "    #print(m)\n",
    "    b = point[1] + -m*point[0]\n",
    "   # print(b)\n",
    "    #print(f'y = {m}x + {b}')\n",
    "    x = np.arange(-2,2,.01)\n",
    "    y = m*x + b\n",
    "    if ret_vals:\n",
    "        return m, b\n",
    "    else:\n",
    "        return x, y"
   ]
  },
  {
   "cell_type": "code",
   "execution_count": 6,
   "metadata": {},
   "outputs": [],
   "source": [
    "from tqdm import tqdm"
   ]
  },
  {
   "cell_type": "code",
   "execution_count": 7,
   "metadata": {},
   "outputs": [],
   "source": [
    "e_ = [.1, .01, .001, .0001]"
   ]
  },
  {
   "cell_type": "code",
   "execution_count": 52,
   "metadata": {
    "scrolled": true,
    "tags": []
   },
   "outputs": [
    {
     "name": "stderr",
     "output_type": "stream",
     "text": [
      "  0%|                                                     | 0/4 [00:00<?, ?it/s]\n",
      "  0%|                                                    | 0/50 [00:00<?, ?it/s]\u001b[A\n",
      "  2%|▉                                           | 1/50 [00:07<06:02,  7.40s/it]\u001b[A\n",
      "  4%|█▊                                          | 2/50 [00:13<05:16,  6.59s/it]\u001b[A\n",
      "  6%|██▋                                         | 3/50 [00:21<05:49,  7.44s/it]\u001b[A\n",
      "  8%|███▌                                        | 4/50 [00:30<06:01,  7.85s/it]\u001b[A\n",
      " 10%|████▍                                       | 5/50 [00:35<05:09,  6.88s/it]\u001b[A\n",
      " 12%|█████▎                                      | 6/50 [00:38<04:11,  5.72s/it]\u001b[A\n",
      " 14%|██████▏                                     | 7/50 [00:42<03:41,  5.15s/it]\u001b[A\n",
      " 16%|███████                                     | 8/50 [00:51<04:20,  6.20s/it]\u001b[A\n",
      " 18%|███████▉                                    | 9/50 [00:56<04:00,  5.87s/it]\u001b[A\n",
      " 20%|████████▌                                  | 10/50 [01:05<04:26,  6.67s/it]\u001b[A\n",
      " 22%|█████████▍                                 | 11/50 [01:13<04:41,  7.21s/it]\u001b[A\n",
      " 24%|██████████▎                                | 12/50 [01:16<03:44,  5.90s/it]\u001b[A\n",
      " 26%|███████████▏                               | 13/50 [01:24<04:07,  6.70s/it]\u001b[A\n",
      " 28%|████████████                               | 14/50 [01:33<04:23,  7.33s/it]\u001b[A\n",
      " 30%|████████████▉                              | 15/50 [01:42<04:28,  7.67s/it]\u001b[A\n",
      " 32%|█████████████▊                             | 16/50 [01:50<04:28,  7.90s/it]\u001b[A\n",
      " 34%|██████████████▌                            | 17/50 [01:59<04:26,  8.06s/it]\u001b[A\n",
      " 36%|███████████████▍                           | 18/50 [02:07<04:20,  8.13s/it]\u001b[A\n",
      " 38%|████████████████▎                          | 19/50 [02:11<03:39,  7.10s/it]\u001b[A\n",
      " 40%|█████████████████▏                         | 20/50 [02:20<03:46,  7.54s/it]\u001b[A\n",
      " 42%|██████████████████                         | 21/50 [02:29<03:46,  7.82s/it]\u001b[A\n",
      " 44%|██████████████████▉                        | 22/50 [02:37<03:44,  8.01s/it]\u001b[A\n",
      " 46%|███████████████████▊                       | 23/50 [02:42<03:13,  7.18s/it]\u001b[A\n",
      " 48%|████████████████████▋                      | 24/50 [02:49<03:06,  7.17s/it]\u001b[A\n",
      " 50%|█████████████████████▌                     | 25/50 [02:56<02:54,  6.98s/it]\u001b[A\n",
      " 52%|██████████████████████▎                    | 26/50 [03:04<02:58,  7.43s/it]\u001b[A\n",
      " 54%|███████████████████████▏                   | 27/50 [03:13<02:57,  7.73s/it]\u001b[A\n",
      " 56%|████████████████████████                   | 28/50 [03:21<02:54,  7.95s/it]\u001b[A\n",
      " 58%|████████████████████████▉                  | 29/50 [03:30<02:49,  8.09s/it]\u001b[A\n",
      " 60%|█████████████████████████▊                 | 30/50 [03:38<02:44,  8.20s/it]\u001b[A\n",
      " 62%|██████████████████████████▋                | 31/50 [03:44<02:21,  7.44s/it]\u001b[A\n",
      " 64%|███████████████████████████▌               | 32/50 [03:52<02:19,  7.73s/it]\u001b[A\n",
      " 66%|████████████████████████████▍              | 33/50 [04:01<02:14,  7.94s/it]\u001b[A\n",
      " 68%|█████████████████████████████▏             | 34/50 [04:07<01:59,  7.47s/it]\u001b[A\n",
      " 70%|██████████████████████████████             | 35/50 [04:15<01:56,  7.76s/it]\u001b[A\n",
      " 72%|██████████████████████████████▉            | 36/50 [04:22<01:44,  7.48s/it]\u001b[A\n",
      " 74%|███████████████████████████████▊           | 37/50 [04:28<01:28,  6.80s/it]\u001b[A\n",
      " 76%|████████████████████████████████▋          | 38/50 [04:36<01:27,  7.30s/it]\u001b[A\n",
      " 78%|█████████████████████████████████▌         | 39/50 [04:43<01:19,  7.27s/it]\u001b[A\n",
      " 80%|██████████████████████████████████▍        | 40/50 [04:52<01:16,  7.63s/it]\u001b[A\n",
      " 82%|███████████████████████████████████▎       | 41/50 [05:00<01:10,  7.87s/it]\u001b[A\n",
      " 84%|████████████████████████████████████       | 42/50 [05:09<01:04,  8.06s/it]\u001b[A\n",
      " 86%|████████████████████████████████████▉      | 43/50 [05:17<00:57,  8.19s/it]\u001b[A\n",
      " 88%|█████████████████████████████████████▊     | 44/50 [05:26<00:49,  8.30s/it]\u001b[A\n",
      " 90%|██████████████████████████████████████▋    | 45/50 [05:34<00:41,  8.37s/it]\u001b[A\n",
      " 92%|███████████████████████████████████████▌   | 46/50 [05:43<00:33,  8.40s/it]\u001b[A\n",
      " 94%|████████████████████████████████████████▍  | 47/50 [05:48<00:22,  7.58s/it]\u001b[A\n",
      " 96%|█████████████████████████████████████████▎ | 48/50 [05:56<00:15,  7.69s/it]\u001b[A\n",
      " 98%|██████████████████████████████████████████▏| 49/50 [06:05<00:07,  7.95s/it]\u001b[A\n",
      "100%|███████████████████████████████████████████| 50/50 [06:13<00:00,  7.48s/it]\u001b[A\n",
      " 25%|███████████                                 | 1/4 [06:13<18:41, 373.76s/it]\n",
      "  0%|                                                    | 0/50 [00:00<?, ?it/s]\u001b[A\n",
      "  2%|▉                                           | 1/50 [00:00<00:15,  3.11it/s]\u001b[A\n",
      "  4%|█▊                                          | 2/50 [00:01<00:31,  1.53it/s]\u001b[A\n",
      "  6%|██▋                                         | 3/50 [00:02<00:43,  1.08it/s]\u001b[A\n",
      "  8%|███▌                                        | 4/50 [00:02<00:35,  1.30it/s]\u001b[A\n",
      " 10%|████▍                                       | 5/50 [00:03<00:34,  1.30it/s]\u001b[A\n",
      " 12%|█████▎                                      | 6/50 [00:04<00:37,  1.18it/s]\u001b[A\n",
      " 14%|██████▏                                     | 7/50 [00:07<00:57,  1.33s/it]\u001b[A\n",
      " 16%|███████                                     | 8/50 [00:08<00:50,  1.21s/it]\u001b[A\n",
      " 18%|███████▉                                    | 9/50 [00:08<00:44,  1.09s/it]\u001b[A\n",
      " 20%|████████▌                                  | 10/50 [00:09<00:37,  1.06it/s]\u001b[A\n",
      " 22%|█████████▍                                 | 11/50 [00:09<00:29,  1.34it/s]\u001b[A\n",
      " 24%|██████████▎                                | 12/50 [00:10<00:29,  1.27it/s]\u001b[A\n",
      " 26%|███████████▏                               | 13/50 [00:11<00:26,  1.42it/s]\u001b[A\n",
      " 28%|████████████                               | 14/50 [00:11<00:20,  1.80it/s]\u001b[A\n",
      " 30%|████████████▉                              | 15/50 [00:12<00:21,  1.62it/s]\u001b[A\n",
      " 32%|█████████████▊                             | 16/50 [00:12<00:22,  1.52it/s]\u001b[A\n",
      " 34%|██████████████▌                            | 17/50 [00:14<00:27,  1.19it/s]\u001b[A\n",
      " 36%|███████████████▍                           | 18/50 [00:16<00:43,  1.37s/it]\u001b[A\n",
      " 38%|████████████████▎                          | 19/50 [00:17<00:32,  1.06s/it]\u001b[A\n",
      " 40%|█████████████████▏                         | 20/50 [00:17<00:24,  1.22it/s]\u001b[A\n",
      " 42%|██████████████████                         | 21/50 [00:18<00:28,  1.02it/s]\u001b[A\n",
      " 44%|██████████████████▉                        | 22/50 [00:21<00:39,  1.39s/it]\u001b[A\n",
      " 46%|███████████████████▊                       | 23/50 [00:21<00:33,  1.23s/it]\u001b[A\n",
      " 48%|████████████████████▋                      | 24/50 [00:22<00:26,  1.03s/it]\u001b[A\n",
      " 50%|█████████████████████▌                     | 25/50 [00:23<00:22,  1.12it/s]\u001b[A\n",
      " 52%|██████████████████████▎                    | 26/50 [00:24<00:24,  1.03s/it]\u001b[A\n",
      " 54%|███████████████████████▏                   | 27/50 [00:25<00:23,  1.04s/it]\u001b[A\n",
      " 56%|████████████████████████                   | 28/50 [00:26<00:24,  1.12s/it]\u001b[A\n",
      " 58%|████████████████████████▉                  | 29/50 [00:27<00:23,  1.12s/it]\u001b[A\n",
      " 60%|█████████████████████████▊                 | 30/50 [00:29<00:25,  1.27s/it]\u001b[A\n",
      " 62%|██████████████████████████▋                | 31/50 [00:29<00:19,  1.03s/it]\u001b[A\n",
      " 64%|███████████████████████████▌               | 32/50 [00:30<00:16,  1.07it/s]\u001b[A\n",
      " 66%|████████████████████████████▍              | 33/50 [00:31<00:14,  1.16it/s]\u001b[A\n",
      " 68%|█████████████████████████████▏             | 34/50 [00:32<00:15,  1.01it/s]\u001b[A\n",
      " 70%|██████████████████████████████             | 35/50 [00:33<00:13,  1.11it/s]\u001b[A\n",
      " 72%|██████████████████████████████▉            | 36/50 [00:33<00:10,  1.31it/s]\u001b[A\n",
      " 74%|███████████████████████████████▊           | 37/50 [00:34<00:09,  1.38it/s]\u001b[A\n",
      " 76%|████████████████████████████████▋          | 38/50 [00:35<00:09,  1.21it/s]\u001b[A\n",
      " 78%|█████████████████████████████████▌         | 39/50 [00:37<00:12,  1.10s/it]\u001b[A\n",
      " 80%|██████████████████████████████████▍        | 40/50 [00:41<00:19,  1.91s/it]\u001b[A\n",
      " 82%|███████████████████████████████████▎       | 41/50 [00:42<00:14,  1.63s/it]\u001b[A\n",
      " 84%|████████████████████████████████████       | 42/50 [00:43<00:12,  1.52s/it]\u001b[A\n",
      " 86%|████████████████████████████████████▉      | 43/50 [00:44<00:09,  1.31s/it]\u001b[A\n",
      " 88%|█████████████████████████████████████▊     | 44/50 [00:45<00:07,  1.19s/it]\u001b[A\n",
      " 90%|██████████████████████████████████████▋    | 45/50 [00:45<00:05,  1.09s/it]\u001b[A\n",
      " 92%|███████████████████████████████████████▌   | 46/50 [00:46<00:03,  1.05it/s]\u001b[A\n",
      " 94%|████████████████████████████████████████▍  | 47/50 [00:47<00:03,  1.01s/it]\u001b[A\n",
      " 96%|█████████████████████████████████████████▎ | 48/50 [00:49<00:02,  1.34s/it]\u001b[A\n",
      " 98%|██████████████████████████████████████████▏| 49/50 [00:50<00:01,  1.29s/it]\u001b[A\n",
      "100%|███████████████████████████████████████████| 50/50 [00:51<00:00,  1.04s/it]\u001b[A\n",
      " 50%|██████████████████████                      | 2/4 [07:05<06:08, 184.37s/it]\n",
      "  0%|                                                    | 0/50 [00:00<?, ?it/s]\u001b[A\n",
      "  4%|█▊                                          | 2/50 [00:00<00:04, 10.12it/s]\u001b[A\n",
      "  8%|███▌                                        | 4/50 [00:00<00:04, 11.14it/s]\u001b[A\n",
      " 12%|█████▎                                      | 6/50 [00:00<00:04,  9.26it/s]\u001b[A\n",
      " 16%|███████                                     | 8/50 [00:00<00:03, 10.69it/s]\u001b[A\n",
      " 20%|████████▌                                  | 10/50 [00:00<00:03, 10.65it/s]\u001b[A\n",
      " 26%|███████████▏                               | 13/50 [00:01<00:02, 13.81it/s]\u001b[A\n",
      " 30%|████████████▉                              | 15/50 [00:01<00:02, 13.30it/s]\u001b[A\n",
      " 34%|██████████████▌                            | 17/50 [00:01<00:02, 12.12it/s]\u001b[A\n",
      " 40%|█████████████████▏                         | 20/50 [00:01<00:02, 13.22it/s]\u001b[A\n",
      " 44%|██████████████████▉                        | 22/50 [00:01<00:02, 13.07it/s]\u001b[A\n",
      " 48%|████████████████████▋                      | 24/50 [00:02<00:02, 10.52it/s]\u001b[A\n",
      " 52%|██████████████████████▎                    | 26/50 [00:02<00:02, 10.29it/s]\u001b[A\n",
      " 56%|████████████████████████                   | 28/50 [00:02<00:02,  9.43it/s]\u001b[A\n",
      " 60%|█████████████████████████▊                 | 30/50 [00:02<00:02,  8.35it/s]\u001b[A\n",
      " 64%|███████████████████████████▌               | 32/50 [00:03<00:02,  8.38it/s]\u001b[A\n",
      " 66%|████████████████████████████▍              | 33/50 [00:03<00:02,  7.74it/s]\u001b[A\n",
      " 70%|██████████████████████████████             | 35/50 [00:03<00:01,  8.01it/s]\u001b[A\n",
      " 76%|████████████████████████████████▋          | 38/50 [00:03<00:01, 11.51it/s]\u001b[A\n",
      " 82%|███████████████████████████████████▎       | 41/50 [00:03<00:00, 14.04it/s]\u001b[A\n",
      " 86%|████████████████████████████████████▉      | 43/50 [00:03<00:00, 14.27it/s]\u001b[A\n",
      " 90%|██████████████████████████████████████▋    | 45/50 [00:04<00:00, 13.12it/s]\u001b[A\n",
      " 94%|████████████████████████████████████████▍  | 47/50 [00:04<00:00, 13.41it/s]\u001b[A\n",
      "100%|███████████████████████████████████████████| 50/50 [00:04<00:00, 11.03it/s]\u001b[A\n",
      " 75%|█████████████████████████████████           | 3/4 [07:10<01:42, 102.25s/it]\n",
      "  0%|                                                    | 0/50 [00:00<?, ?it/s]\u001b[A\n",
      " 22%|█████████▏                                | 11/50 [00:00<00:00, 109.31it/s]\u001b[A\n",
      " 44%|██████████████████▉                        | 22/50 [00:00<00:00, 93.63it/s]\u001b[A\n",
      " 66%|████████████████████████████▍              | 33/50 [00:00<00:00, 97.47it/s]\u001b[A\n",
      "100%|███████████████████████████████████████████| 50/50 [00:00<00:00, 91.04it/s]\u001b[A\n",
      "100%|████████████████████████████████████████████| 4/4 [07:10<00:00, 107.66s/it]\n"
     ]
    }
   ],
   "source": [
    "n = 2\n",
    "e1 = np.array([[np.sqrt(2)/2],[np.sqrt(2)/2]])\n",
    "e2 = np.array([[-np.sqrt(2)/2],[np.sqrt(2)/2]])\n",
    "e3 = np.array([[-np.sqrt(2)/2],[-np.sqrt(2)/2]])\n",
    "e4 = np.array([[np.sqrt(2)/2],[-np.sqrt(2)/2]])\n",
    "\n",
    "error = []\n",
    "trials = 50\n",
    "plot = False\n",
    "if plot: \n",
    "    fig = plt.figure()\n",
    "    ax = fig.add_subplot(111)\n",
    "for e in tqdm([.0001, .001, .01, .1]):\n",
    "    t = np.degrees(2*(math.pi/4-((np.arctan(1/(1+e))))))\n",
    "    total = 0\n",
    "    for i in tqdm(range(trials)):\n",
    "        if plot:\n",
    "            A_left = np.radians(45+t/2)\n",
    "            A_right = np.radians(45-t/2)\n",
    "            B_left = np.radians(135+t/2)\n",
    "            B_right = np.radians(135-t/2)\n",
    "            C_left = np.radians(225+t/2)\n",
    "            C_right = np.radians(225-t/2)\n",
    "            D_left = np.radians(315+t/2)\n",
    "            D_right = np.radians(315-t/2)\n",
    "            A = (A_left, A_right)\n",
    "            B = (B_left, B_right)\n",
    "            C = (C_left, C_right)\n",
    "            D = (D_left, D_right)\n",
    "            sets = list((A, B,C, D))\n",
    "            unit = math.pi/4\n",
    "\n",
    "            letter = A\n",
    "            a = (np.sin(letter[0])/np.cos(letter[0]))\n",
    "            b = (np.sin(letter[1])/np.cos(letter[1]))\n",
    "            #c = (np.sin(unit)/np.cos(unit))\n",
    "            plt.plot([0,(a/(a+1))],[0, 1/(a+1)], 'r')\n",
    "            plt.plot([0,(b/(b+1))],[0, 1/(b+1)], 'r')\n",
    "            #plt.plot([0,(c/(c+1))],[0, 1/(c+1)], 'b--')\n",
    "\n",
    "            letter = B\n",
    "            a = -(np.sin(letter[0])/np.cos(letter[0]))\n",
    "            b = (np.sin(letter[1])/np.cos(letter[1]))\n",
    "            #c = (np.sin(3*unit)/np.cos(3*unit))\n",
    "            plt.plot([0, -(a/(a+1))],[0, 1/(a+1)], 'r')\n",
    "            plt.plot([0,-(b/(b-1))],[0, -1/(b-1)], 'r')\n",
    "            #plt.plot([0, -(c/(c-1))],[0, -1/(c-1)], 'b--')\n",
    "\n",
    "            letter = C\n",
    "            a = -(np.sin(letter[0])/np.cos(letter[0]))\n",
    "            b = -(np.sin(letter[1])/np.cos(letter[1]))\n",
    "            #c = -(np.sin(5*unit)/np.cos(5*unit))\n",
    "            plt.plot([0, -(a/(a-1))],[0, 1/(a-1)], 'r')\n",
    "            plt.plot([0, (b/(-b+1))],[0, 1/(b-1)], 'r')\n",
    "            #plt.plot([0,(c/(-c+1))],[0, 1/(c-1)], 'b--')\n",
    "\n",
    "            letter = D\n",
    "            a = (np.sin(letter[0])/np.cos(letter[0]))\n",
    "            b = (np.sin(letter[1])/np.cos(letter[1]))\n",
    "            #c = (np.sin(7*unit)/np.cos(7*unit))\n",
    "            plt.plot([0,(a/(a-1))],[0, 1/(a-1)], 'r')\n",
    "            plt.plot([0,(b/(b-1))],[0, 1/(b-1)], 'r')\n",
    "            #plt.plot([0,(c/(c-1))],[0, 1/(c-1)], 'b--')\n",
    "\n",
    "\n",
    "        A_inside = []\n",
    "        A_points = []\n",
    "        B_inside = []\n",
    "        B_points = []\n",
    "        C_inside = []\n",
    "        C_points = []\n",
    "        D_inside = []\n",
    "        D_points = []\n",
    "        thresh = 100000\n",
    "        S = np.zeros((n, 1))\n",
    "        S = np.hstack((S, ell_1(n)))\n",
    "        S = np.delete(S, 0,1)\n",
    "        inside = [0, 0, 0, 0]\n",
    "        inside_r_2 = [0, 0, 0, 0]\n",
    "        clr = \"rs\"\n",
    "        size_block =  5\n",
    "        r1 = False\n",
    "        for i in range(thresh):\n",
    "            theta = t\n",
    "            if np.degrees(np.arccos(np.dot(S[:,i], e1)/la.norm(S[:,i]))) < theta/2:\n",
    "                inside[0] = 1\n",
    "                A_inside.append(np.arccos(np.dot(S[:,i], e1)/la.norm(S[:,i])))\n",
    "                A_points.append(S[:,i])\n",
    "                if plot:\n",
    "                    plt.plot(S[0,i], S[1,i], clr, markersize=size_block)\n",
    "            elif np.degrees(np.arccos(np.dot(S[:,i], e2)/la.norm(S[:,i]))) < theta/2:\n",
    "                inside[1] = 1\n",
    "                B_inside.append(np.arccos(np.dot(S[:,i], e2)/la.norm(S[:,i])))\n",
    "                B_points.append(S[:,i])\n",
    "                if plot:\n",
    "                    plt.plot(S[0,i], S[1,i], clr, markersize=size_block)\n",
    "            elif np.degrees(np.arccos(np.dot(S[:,i], e3)/la.norm(S[:,i]))) < theta/2:\n",
    "                inside[2] = 1\n",
    "                C_inside.append(np.arccos(np.dot(S[:,i], e3)/la.norm(S[:,i])))\n",
    "                C_points.append(S[:,i])\n",
    "                if plot:\n",
    "                    plt.plot(S[0,i], S[1,i], clr, markersize=size_block)\n",
    "            elif np.degrees(np.arccos(np.dot(S[:,i], e4)/la.norm(S[:,i]))) < theta/2:\n",
    "                inside[3] = 1\n",
    "                D_inside.append(np.arccos(np.dot(S[:,i], e4)/la.norm(S[:,i])))\n",
    "                D_points.append(S[:,i])\n",
    "                if plot:\n",
    "                    plt.plot(S[0,i], S[1,i], clr, markersize=size_block)\n",
    "            else:\n",
    "                if plot:\n",
    "                    plt.plot(S[0,i], S[1,i],\"bo\", markersize=2)\n",
    "            if sum(inside) == 4:\n",
    "                #r1 = True\n",
    "                break\n",
    "\n",
    "            point = ell_1(n)\n",
    "            # if point[0] > 0 and point[1] > 0 and la.norm(point, 1) >= 1-e:\n",
    "            #     inside_r_2[0] = 1\n",
    "            #     if plot:\n",
    "            #         plt.plot(point[0], point[1], \"ko\", markersize=size_block)\n",
    "            # elif point[0] < 0 and point[1] > 0 and la.norm(point, 1) >= 1-e:\n",
    "            #     inside_r_2[1] = 1\n",
    "            #     if plot:\n",
    "            #         plt.plot(point[0], point[1], \"ko\", markersize=size_block)\n",
    "            # elif point[0] > 0 and point[1] < 0 and la.norm(point, 1) >= 1-e:\n",
    "            #     inside_r_2[2] = 1\n",
    "            #     if plot:\n",
    "            #         plt.plot(point[0], point[1], \"ko\", markersize=size_block)\n",
    "            # elif point[0] < 0 and point[1] < 0 and la.norm(point, 1) >= 1-e:\n",
    "            #     inside_r_2[3] = 1\n",
    "            #     if plot:\n",
    "            #         plt.plot(point[0], point[1], \"ko\", markersize=size_block)\n",
    "            # else:\n",
    "            #     if plot:\n",
    "            #         plt.plot(point[0], point[1],\"bo\", markersize=2)\n",
    "            # if r1 and sum(inside_r_2) == 4:\n",
    "            #     break\n",
    "\n",
    "            S = np.hstack((S, point))\n",
    "        total += S.shape[1]\n",
    "\n",
    "\n",
    "    if plot:\n",
    "        plt.plot(np.arange(-1,1, .001), [(1-np.abs(x)) for x in np.arange(-1,1, .001)], 'k--')\n",
    "        plt.plot(np.arange(-1,1, .001), [-(1-np.abs(x)) for x in np.arange(-1,1, .001)], 'k--')\n",
    "        plt.xlim(-1,1)\n",
    "        plt.ylim(-1,1)\n",
    "        plt.axes().set_aspect('equal')\n",
    "        plt.show()\n",
    "    error.append(total/trials)"
   ]
  },
  {
   "cell_type": "code",
   "execution_count": 5,
   "metadata": {},
   "outputs": [],
   "source": [
    "error = np.loadtxt(\"error_samll_eps.csv\",delimiter = \",\")"
   ]
  },
  {
   "cell_type": "code",
   "execution_count": 53,
   "metadata": {},
   "outputs": [
    {
     "data": {
      "text/plain": [
       "[90057.48, 15821.28, 1458.94, 175.58]"
      ]
     },
     "execution_count": 53,
     "metadata": {},
     "output_type": "execute_result"
    }
   ],
   "source": [
    "error"
   ]
  },
  {
   "cell_type": "code",
   "execution_count": 54,
   "metadata": {},
   "outputs": [
    {
     "data": {
      "image/png": "[encoded data removed]",
      "text/plain": [
       "<Figure size 432x288 with 1 Axes>"
      ]
     },
     "metadata": {
      "needs_background": "light"
     },
     "output_type": "display_data"
    }
   ],
   "source": [
    "xinfb = .90\n",
    "slope, intercept, r_value, p_value, std_err = stats.linregress([np.log(e) for e in [.1, .01, .001, .0001]], np.log(error[::-1]))\n",
    "sns.regplot(x=[np.log(e) for e in [.1, .01, .001, .0001]], y=np.log(error[::-1]), truncate=False, line_kws={\"color\": \"red\", \n",
    "                                                                                                           'label': \"Empirical\"})\n",
    "plt.text(-9, 7, r\"$y={0:.3f}x+{1:.1f}$\".format(slope,intercept), fontsize=12)\n",
    "slope, intercept, r_value, p_value, std_err = stats.linregress([np.log(e) for e in [.1, .01, .001, .0001]], np.log([anderson(e,.95,.05,2) for e in [.1, .01, .001, .0001]]))\n",
    "sns.regplot(x=[np.log(e) for e in [.1, .01, .001, .0001]], y=np.log([anderson(e,.95,.05,2) for e in [.1, .01, .001, .0001]]), truncate=False, line_kws={\"color\": \"blue\",\n",
    "                                                                                                                                                        'label':\"Theorem 1\"})\n",
    "plt.text(-7.5, 33, r\"$y={0:.3f}x+{1:.1f}$\".format(slope,intercept), fontsize=12)\n",
    "slope, intercept, r_value, p_value, std_err = stats.linregress([np.log(e) for e in [.1, .01, .001, .0001]], np.log([(1/xinfb)*(8/e)*(np.log(4) + np.log(1/(1-np.sqrt(1-.05)))) for e in [.1, .01, .001, .0001]]))\n",
    "sns.regplot(x=[np.log(e) for e in [.1, .01, .001, .0001]], y=np.log([(1/xinfb)*(8/e)*(np.log(4) + np.log(1/(1-np.sqrt(1-.05)))) for e in [.1, .01, .001, .0001]]), truncate=False, line_kws={\"color\": \"black\",\n",
    "                                                                                                                                                                                             'label':\"Theorem 2\"})\n",
    "plt.text(-6, 12, r\"$y={0:.3f}x+{1:.1f}$\".format(slope,intercept), fontsize=12)\n",
    "plt.plot([np.log(e) for e in [.1, .01, .001, .0001]], np.log(error[::-1]), \"rs\")\n",
    "plt.plot([np.log(e) for e in [.1, .01, .001, .0001]], [np.log(anderson(e,.95,.05,2)) for e in [.1, .01, .001, .0001]], \"bs\")\n",
    "plt.plot([np.log(e) for e in [.1, .01, .001, .0001]], [np.log((1/xinfb)*(8/e)*(np.log(4) + np.log(1/(1-np.sqrt(1-.05))))) for e in [.1, .01, .001, .0001]], \"ks\")\n",
    "plt.ylabel(\"Log(N)\", size=12)\n",
    "plt.xlabel(\"Log(ε)\", size=12)\n",
    "plt.title(\"Order of Complexity\", size=12)\n",
    "plt.legend()\n",
    "plt.savefig(\"error.png\")\n",
    "plt.show()\n"
   ]
  },
  {
   "cell_type": "code",
   "execution_count": null,
   "metadata": {},
   "outputs": [],
   "source": []
  },
  {
   "cell_type": "code",
   "execution_count": 9,
   "metadata": {},
   "outputs": [
    {
     "data": {
      "image/png": "[encoded data removed]",
      "text/plain": [
       "<Figure size 432x288 with 1 Axes>"
      ]
     },
     "metadata": {
      "needs_background": "light"
     },
     "output_type": "display_data"
    }
   ],
   "source": [
    "\n",
    "slope, intercept, r_value, p_value, std_err = stats.linregress([np.log(e) for e in [.1, .01, .001, .0001]], np.log([166, 1189, 10172, 358019]))\n",
    "sns.regplot(x=[np.log(e) for e in [.1, .01, .001, .0001]], y=np.log([166, 1189, 10172, 358019]), truncate=False, line_kws={\"color\": \"red\", \n",
    "                                                                                                           'label': \"R1 and R2 Algorithm\"})\n",
    "plt.plot([np.log(e) for e in [.1, .01, .001, .0001]], np.log([166, 1189, 10172, 358019]), \"rs\")\n",
    "plt.text(-6, 11, r\"$y={0:.3f}x+{1:.1f}$\".format(slope,intercept), fontsize=12)\n",
    "plt.ylabel(\"Log(N)\", size=12)\n",
    "plt.xlabel(\"Log(ε)\", size=12)\n",
    "plt.title(\"Order of Complexity\", size=12)\n",
    "plt.legend()\n",
    "plt.savefig(\"N_for_new_alg.png\", bbox_inches='tight')\n",
    "plt.show()"
   ]
  },
  {
   "cell_type": "code",
   "execution_count": 1077,
   "metadata": {},
   "outputs": [],
   "source": [
    "np.savetxt(\"error_samll_eps.csv\", error, delimiter=\",\")"
   ]
  },
  {
   "cell_type": "code",
   "execution_count": 51,
   "metadata": {},
   "outputs": [
    {
     "name": "stdout",
     "output_type": "stream",
     "text": [
      "1851\n"
     ]
    },
    {
     "data": {
      "text/plain": [
       "<Figure size 360x360 with 0 Axes>"
      ]
     },
     "metadata": {},
     "output_type": "display_data"
    },
    {
     "data": {
      "image/png": "[encoded data removed]",
      "text/plain": [
       "<Figure size 576x432 with 1 Axes>"
      ]
     },
     "metadata": {
      "needs_background": "light"
     },
     "output_type": "display_data"
    }
   ],
   "source": [
    "n = 2\n",
    "e1 = np.array([[np.sqrt(2)/2],[np.sqrt(2)/2]])\n",
    "e2 = np.array([[-np.sqrt(2)/2],[np.sqrt(2)/2]])\n",
    "e3 = np.array([[-np.sqrt(2)/2],[-np.sqrt(2)/2]])\n",
    "e4 = np.array([[np.sqrt(2)/2],[-np.sqrt(2)/2]])\n",
    "plt.figure(figsize=(5, 5))\n",
    "plot = True\n",
    "e = .01\n",
    "#p_ = .95\n",
    "t = np.degrees(2*(math.pi/4-((np.arctan(1/(1+e))))))\n",
    "fig = plt.figure()\n",
    "ax = fig.add_subplot(111)\n",
    "fig.set_size_inches(8,6)\n",
    "if plot:\n",
    "    A_left = np.radians(45+t/2)\n",
    "    A_right = np.radians(45-t/2)\n",
    "    B_left = np.radians(135+t/2)\n",
    "    B_right = np.radians(135-t/2)\n",
    "    C_left = np.radians(225+t/2)\n",
    "    C_right = np.radians(225-t/2)\n",
    "    D_left = np.radians(315+t/2)\n",
    "    D_right = np.radians(315-t/2)\n",
    "    A = (A_left, A_right)\n",
    "    B = (B_left, B_right)\n",
    "    C = (C_left, C_right)\n",
    "    D = (D_left, D_right)\n",
    "    sets = list((A, B,C, D))\n",
    "    unit = math.pi/4\n",
    "\n",
    "    letter = A\n",
    "    a = (np.sin(letter[0])/np.cos(letter[0]))\n",
    "    b = (np.sin(letter[1])/np.cos(letter[1]))\n",
    "    #c = (np.sin(unit)/np.cos(unit))\n",
    "    plt.plot([0,(a/(a+1))],[0, 1/(a+1)], 'r')\n",
    "    plt.plot([0,(b/(b+1))],[0, 1/(b+1)], 'r')\n",
    "    #plt.plot([0,(c/(c+1))],[0, 1/(c+1)], 'b--')\n",
    "\n",
    "    letter = B\n",
    "    a = -(np.sin(letter[0])/np.cos(letter[0]))\n",
    "    b = (np.sin(letter[1])/np.cos(letter[1]))\n",
    "    #c = (np.sin(3*unit)/np.cos(3*unit))\n",
    "    plt.plot([0, -(a/(a+1))],[0, 1/(a+1)], 'r')\n",
    "    plt.plot([0,-(b/(b-1))],[0, -1/(b-1)], 'r')\n",
    "    #plt.plot([0, -(c/(c-1))],[0, -1/(c-1)], 'b--')\n",
    "\n",
    "    letter = C\n",
    "    a = -(np.sin(letter[0])/np.cos(letter[0]))\n",
    "    b = -(np.sin(letter[1])/np.cos(letter[1]))\n",
    "    #c = -(np.sin(5*unit)/np.cos(5*unit))\n",
    "    plt.plot([0, -(a/(a-1))],[0, 1/(a-1)], 'r')\n",
    "    plt.plot([0, (b/(-b+1))],[0, 1/(b-1)], 'r')\n",
    "    #plt.plot([0,(c/(-c+1))],[0, 1/(c-1)], 'b--')\n",
    "\n",
    "    letter = D\n",
    "    a = (np.sin(letter[0])/np.cos(letter[0]))\n",
    "    b = (np.sin(letter[1])/np.cos(letter[1]))\n",
    "    #c = (np.sin(7*unit)/np.cos(7*unit))\n",
    "    plt.plot([0,(a/(a-1))],[0, 1/(a-1)], 'r')\n",
    "    plt.plot([0,(b/(b-1))],[0, 1/(b-1)], 'r')\n",
    "    #plt.plot([0,(c/(c-1))],[0, 1/(c-1)], 'b--')\n",
    "\n",
    "\n",
    "A_inside = []\n",
    "A_points = []\n",
    "B_inside = []\n",
    "B_points = []\n",
    "C_inside = []\n",
    "C_points = []\n",
    "D_inside = []\n",
    "D_points = []\n",
    "thresh = 10000000\n",
    "S = np.zeros((n, 1))\n",
    "S = np.hstack((S, ell_1(n)))\n",
    "S = np.delete(S, 0,1)\n",
    "inside = [0, 0, 0, 0]\n",
    "inside_r_2 = [0, 0, 0, 0]\n",
    "clr = \"rs\"\n",
    "size_block =  5\n",
    "r1 = False\n",
    "for i in range(thresh):\n",
    "    theta = t\n",
    "    if np.degrees(np.arccos(np.dot(S[:,i], e1)/la.norm(S[:,i]))) < theta/2:\n",
    "        inside[0] = 1\n",
    "        A_inside.append(np.arccos(np.dot(S[:,i], e1)/la.norm(S[:,i])))\n",
    "        A_points.append(S[:,i])\n",
    "        if plot:\n",
    "            plt.plot(S[0,i], S[1,i], clr, markersize=size_block)\n",
    "    elif np.degrees(np.arccos(np.dot(S[:,i], e2)/la.norm(S[:,i]))) < theta/2:\n",
    "        inside[1] = 1\n",
    "        B_inside.append(np.arccos(np.dot(S[:,i], e2)/la.norm(S[:,i])))\n",
    "        B_points.append(S[:,i])\n",
    "        if plot:\n",
    "            plt.plot(S[0,i], S[1,i], clr, markersize=size_block)\n",
    "    elif np.degrees(np.arccos(np.dot(S[:,i], e3)/la.norm(S[:,i]))) < theta/2:\n",
    "        inside[2] = 1\n",
    "        C_inside.append(np.arccos(np.dot(S[:,i], e3)/la.norm(S[:,i])))\n",
    "        C_points.append(S[:,i])\n",
    "        if plot:\n",
    "            plt.plot(S[0,i], S[1,i], clr, markersize=size_block)\n",
    "    elif np.degrees(np.arccos(np.dot(S[:,i], e4)/la.norm(S[:,i]))) < theta/2:\n",
    "        inside[3] = 1\n",
    "        D_inside.append(np.arccos(np.dot(S[:,i], e4)/la.norm(S[:,i])))\n",
    "        D_points.append(S[:,i])\n",
    "        if plot:\n",
    "            plt.plot(S[0,i], S[1,i], clr, markersize=size_block)\n",
    "    else:\n",
    "        if plot:\n",
    "            plt.plot(S[0,i], S[1,i],\"bo\", markersize=2)\n",
    "    if sum(inside) == 4:\n",
    "        #r1 = True\n",
    "        break\n",
    "    \n",
    "    point = ell_1(n)\n",
    "    # if point[0] > 0 and point[1] > 0 and la.norm(point, 1) >= 1-e:\n",
    "    #     inside_r_2[0] = 1\n",
    "    #     if plot:\n",
    "    #         plt.plot(point[0], point[1], \"ko\", markersize=size_block)\n",
    "    # elif point[0] < 0 and point[1] > 0 and la.norm(point, 1) >= 1-e:\n",
    "    #     inside_r_2[1] = 1\n",
    "    #     if plot:\n",
    "    #         plt.plot(point[0], point[1], \"ko\", markersize=size_block)\n",
    "    # elif point[0] > 0 and point[1] < 0 and la.norm(point, 1) >= 1-e:\n",
    "    #     inside_r_2[2] = 1\n",
    "    #     if plot:\n",
    "    #         plt.plot(point[0], point[1], \"ko\", markersize=size_block)\n",
    "    # elif point[0] < 0 and point[1] < 0 and la.norm(point, 1) >= 1-e:\n",
    "    #     inside_r_2[3] = 1\n",
    "    #     if plot:\n",
    "    #         plt.plot(point[0], point[1], \"ko\", markersize=size_block)\n",
    "    # else:\n",
    "    #     if plot:\n",
    "    #         plt.plot(point[0], point[1],\"bo\", markersize=2)\n",
    "    # if r1 and sum(inside_r_2) == 4:\n",
    "    #     break\n",
    "        \n",
    "    S = np.hstack((S, point))\n",
    "\n",
    "\n",
    "N = S.shape[1]\n",
    "print(N)\n",
    "\n",
    "\n",
    "t_ = [A_points[np.argmax(A_inside)], B_points[np.argmax(B_inside)], C_points[np.argmax(C_inside)], D_points[np.argmax(D_inside)]]\n",
    "thetas = [cart2pol(t_[0][0], t_[0][1]), cart2pol(t_[1][0], t_[1][1]), 360+cart2pol(t_[2][0], t_[2][1]), 360+cart2pol(t_[3][0], t_[3][1])]\n",
    "directions = [[np.cos(np.radians(thetas[i])), np.sin(np.radians(thetas[i]))] for i in range(4)]\n",
    "colors = np.array([[np.dot(S[:,i], directions[j]) for i in range(N)] for j in range(4)])\n",
    "scales = [np.dot(S[:,np.argmax(colors[i])], directions[i]) for i in range(4)]\n",
    "supports = np.array([ret_supp([directions[i][0]*scales[i], directions[i][1]*scales[i]], False) for i in range(4)])\n",
    "#supports = np.array([ret_supp([directions[i][0], directions[i][1]], False) for i in range(4)])\n",
    "for i in range(4):\n",
    "        plt.plot(supports[i][0], supports[i][1], \"k\", linewidth=2)\n",
    "\n",
    "if plot:\n",
    "    plt.plot(np.arange(-1,1, .001), [(1-np.abs(x)) for x in np.arange(-1,1, .001)], 'k--')\n",
    "    plt.plot(np.arange(-1,1, .001), [-(1-np.abs(x)) for x in np.arange(-1,1, .001)], 'k--')\n",
    "    plt.xlim(-1.25,1.25)\n",
    "    plt.ylim(-1.25,1.25)\n",
    "    ax.set_aspect('equal')\n",
    "    plt.title(r\"$\\epsilon = .0001$\",size=15)\n",
    "    plt.savefig(\"ep0001.png\", bbox_inches='tight')\n",
    "    plt.show()"
   ]
  },
  {
   "cell_type": "code",
   "execution_count": 34,
   "metadata": {},
   "outputs": [
    {
     "data": {
      "text/plain": [
       "[0.7019531334752376,\n",
       " 0.7057330871245362,\n",
       " 0.7068079953391185,\n",
       " 0.7054906910304727]"
      ]
     },
     "execution_count": 34,
     "metadata": {},
     "output_type": "execute_result"
    }
   ],
   "source": [
    "scales"
   ]
  },
  {
   "cell_type": "code",
   "execution_count": 10,
   "metadata": {},
   "outputs": [],
   "source": [
    "from scipy.spatial.distance import directed_hausdorff\n",
    "N_table = []\n",
    "d_h = []\n",
    "e = .1"
   ]
  },
  {
   "cell_type": "code",
   "execution_count": 46,
   "metadata": {},
   "outputs": [],
   "source": [
    "large_N = 100000\n",
    "U = np.zeros((n, 1))\n",
    "for i in range(large_N):\n",
    "    U = np.hstack((U, ell_1(n)))\n",
    "U = np.delete(U, 0,1)"
   ]
  },
  {
   "cell_type": "code",
   "execution_count": null,
   "metadata": {},
   "outputs": [
    {
     "data": {
      "text/plain": [
       "<Figure size 360x360 with 0 Axes>"
      ]
     },
     "metadata": {},
     "output_type": "display_data"
    },
    {
     "data": {
      "image/png": "[encoded data removed]",
      "text/plain": [
       "<Figure size 576x432 with 1 Axes>"
      ]
     },
     "metadata": {
      "needs_background": "light"
     },
     "output_type": "display_data"
    }
   ],
   "source": [
    "n = 2\n",
    "e1 = np.array([[np.sqrt(2)/2],[np.sqrt(2)/2]])\n",
    "e2 = np.array([[-np.sqrt(2)/2],[np.sqrt(2)/2]])\n",
    "e3 = np.array([[-np.sqrt(2)/2],[-np.sqrt(2)/2]])\n",
    "e4 = np.array([[np.sqrt(2)/2],[-np.sqrt(2)/2]])\n",
    "plt.figure(figsize=(5, 5))\n",
    "plot = True\n",
    "e = .1\n",
    "#p_ = .95\n",
    "t = np.degrees(2*(math.pi/4-((np.arctan(1/(1+e))))))\n",
    "fig = plt.figure()\n",
    "ax = fig.add_subplot(111)\n",
    "fig.set_size_inches(8,6)\n",
    "if plot:\n",
    "    A_left = np.radians(45+t/2)\n",
    "    A_right = np.radians(45-t/2)\n",
    "    B_left = np.radians(135+t/2)\n",
    "    B_right = np.radians(135-t/2)\n",
    "    C_left = np.radians(225+t/2)\n",
    "    C_right = np.radians(225-t/2)\n",
    "    D_left = np.radians(315+t/2)\n",
    "    D_right = np.radians(315-t/2)\n",
    "    A = (A_left, A_right)\n",
    "    B = (B_left, B_right)\n",
    "    C = (C_left, C_right)\n",
    "    D = (D_left, D_right)\n",
    "    sets = list((A, B,C, D))\n",
    "    unit = math.pi/4\n",
    "\n",
    "    letter = A\n",
    "    a = (np.sin(letter[0])/np.cos(letter[0]))\n",
    "    b = (np.sin(letter[1])/np.cos(letter[1]))\n",
    "    #c = (np.sin(unit)/np.cos(unit))\n",
    "    plt.plot([0,(a/(a+1))],[0, 1/(a+1)], 'r')\n",
    "    plt.plot([0,(b/(b+1))],[0, 1/(b+1)], 'r')\n",
    "    #plt.plot([0,(c/(c+1))],[0, 1/(c+1)], 'b--')\n",
    "\n",
    "    letter = B\n",
    "    a = -(np.sin(letter[0])/np.cos(letter[0]))\n",
    "    b = (np.sin(letter[1])/np.cos(letter[1]))\n",
    "    #c = (np.sin(3*unit)/np.cos(3*unit))\n",
    "    plt.plot([0, -(a/(a+1))],[0, 1/(a+1)], 'r')\n",
    "    plt.plot([0,-(b/(b-1))],[0, -1/(b-1)], 'r')\n",
    "    #plt.plot([0, -(c/(c-1))],[0, -1/(c-1)], 'b--')\n",
    "\n",
    "    letter = C\n",
    "    a = -(np.sin(letter[0])/np.cos(letter[0]))\n",
    "    b = -(np.sin(letter[1])/np.cos(letter[1]))\n",
    "    #c = -(np.sin(5*unit)/np.cos(5*unit))\n",
    "    plt.plot([0, -(a/(a-1))],[0, 1/(a-1)], 'r')\n",
    "    plt.plot([0, (b/(-b+1))],[0, 1/(b-1)], 'r')\n",
    "    #plt.plot([0,(c/(-c+1))],[0, 1/(c-1)], 'b--')\n",
    "\n",
    "    letter = D\n",
    "    a = (np.sin(letter[0])/np.cos(letter[0]))\n",
    "    b = (np.sin(letter[1])/np.cos(letter[1]))\n",
    "    #c = (np.sin(7*unit)/np.cos(7*unit))\n",
    "    plt.plot([0,(a/(a-1))],[0, 1/(a-1)], 'r')\n",
    "    plt.plot([0,(b/(b-1))],[0, 1/(b-1)], 'r')\n",
    "    #plt.plot([0,(c/(c-1))],[0, 1/(c-1)], 'b--')\n",
    "\n",
    "\n",
    "A_inside = []\n",
    "A_points = []\n",
    "B_inside = []\n",
    "B_points = []\n",
    "C_inside = []\n",
    "C_points = []\n",
    "D_inside = []\n",
    "D_points = []\n",
    "thresh = 10000000\n",
    "S = np.zeros((n, 1))\n",
    "S = np.hstack((S, ell_1(n)))\n",
    "S = np.delete(S, 0,1)\n",
    "inside = [0, 0, 0, 0]\n",
    "inside_r_2 = [0, 0, 0, 0]\n",
    "clr = \"rs\"\n",
    "size_block =  5\n",
    "r1 = False\n",
    "for i in range(thresh):\n",
    "    theta = t\n",
    "    if np.degrees(np.arccos(np.dot(S[:,i], e1)/la.norm(S[:,i]))) < theta/2:\n",
    "        inside[0] = 1\n",
    "        A_inside.append(np.arccos(np.dot(S[:,i], e1)/la.norm(S[:,i])))\n",
    "        A_points.append(S[:,i])\n",
    "        if plot:\n",
    "            plt.plot(S[0,i], S[1,i], clr, markersize=size_block)\n",
    "    elif np.degrees(np.arccos(np.dot(S[:,i], e2)/la.norm(S[:,i]))) < theta/2:\n",
    "        inside[1] = 1\n",
    "        B_inside.append(np.arccos(np.dot(S[:,i], e2)/la.norm(S[:,i])))\n",
    "        B_points.append(S[:,i])\n",
    "        if plot:\n",
    "            plt.plot(S[0,i], S[1,i], clr, markersize=size_block)\n",
    "    elif np.degrees(np.arccos(np.dot(S[:,i], e3)/la.norm(S[:,i]))) < theta/2:\n",
    "        inside[2] = 1\n",
    "        C_inside.append(np.arccos(np.dot(S[:,i], e3)/la.norm(S[:,i])))\n",
    "        C_points.append(S[:,i])\n",
    "        if plot:\n",
    "            plt.plot(S[0,i], S[1,i], clr, markersize=size_block)\n",
    "    elif np.degrees(np.arccos(np.dot(S[:,i], e4)/la.norm(S[:,i]))) < theta/2:\n",
    "        inside[3] = 1\n",
    "        D_inside.append(np.arccos(np.dot(S[:,i], e4)/la.norm(S[:,i])))\n",
    "        D_points.append(S[:,i])\n",
    "        if plot:\n",
    "            plt.plot(S[0,i], S[1,i], clr, markersize=size_block)\n",
    "    else:\n",
    "        if plot:\n",
    "            plt.plot(S[0,i], S[1,i],\"bo\", markersize=2)\n",
    "    if sum(inside) == 4:\n",
    "        #r1 = True\n",
    "        break\n",
    "    \n",
    "    point = ell_1(n)\n",
    "    # if point[0] > 0 and point[1] > 0 and la.norm(point, 1) >= 1-e:\n",
    "    #     inside_r_2[0] = 1\n",
    "    #     if plot:\n",
    "    #         plt.plot(point[0], point[1], \"ko\", markersize=size_block)\n",
    "    # elif point[0] < 0 and point[1] > 0 and la.norm(point, 1) >= 1-e:\n",
    "    #     inside_r_2[1] = 1\n",
    "    #     if plot:\n",
    "    #         plt.plot(point[0], point[1], \"ko\", markersize=size_block)\n",
    "    # elif point[0] > 0 and point[1] < 0 and la.norm(point, 1) >= 1-e:\n",
    "    #     inside_r_2[2] = 1\n",
    "    #     if plot:\n",
    "    #         plt.plot(point[0], point[1], \"ko\", markersize=size_block)\n",
    "    # elif point[0] < 0 and point[1] < 0 and la.norm(point, 1) >= 1-e:\n",
    "    #     inside_r_2[3] = 1\n",
    "    #     if plot:\n",
    "    #         plt.plot(point[0], point[1], \"ko\", markersize=size_block)\n",
    "    # else:\n",
    "    #     if plot:\n",
    "    #         plt.plot(point[0], point[1],\"bo\", markersize=2)\n",
    "    # if r1 and sum(inside_r_2) == 4:\n",
    "    #     break\n",
    "        \n",
    "    S = np.hstack((S, point))\n",
    "\n",
    "\n",
    "N = S.shape[1]\n",
    "\n",
    "\n",
    "t_ = [A_points[np.argmax(A_inside)], B_points[np.argmax(B_inside)], C_points[np.argmax(C_inside)], D_points[np.argmax(D_inside)]]\n",
    "thetas = [cart2pol(t_[0][0], t_[0][1]), cart2pol(t_[1][0], t_[1][1]), 360+cart2pol(t_[2][0], t_[2][1]), 360+cart2pol(t_[3][0], t_[3][1])]\n",
    "directions = [[np.cos(np.radians(thetas[i])), np.sin(np.radians(thetas[i]))] for i in range(4)]\n",
    "colors = np.array([[np.dot(U[:,i], directions[j]) for i in range(large_N)] for j in range(4)])\n",
    "scales = [np.dot(U[:,np.argmax(colors[i])], directions[i]) for i in range(4)]\n",
    "supports = np.array([ret_supp([directions[i][0]*scales[i], directions[i][1]*scales[i]], False) for i in range(4)])\n",
    "#supports = np.array([ret_supp([directions[i][0]*.7, directions[i][1]*.7], False) for i in range(4)])\n",
    "for i in range(4):\n",
    "        plt.plot(supports[i][0], supports[i][1], \"k\", linewidth=2)\n",
    "\n",
    "if plot:\n",
    "    plt.plot(np.arange(-1,1, .001), [(1-np.abs(x)) for x in np.arange(-1,1, .001)], 'k--')\n",
    "    plt.plot(np.arange(-1,1, .001), [-(1-np.abs(x)) for x in np.arange(-1,1, .001)], 'k--')\n",
    "    plt.xlim(-1.25,1.25)\n",
    "    plt.ylim(-1.25,1.25)\n",
    "    ax.set_aspect('equal')\n",
    "    plt.title(r\"$\\epsilon = .0001$\",size=15)\n",
    "    plt.savefig(\"ep0001.png\", bbox_inches='tight')\n",
    "    plt.show()\n",
    "# u = np.array([[1.0, 0.0],\n",
    "\n",
    "#              [0.0, 1.0],\n",
    "\n",
    "#               [-1.0, 0.0],\n",
    "\n",
    "#               [0.0, -1.0]])\n",
    "\n",
    "# v = S\n",
    "\n",
    "\n",
    "N_table.append(N)\n"
   ]
  },
  {
   "cell_type": "code",
   "execution_count": 306,
   "metadata": {},
   "outputs": [],
   "source": [
    "N_table.append(N)"
   ]
  },
  {
   "cell_type": "code",
   "execution_count": 307,
   "metadata": {},
   "outputs": [
    {
     "data": {
      "text/plain": [
       "[166, 1189, 10172, 358019]"
      ]
     },
     "execution_count": 307,
     "metadata": {},
     "output_type": "execute_result"
    }
   ],
   "source": [
    "N_table"
   ]
  },
  {
   "cell_type": "code",
   "execution_count": 60,
   "metadata": {},
   "outputs": [],
   "source": [
    "from scipy.spatial.distance import directed_hausdorff\n",
    "N_table = []\n",
    "d_h = []\n"
   ]
  },
  {
   "cell_type": "code",
   "execution_count": 67,
   "metadata": {},
   "outputs": [
    {
     "name": "stderr",
     "output_type": "stream",
     "text": [
      "100%|█████████████████████████████████| 350579/350579 [00:42<00:00, 8219.54it/s]\n"
     ]
    },
    {
     "name": "stdout",
     "output_type": "stream",
     "text": [
      "here\n"
     ]
    }
   ],
   "source": [
    "epsilon_d_h = .0001\n",
    "delta_d_h = .05\n",
    "N = int(np.ceil(4*(2+epsilon_d_h)/(epsilon_d_h))*(np.log(4)+np.log(1/delta_d_h)))\n",
    "\n",
    "S = np.zeros((n, 1))\n",
    "for i in tqdm(range(N)):\n",
    "    S = np.hstack((S, ell_1(n)))\n",
    "S = np.delete(S, 0,1)\n",
    "print(\"here\")\n",
    "fb_d_h = compute_fb(S, 1, 2)\n",
    "\n",
    "d_h.append(1-la.norm(S, 1))\n",
    "N_table.append(N)"
   ]
  },
  {
   "cell_type": "code",
   "execution_count": 68,
   "metadata": {},
   "outputs": [
    {
     "data": {
      "text/plain": [
       "[368, 3523, 35073, 350579]"
      ]
     },
     "execution_count": 68,
     "metadata": {},
     "output_type": "execute_result"
    }
   ],
   "source": [
    "N_table"
   ]
  },
  {
   "cell_type": "code",
   "execution_count": 172,
   "metadata": {},
   "outputs": [
    {
     "data": {
      "text/html": [
       "<div>\n",
       "<style scoped>\n",
       "    .dataframe tbody tr th:only-of-type {\n",
       "        vertical-align: middle;\n",
       "    }\n",
       "\n",
       "    .dataframe tbody tr th {\n",
       "        vertical-align: top;\n",
       "    }\n",
       "\n",
       "    .dataframe thead th {\n",
       "        text-align: right;\n",
       "    }\n",
       "</style>\n",
       "<table border=\"1\" class=\"dataframe\">\n",
       "  <thead>\n",
       "    <tr style=\"text-align: right;\">\n",
       "      <th></th>\n",
       "      <th>$d_H$</th>\n",
       "      <th>$N$</th>\n",
       "    </tr>\n",
       "  </thead>\n",
       "  <tbody>\n",
       "    <tr>\n",
       "      <th>0.1000</th>\n",
       "      <td>1.077556e-03</td>\n",
       "      <td>421.0</td>\n",
       "    </tr>\n",
       "    <tr>\n",
       "      <th>0.0100</th>\n",
       "      <td>4.190159e-04</td>\n",
       "      <td>4207.0</td>\n",
       "    </tr>\n",
       "    <tr>\n",
       "      <th>0.0010</th>\n",
       "      <td>6.801858e-06</td>\n",
       "      <td>42068.0</td>\n",
       "    </tr>\n",
       "    <tr>\n",
       "      <th>0.0001</th>\n",
       "      <td>1.560297e-07</td>\n",
       "      <td>420675.0</td>\n",
       "    </tr>\n",
       "  </tbody>\n",
       "</table>\n",
       "</div>"
      ],
      "text/plain": [
       "               $d_H$       $N$\n",
       "0.1000  1.077556e-03     421.0\n",
       "0.0100  4.190159e-04    4207.0\n",
       "0.0010  6.801858e-06   42068.0\n",
       "0.0001  1.560297e-07  420675.0"
      ]
     },
     "execution_count": 172,
     "metadata": {},
     "output_type": "execute_result"
    }
   ],
   "source": [
    "import pandas as pd\n",
    "table = np.array([d_h, N_table])\n",
    "pd.DataFrame(table.T, index = e_, columns=[r'$d_H$', r'$N$'])"
   ]
  },
  {
   "cell_type": "code",
   "execution_count": 341,
   "metadata": {},
   "outputs": [
    {
     "name": "stdout",
     "output_type": "stream",
     "text": [
      "1\n"
     ]
    },
    {
     "data": {
      "image/png": "[encoded data removed]",
      "text/plain": [
       "<Figure size 576x432 with 1 Axes>"
      ]
     },
     "metadata": {
      "needs_background": "light"
     },
     "output_type": "display_data"
    }
   ],
   "source": [
    "import scipy.stats as spy\n",
    "epsilon_c = .001\n",
    "delta_c = 1-np.sqrt(1-.05)\n",
    "q__ = .99\n",
    "p_ = .99\n",
    "#s = 1/np.tan(math.pi*(1/2-(1-q__)/(2*(1-p_))))\n",
    "s = 1\n",
    "\n",
    "print(s)\n",
    "N = math.ceil((1/(2*q__-1)) * 4 * (2+ epsilon_c)/(epsilon_c)*(np.log(4)+ np.log(1/delta_c)))\n",
    "\n",
    "fig = plt.figure()\n",
    "ax = fig.add_subplot(111)\n",
    "fig.set_size_inches(8,6)\n",
    "\n",
    "samples_n= np.zeros((n, 1))\n",
    "for i in range(N):\n",
    "    choice = np.random.choice(2, 1, p=[p_, 1-p_])\n",
    "    if(choice == 0):\n",
    "        samples_n = np.hstack((samples_n, ell_1(n)))\n",
    "    if(choice == 1):\n",
    "        samples_n = np.hstack((samples_n,np.vstack((stats.cauchy.rvs(loc=0, scale=s, size=1), stats.cauchy.rvs(loc=0, scale=s, size=1)))))\n",
    "plt.plot(samples_n[0,:], samples_n[1, :], \"bo\")\n",
    "plt.title(r\"S = 99% Uniform in $B^2_1$ and 1% Cauchy(0,1)\")\n",
    "plt.savefig(\"cauchy.png\", bbox_inches='tight')\n",
    "\n",
    "plt.show()"
   ]
  },
  {
   "cell_type": "code",
   "execution_count": 342,
   "metadata": {},
   "outputs": [
    {
     "name": "stderr",
     "output_type": "stream",
     "text": [
      "<ipython-input-336-a5f13d64593b>:7: RuntimeWarning: invalid value encountered in true_divide\n",
      "  if support(X, X[:,i] / la.norm(X[:,i]), q) > np.dot(X[:,i], X[:,i]/la.norm(X[:,i])):\n"
     ]
    },
    {
     "data": {
      "image/png": "[encoded data removed]",
      "text/plain": [
       "<Figure size 576x432 with 1 Axes>"
      ]
     },
     "metadata": {
      "needs_background": "light"
     },
     "output_type": "display_data"
    }
   ],
   "source": [
    "fb = compute_fb(samples_n, q__, 2)\n",
    "t_ = np.degrees(2*(math.pi/4-((np.arctan(1/(1+epsilon_c))))))\n",
    "thetas = [45, 135, 225, 315]\n",
    "thetas = [thetas[i] + t_ for i in range(4)] \n",
    "directions = [[np.cos(np.radians(thetas[i])), np.sin(np.radians(thetas[i]))] for i in range(4)]\n",
    "colors = np.array([[np.dot(fb[:,i], directions[j]) for i in range(fb.shape[1])] for j in range(4)])\n",
    "scales = [np.dot(fb[:,np.argmax(colors[i])], directions[i]) for i in range(4)]\n",
    "supports = np.array([ret_supp([directions[i][0]*scales[i], directions[i][1]*scales[i]], False) for i in range(4)])\n",
    "\n",
    "fig = plt.figure()\n",
    "ax = fig.add_subplot(111)\n",
    "fig.set_size_inches(8,6)\n",
    "ax.set_aspect('equal')\n",
    "plt.plot(np.arange(-1,1, .001), [(1-np.abs(x)) for x in np.arange(-1,1, .001)], 'k--')\n",
    "plt.plot(np.arange(-1,1, .001), [-(1-np.abs(x)) for x in np.arange(-1,1, .001)], 'k--')\n",
    "plt.plot(fb[0,:], fb[1, :], \"ro\", markersize = .5)\n",
    "\n",
    "for i in range(4):\n",
    "        plt.plot(supports[i][0], supports[i][1], \"k\", linewidth=2)\n",
    "plt.xlim(-1.5,1.5)\n",
    "plt.ylim(-1.5,1.5)\n",
    "plt.title(\"Output of Algorithm 1 with input S\", size=12)\n",
    "\n",
    "\n",
    "\n",
    "plt.savefig(\"fb_cauchy.png\", bbox_inches='tight')\n"
   ]
  },
  {
   "cell_type": "code",
   "execution_count": 314,
   "metadata": {},
   "outputs": [
    {
     "data": {
      "text/plain": [
       "24912"
      ]
     },
     "execution_count": 314,
     "metadata": {},
     "output_type": "execute_result"
    }
   ],
   "source": [
    "N"
   ]
  },
  {
   "cell_type": "code",
   "execution_count": 1006,
   "metadata": {},
   "outputs": [
    {
     "data": {
      "text/plain": [
       "(0.15951909458758143, 1, 22)"
      ]
     },
     "execution_count": 1006,
     "metadata": {},
     "output_type": "execute_result"
    }
   ],
   "source": [
    "directed_hausdorff(u, v.T)"
   ]
  },
  {
   "cell_type": "code",
   "execution_count": 1003,
   "metadata": {},
   "outputs": [
    {
     "data": {
      "text/plain": [
       "(2, 177)"
      ]
     },
     "execution_count": 1003,
     "metadata": {},
     "output_type": "execute_result"
    }
   ],
   "source": []
  },
  {
   "cell_type": "code",
   "execution_count": 338,
   "metadata": {},
   "outputs": [
    {
     "name": "stderr",
     "output_type": "stream",
     "text": [
      "100%|██████████| 100/100 [00:00<00:00, 797.66it/s]\n"
     ]
    },
    {
     "data": {
      "text/plain": [
       "[]"
      ]
     },
     "execution_count": 338,
     "metadata": {},
     "output_type": "execute_result"
    },
    {
     "data": {
      "image/png": "[encoded data removed]",
      "text/plain": [
       "<Figure size 432x288 with 1 Axes>"
      ]
     },
     "metadata": {
      "needs_background": "light"
     },
     "output_type": "display_data"
    }
   ],
   "source": [
    "N = 100\n",
    "\n",
    "S = np.zeros((n, 1))\n",
    "for i in tqdm(range(N)):\n",
    "    S = np.hstack((S, ell_1(n)))\n",
    "    S = np.delete(S, 0,1)\n",
    "    plt.plot(S[0, :], S[1, :], \"bo\")\n",
    "    temp = compute_fb(S, .95, 2)\n",
    "    plt.plot(temp[0, :], temp[1, :], \"ro\")\n",
    "plt.plot()\n"
   ]
  },
  {
   "cell_type": "code",
   "execution_count": null,
   "metadata": {},
   "outputs": [],
   "source": []
  }
 ],
 "metadata": {
  "kernelspec": {
   "display_name": "Python 3 (ipykernel)",
   "language": "python",
   "name": "python3"
  },
  "language_info": {
   "codemirror_mode": {
    "name": "ipython",
    "version": 3
   },
   "file_extension": ".py",
   "mimetype": "text/x-python",
   "name": "python",
   "nbconvert_exporter": "python",
   "pygments_lexer": "ipython3",
   "version": "3.9.7"
  }
 },
 "nbformat": 4,
 "nbformat_minor": 4
}
