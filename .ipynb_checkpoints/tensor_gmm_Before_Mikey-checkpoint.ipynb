{
 "cells": [
  {
   "cell_type": "markdown",
   "metadata": {},
   "source": [
    "# Estimating spherical Gaussian Mixture Models (GMMs) using Tensor Decompositions"
   ]
  },
  {
   "cell_type": "code",
   "execution_count": 57,
   "metadata": {
    "tags": []
   },
   "outputs": [],
   "source": [
    "import numpy as np\n",
    "import matplotlib.pyplot as plt\n",
    "from matplotlib.patches import Ellipse\n",
    "import numpy.linalg as la"
   ]
  },
  {
   "cell_type": "code",
   "execution_count": 58,
   "metadata": {},
   "outputs": [],
   "source": [
    "def support(X, val, q): # Set q to be the qth quantile\n",
    "    return np.quantile((X.T).dot(val), q)\n",
    "\n",
    "def compute_fb(X, q, n):\n",
    "    polar_body = np.ones((n,0))\n",
    "    for i in range(X.shape[1]):\n",
    "        if support(X, X[:,i] / la.norm(X[:,i]), q) > np.dot(X[:,i], X[:,i]/la.norm(X[:,i])): \n",
    "            polar_body = np.hstack((polar_body, np.array(X[:,i]).reshape(n,1)))\n",
    "    return polar_body"
   ]
  },
  {
   "cell_type": "markdown",
   "metadata": {},
   "source": [
    "### Generate data"
   ]
  },
  {
   "cell_type": "code",
   "execution_count": 46,
   "metadata": {
    "tags": []
   },
   "outputs": [],
   "source": [
    "def generate_data():\n",
    "    A = -dist+(dist+dist)*np.random.rand(d, k)\n",
    "    X = np.zeros((tot, d))\n",
    "\n",
    "    plt.axis('equal')\n",
    "\n",
    "    for i in range(k):\n",
    "        mean = A[:, i].T\n",
    "        if spher:\n",
    "            covariance = s * np.eye(d)\n",
    "        else:\n",
    "            a = -cov_range + (cov_range + cov_range) * np.random.rand(d, d)\n",
    "            covariance = a.T @ a\n",
    "        mvn = np.random.multivariate_normal(mean, covariance, n)\n",
    "        #plt.plot(mvn[:, 0], mvn[:, 1], '.')\n",
    "        #plt.plot(mean[0], mean[1], 'x')\n",
    "        X[i*n:(i+1)*n, :] = mvn\n",
    "        \n",
    "    return (X, A)"
   ]
  },
  {
   "cell_type": "markdown",
   "metadata": {},
   "source": [
    "### Calculate first order data moment (mean)"
   ]
  },
  {
   "cell_type": "code",
   "execution_count": 38,
   "metadata": {
    "tags": []
   },
   "outputs": [],
   "source": [
    "def calculate_first_moment(X):\n",
    "    mu = np.zeros((d, 1))\n",
    "    for t in range(tot):\n",
    "        for i in range(d):\n",
    "            mu[i] += + X[t, i]\n",
    "    mu /= tot\n",
    "    return mu"
   ]
  },
  {
   "cell_type": "markdown",
   "metadata": {},
   "source": [
    "### Calculate second order data moment (covariance)"
   ]
  },
  {
   "cell_type": "code",
   "execution_count": 39,
   "metadata": {
    "tags": []
   },
   "outputs": [],
   "source": [
    "def calculate_second_moment(X):\n",
    "    Sigma = np.zeros((d, d))\n",
    "    for t in range(tot):\n",
    "        for i in range(d):\n",
    "            for j in range(d):\n",
    "                Sigma[i, j] += np.dot(X[t, i],X[t, j])\n",
    "    Sigma /= tot\n",
    "    return Sigma"
   ]
  },
  {
   "cell_type": "markdown",
   "metadata": {},
   "source": [
    "### Extract information from second order data moment"
   ]
  },
  {
   "cell_type": "code",
   "execution_count": 40,
   "metadata": {
    "tags": []
   },
   "outputs": [],
   "source": [
    "def extract_information_from_second_moment(Sigma, X):\n",
    "    U, S, _ = np.linalg.svd(Sigma)\n",
    "    s_est = S[-1]\n",
    "    W, X_whit = perform_whitening(X, U, S)\n",
    "    return (s_est, W, X_whit)"
   ]
  },
  {
   "cell_type": "markdown",
   "metadata": {},
   "source": [
    "### Perform whitening"
   ]
  },
  {
   "cell_type": "code",
   "execution_count": 81,
   "metadata": {
    "tags": []
   },
   "outputs": [],
   "source": [
    "def perform_whitening(X, U, S):\n",
    "    W = U[:, 0:k] @ np.sqrt(np.linalg.pinv(np.diag(S[0:k])))\n",
    "    X_whit = X @ W\n",
    "    return (W, X_whit)"
   ]
  },
  {
   "cell_type": "markdown",
   "metadata": {},
   "source": [
    "### Perform tensor power method"
   ]
  },
  {
   "cell_type": "code",
   "execution_count": 149,
   "metadata": {
    "tags": []
   },
   "outputs": [],
   "source": [
    "def perform_tensor_power_method(X_whit, W, s_est, mu):\n",
    "    TOL = 1e-8\n",
    "    maxiter = 100\n",
    "    V_est = np.zeros((k, k))\n",
    "    lamb = np.zeros((k, 1))\n",
    "    \n",
    "    for i in range(k):\n",
    "        v_old = np.random.rand(k, 1)\n",
    "        v_old = np.divide(v_old, np.linalg.norm(v_old))\n",
    "        for iter in range(maxiter):\n",
    "            v_new = (X_whit.T @ (X_whit @ v_old * X_whit @ v_old))/ tot\n",
    "            #v_new = v_new - s_est * (W' * mu * dot((W*v_old),(W*v_old)));\n",
    "            #v_new = v_new - s_est * (2 * W' * W * v_old * ((W'*mu)' * (v_old)));\n",
    "            v_new -= s_est * ((W.T @ mu) @ np.dot((W @ v_old).T, (W @ v_old)))\n",
    "            v_new -= s_est * (2 * (W.T @ (W @ (v_old @ ((W.T @ mu).T @ v_old)))))\n",
    "            if i > 0:\n",
    "                for j in range(i):\n",
    "                    v_new -= np.reshape(V_est[:, j] * np.power((v_old.T @ V_est[:, j]), 2) * lamb[j], (k, 1))\n",
    "            l = np.linalg.norm(v_new)\n",
    "            v_new = np.divide(v_new, np.linalg.norm(v_new))\n",
    "            if np.linalg.norm(v_old - v_new) < TOL:\n",
    "                V_est[:, i] = np.reshape(v_new, k)\n",
    "                lamb[i] = l\n",
    "                break\n",
    "            v_old = v_new\n",
    "    \n",
    "    return (V_est, lamb)"
   ]
  },
  {
   "cell_type": "markdown",
   "metadata": {},
   "source": [
    "### Perform backwards transformation"
   ]
  },
  {
   "cell_type": "code",
   "execution_count": 48,
   "metadata": {
    "tags": []
   },
   "outputs": [],
   "source": [
    "def perform_backwards_transformation(V_est, lamb):\n",
    "    return (np.linalg.pinv(W.T) @ V_est) @ np.diag(np.reshape(lamb.T, k))"
   ]
  },
  {
   "cell_type": "markdown",
   "metadata": {},
   "source": [
    "### Plot result"
   ]
  },
  {
   "cell_type": "code",
   "execution_count": 49,
   "metadata": {
    "tags": []
   },
   "outputs": [],
   "source": [
    "def plot_results(X, A, A_est, s_est):\n",
    "    plt.axis('equal')\n",
    "    \n",
    "    ax = plt.subplot(aspect='equal')\n",
    "    \n",
    "    plt.plot(X[:,0], X[:,1], '.', zorder=-3)\n",
    "    \n",
    "    for i in range(k):\n",
    "        mean = A[:, i].T\n",
    "        mean_est = A_est[:, i].T\n",
    "        \n",
    "        plt.plot(mean[0], mean[1], 'x', color='y', zorder=-2)\n",
    "        plt.plot(mean_est[0], mean_est[1], '+', color='r', zorder=-1)\n",
    "        \n",
    "        ell = Ellipse(xy=(mean_est[0], mean_est[1]),\n",
    "                      width=s_est, height=s_est,\n",
    "                      angle=0, color='red')\n",
    "        ell.set_facecolor('none')\n",
    "        ax.add_artist(ell)\n",
    "\n",
    "    plt.show()"
   ]
  },
  {
   "cell_type": "code",
   "execution_count": 104,
   "metadata": {},
   "outputs": [],
   "source": [
    "def plot_mixtures(X, FB):\n",
    "    plt.axis('equal')\n",
    "    \n",
    "    ax = plt.subplot(aspect='equal')\n",
    "    \n",
    "    plt.plot(X[:,0], X[:,1], '.', zorder=-3)\n",
    "    if FB:\n",
    "        plt.title(\"FB(GMM)\")\n",
    "    else:\n",
    "        plt.title(\"GMM\")\n",
    "    plt.show()"
   ]
  },
  {
   "cell_type": "markdown",
   "metadata": {},
   "source": [
    "# Center Data"
   ]
  },
  {
   "cell_type": "code",
   "execution_count": 109,
   "metadata": {},
   "outputs": [],
   "source": [
    "def center_gmm(X, A):\n",
    "    X = X - np.mean(X)\n",
    "    A = A - np.mean(A)\n",
    "    return X, A"
   ]
  },
  {
   "cell_type": "markdown",
   "metadata": {},
   "source": [
    "# Add Noise"
   ]
  },
  {
   "cell_type": "code",
   "execution_count": 65,
   "metadata": {},
   "outputs": [],
   "source": [
    "def add_noise(X, thresh):\n",
    "    for i in range(thresh):\n",
    "        noise = np.random.standard_cauchy((X.shape[1]))\n",
    "        random_point = np.random.randint(0,X.shape[0])\n",
    "        X[random_point, :] += noise\n",
    "    return X"
   ]
  },
  {
   "cell_type": "markdown",
   "metadata": {},
   "source": [
    "# Execution"
   ]
  },
  {
   "cell_type": "code",
   "execution_count": 169,
   "metadata": {},
   "outputs": [
    {
     "data": {
      "image/png": "[encoded data removed]",
      "text/plain": [
       "<Figure size 432x288 with 1 Axes>"
      ]
     },
     "metadata": {
      "needs_background": "light"
     },
     "output_type": "display_data"
    }
   ],
   "source": [
    "d = 10\n",
    "k = 6\n",
    "n = 1000\n",
    "tot = k * n\n",
    "s = 2\n",
    "dist = 20\n",
    "spher = True\n",
    "cov_range = 2\n",
    "\n",
    "\n",
    "X, A = generate_data()\n",
    "X, A = center_gmm(X, A)\n",
    "mu = calculate_first_moment(X)\n",
    "Sigma = calculate_second_moment(X)\n",
    "\n",
    "s_est, W, X_whit = extract_information_from_second_moment(Sigma, X)\n",
    "\n",
    "V_est, lamb = perform_tensor_power_method(X_whit, W, s_est, mu)\n",
    "\n",
    "A_est = perform_backwards_transformation(V_est, lamb)\n",
    "\n",
    "plot_results(X, A, A_est, s_est)"
   ]
  },
  {
   "cell_type": "code",
   "execution_count": 190,
   "metadata": {
    "tags": []
   },
   "outputs": [
    {
     "data": {
      "image/png": "[encoded data removed]",
      "text/plain": [
       "<Figure size 432x288 with 1 Axes>"
      ]
     },
     "metadata": {
      "needs_background": "light"
     },
     "output_type": "display_data"
    },
    {
     "data": {
      "image/png": "[encoded data removed]",
      "text/plain": [
       "<Figure size 432x288 with 1 Axes>"
      ]
     },
     "metadata": {
      "needs_background": "light"
     },
     "output_type": "display_data"
    },
    {
     "data": {
      "image/png": "[encoded data removed]",
      "text/plain": [
       "<Figure size 432x288 with 1 Axes>"
      ]
     },
     "metadata": {
      "needs_background": "light"
     },
     "output_type": "display_data"
    }
   ],
   "source": [
    "d = 2\n",
    "k = 1\n",
    "n = 1000\n",
    "tot = k * n\n",
    "s = 2\n",
    "dist = 20\n",
    "spher = True\n",
    "cov_range = 2\n",
    "###########################################################################\n",
    "#W/o FB\n",
    "X, A = generate_data()\n",
    "X, A = center_gmm(X, A)\n",
    "plot_mixtures(X, False)\n",
    "\n",
    "mu = calculate_first_moment(X)\n",
    "Sigma = calculate_second_moment(X)\n",
    "\n",
    "s_est, W, X_whit = extract_information_from_second_moment(Sigma, X)\n",
    "\n",
    "V_est, lamb = perform_tensor_power_method(X_whit, W, s_est, mu)\n",
    "\n",
    "A_est = perform_backwards_transformation(V_est, lamb)\n",
    "plot_results(X, A, A_est, s_est)\n",
    "############################################################\n",
    "#W/FB\n",
    "X_ = add_noise(X, 1)\n",
    "X_ = compute_fb(X_.T, .95, d)\n",
    "tot = X_.shape[0]\n",
    "\n",
    "mu_ = calculate_first_moment(X_)\n",
    "Sigma_ = calculate_second_moment(X_)\n",
    "\n",
    "s_est_, W_, X_whit_ = extract_information_from_second_moment(Sigma_, X_.T)\n",
    "\n",
    "V_est_, lamb_ = perform_tensor_power_method(X_whit_, W_, s_est_, mu_)\n",
    "\n",
    "A_est_ = perform_backwards_transformation(V_est_, lamb_)\n",
    "\n",
    "plot_mixtures(X_.T, True)"
   ]
  },
  {
   "cell_type": "code",
   "execution_count": 191,
   "metadata": {},
   "outputs": [
    {
     "data": {
      "text/plain": [
       "array([[ 3.20676444],\n",
       "       [-3.19238998]])"
      ]
     },
     "execution_count": 191,
     "metadata": {},
     "output_type": "execute_result"
    }
   ],
   "source": [
    "A_est"
   ]
  },
  {
   "cell_type": "code",
   "execution_count": 192,
   "metadata": {},
   "outputs": [
    {
     "data": {
      "text/plain": [
       "array([[ 30.38105698],\n",
       "       [-30.24487251]])"
      ]
     },
     "execution_count": 192,
     "metadata": {},
     "output_type": "execute_result"
    }
   ],
   "source": [
    "A_est_"
   ]
  },
  {
   "cell_type": "code",
   "execution_count": null,
   "metadata": {},
   "outputs": [],
   "source": []
  }
 ],
 "metadata": {
  "kernelspec": {
   "display_name": "Python 3 (ipykernel)",
   "language": "python",
   "name": "python3"
  },
  "language_info": {
   "codemirror_mode": {
    "name": "ipython",
    "version": 3
   },
   "file_extension": ".py",
   "mimetype": "text/x-python",
   "name": "python",
   "nbconvert_exporter": "python",
   "pygments_lexer": "ipython3",
   "version": "3.9.12"
  }
 },
 "nbformat": 4,
 "nbformat_minor": 4
}
