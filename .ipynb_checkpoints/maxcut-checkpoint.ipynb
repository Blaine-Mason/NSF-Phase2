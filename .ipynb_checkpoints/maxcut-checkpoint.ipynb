{
 "cells": [
  {
   "cell_type": "code",
   "execution_count": 36,
   "metadata": {},
   "outputs": [
    {
     "name": "stdout",
     "output_type": "stream",
     "text": [
      "objective = 0.5 @ (1.0 + -var5667[0, 1]) + 0.5 @ (1.0 + -var5667[0, 2]) + 0.5 @ (1.0 + -var5667[1, 3]) + 0.5 @ (1.0 + -var5667[1, 4]) + 0.5 @ (1.0 + -var5667[2, 3]) + 0.5 @ (1.0 + -var5667[3, 4])\n",
      "[[ 1.00000001 -0.96882181 -0.96882363  0.8772145   0.12487042]\n",
      " [-0.96882181  1.00000001  0.8772145  -0.73088607 -0.36681578]\n",
      " [-0.96882363  0.8772145   1.00000001 -0.96882181  0.12487042]\n",
      " [ 0.8772145  -0.73088607 -0.96882181  1.00000001 -0.36681578]\n",
      " [ 0.12487042 -0.36681578  0.12487042 -0.36681578  0.99999999]]\n",
      "[[ 0.52548452+2.18443705e-03j -0.51990938+7.62691832e-04j\n",
      "  -0.49809946+6.34178921e-04j  0.43983257-8.90689447e-04j\n",
      "   0.10959568-3.98909859e-04j]\n",
      " [-0.51990938+7.62691832e-04j  0.56884154+8.84588373e-04j\n",
      "   0.43983257-8.90689446e-04j -0.33104029-8.78775808e-04j\n",
      "  -0.32105469+1.81151000e-05j]\n",
      " [-0.49809946+6.34178921e-04j  0.43983257-8.90689446e-04j\n",
      "   0.52548452+2.18443705e-03j -0.51990938+7.62691832e-04j\n",
      "   0.10959568-3.98909859e-04j]\n",
      " [ 0.43983257-8.90689447e-04j -0.33104029-8.78775808e-04j\n",
      "  -0.51990938+7.62691832e-04j  0.56884154+8.84588374e-04j\n",
      "  -0.32105469+1.81151002e-05j]\n",
      " [ 0.10959568-3.98909859e-04j -0.32105469+1.81151000e-05j\n",
      "   0.10959568-3.98909859e-04j -0.32105469+1.81151002e-05j\n",
      "   0.8773971 +1.12912917e-04j]]\n",
      "3.9397303629004767\n",
      "3.9437381648517884\n",
      "3.939730362900469\n",
      "3.943738164851794\n",
      "1.9833723862727213\n",
      "[ 0.3334115 +0.00257291j -0.63763478+0.00107807j -0.00837322+0.00042367j\n",
      " -0.31716754-0.00121414j  1.30151022-0.0004241j ]\n",
      "[ 1.+0.j -1.+0.j -1.+0.j -1.+0.j  1.+0.j]\n"
     ]
    }
   ],
   "source": [
    "edges = [\n",
    "    (0,1),\n",
    "    (0,2),\n",
    "    (1,3),\n",
    "    (1,4),\n",
    "    (2,3),\n",
    "    (3,4)\n",
    "]\n",
    "import scipy.linalg as la\n",
    "import cvxpy as cp\n",
    "X = cp.Variable((5,5), symmetric=True)\n",
    "\n",
    "constraints = [X >> 0]\n",
    "constraints += [\n",
    "    X[i, i] == 1 for i in range(5)\n",
    "]\n",
    "\n",
    "objective = sum( .5*(1-X[i, j]) for (i, j) in edges)\n",
    "print(f'objective = {objective}')\n",
    "prob = cp.Problem(cp.Maximize(objective), constraints)\n",
    "prob.solve()\n",
    "\n",
    "print(X.value)\n",
    "\n",
    "x = la.sqrtm(X.value)\n",
    "print(x)\n",
    "print(la.norm(X.value[0,:],1))\n",
    "print(la.norm(X.value[1,:],1))\n",
    "print(la.norm(X.value[2,:],1))\n",
    "print(la.norm(X.value[3,:],1))\n",
    "print(la.norm(X.value[4,:],1))\n",
    "u = np.random.randn(5)\n",
    "print(x @ u) \n",
    "x = np.sign(x @ u)\n",
    "print(x)"
   ]
  },
  {
   "cell_type": "code",
   "execution_count": null,
   "metadata": {},
   "outputs": [],
   "source": []
  }
 ],
 "metadata": {
  "kernelspec": {
   "display_name": "Python 3",
   "language": "python",
   "name": "python3"
  },
  "language_info": {
   "codemirror_mode": {
    "name": "ipython",
    "version": 3
   },
   "file_extension": ".py",
   "mimetype": "text/x-python",
   "name": "python",
   "nbconvert_exporter": "python",
   "pygments_lexer": "ipython3",
   "version": "3.8.5"
  }
 },
 "nbformat": 4,
 "nbformat_minor": 4
}
