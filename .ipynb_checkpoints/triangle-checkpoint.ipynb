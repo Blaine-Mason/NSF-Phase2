{
 "cells": [
  {
   "cell_type": "code",
   "execution_count": null,
   "id": "0f098803-dba5-4aa7-8584-e593269499dc",
   "metadata": {},
   "outputs": [],
   "source": [
    "import matplotlib.pyplot as plt\n",
    "import numpy as np\n",
    "def calcArea(p1, p2, p3):\n",
    "        return np.absolute((p1[0] * (p2[1] - p3[1]) + p2[0] * (p3[1] - p1[1]) + p3[0] * (p1[1] - p2[1])) / 2)\n",
    "yes = 0\n",
    "no = 0\n",
    "trials = 1000\n",
    "for num in range(trials):\n",
    "    angle = np.linspace( 0 , 2 * np.pi , 150 ) \n",
    "\n",
    "    radius = 1\n",
    "    \n",
    "    center = [0, 0]\n",
    "\n",
    "    x = radius * np.cos( angle ) \n",
    "    y = radius * np.sin( angle ) \n",
    "    xy = np.array([[np.cos(deg),np.sin(deg)] for deg in np.random.uniform(0 , 2 * np.pi, 3)])\n",
    "    xs = [xy[i][0] for i in range(3)] \n",
    "    ys = [xy[i][1] for i in range(3)] \n",
    "\n",
    "    xs_ = [xs[0]]+[xs[2]]\n",
    "    ys_ = [ys[0]]+[ys[2]]\n",
    "    \n",
    "    xs__ = [xs[0]]+[xs[1]]\n",
    "    ys__ = [ys[0]]+[ys[1]]\n",
    "    \n",
    "    xs___ = [xs[1]]+[xs[2]]\n",
    "    ys___ = [ys[1]]+[ys[2]]\n",
    "    \n",
    "#     figure, axes = plt.subplots( 1 ) \n",
    "#     axes.scatter(xs, ys)\n",
    "#     axes.plot( x, y ) \n",
    "#     axes.set_aspect( 1 ) \n",
    "\n",
    "#     plt.plot(xs__, ys__, 'bo', linestyle=\"--\")\n",
    "#     plt.plot(xs_, ys_, 'go', linestyle=\"--\")\n",
    "#     plt.plot(xs___, ys___, 'ro', linestyle=\"--\")\n",
    "#     plt.plot(center[0], center[1], 'go')\n",
    "        \n",
    "#     length1 = np.sqrt((np.power(np.absolute(xs[2]-xs[1]),2) + (np.power(np.absolute(ys[2]-ys[1]),2))))\n",
    "#     length2 = np.sqrt((np.power(np.absolute(xs[1]-xs[0]),2) + (np.power(np.absolute(ys[1]-ys[0]),2))))\n",
    "#     length3 = np.sqrt((np.power(np.absolute(xs[2]-xs[0]),2) + (np.power(np.absolute(ys[2]-ys[0]),2))))\n",
    "    \n",
    "    \n",
    "#     print(length1, length2, length3)\n",
    "    \n",
    "#     total2 = length1 + length2 + length3\n",
    "#     print(\"total\")\n",
    "#     print(total2)\n",
    "    \n",
    "#     if length1 > .89 and length2 > .89 or length1 > 1.5 and length2 > .5:\n",
    "#         if total2 >= 2.59:\n",
    "#             yes += 1\n",
    "#     else:\n",
    "#         no += 1\n",
    "    \n",
    "    x1 = xy[0][0]\n",
    "    y1 = xy[0][1]\n",
    "    \n",
    "    p1 = [xy[0][0], xy[0][1]]\n",
    "    \n",
    "    x2 = xy[1][0]\n",
    "    y2 = xy[1][1]\n",
    "    \n",
    "    p2 = [xy[1][0], xy[1][1]]\n",
    "    \n",
    "    x3 = xy[2][0]\n",
    "    y3 = xy[2][1]\n",
    "    \n",
    "    p3 = [xy[2][0], xy[2][1]]\n",
    "    \n",
    "    xc = 0\n",
    "    yc = 0\n",
    "    \n",
    "    p4 = [0, 0]\n",
    "    \n",
    "    yes = 0\n",
    "    no = 0\n",
    "    \n",
    "    ABC = calcArea(p1, p2 ,p3)\n",
    "    PAB = calcArea(p4, p1, p2)\n",
    "    PBC = calcArea(p4, p2, p3)\n",
    "    PAC = calcArea(p4, p1, p3)\n",
    "    \n",
    "    if ABC - (PAB + PBC + PAC) < 1e-5:\n",
    "        yes += 1\n",
    "    else:\n",
    "        no += 1\n",
    "    \n",
    "    \n",
    "    \n",
    "\n",
    "    plt.title( 'Parametric Equation Circle' ) \n",
    "    #plt.show()\n",
    "\n",
    "    result = yes/trials\n",
    "\n",
    "    print(num)\n"
   ]
  },
  {
   "cell_type": "code",
   "execution_count": 82,
   "id": "1517d685-fe71-40f1-a05a-75218138d6a1",
   "metadata": {},
   "outputs": [
    {
     "data": {
      "text/plain": [
       "([-0.906149330583698, -0.4229579065140124],\n",
       " [0.9813289890967974, -0.19233672337402874],\n",
       " [-0.15087980888907535, 0.9885521145946713])"
      ]
     },
     "execution_count": 82,
     "metadata": {},
     "output_type": "execute_result"
    }
   ],
   "source": [
    "p1, p2, p3"
   ]
  },
  {
   "cell_type": "code",
   "execution_count": 83,
   "id": "b4951eaa-ac7f-40ed-b64f-667ca1fd9086",
   "metadata": {},
   "outputs": [
    {
     "data": {
      "text/plain": [
       "array([[-0.90614933, -0.42295791],\n",
       "       [ 0.98132899, -0.19233672],\n",
       "       [-0.15087981,  0.98855211]])"
      ]
     },
     "execution_count": 83,
     "metadata": {},
     "output_type": "execute_result"
    }
   ],
   "source": [
    "xy"
   ]
  },
  {
   "cell_type": "code",
   "execution_count": 84,
   "id": "d190cd7e-cd47-4dde-b3cc-2768b6f1cc78",
   "metadata": {},
   "outputs": [
    {
     "data": {
      "text/plain": [
       "(1.2450067060858079, 0.2946733239809658, 0.4705375596098329, 0.479795822495009)"
      ]
     },
     "execution_count": 84,
     "metadata": {},
     "output_type": "execute_result"
    }
   ],
   "source": [
    "ABC, PAB, PBC, PAC"
   ]
  },
  {
   "cell_type": "code",
   "execution_count": 85,
   "id": "ae330aa8-5720-465d-8792-5d3b4a649713",
   "metadata": {},
   "outputs": [
    {
     "data": {
      "text/plain": [
       "1.2450067060858077"
      ]
     },
     "execution_count": 85,
     "metadata": {},
     "output_type": "execute_result"
    }
   ],
   "source": [
    "PAB + PBC + PAC"
   ]
  },
  {
   "cell_type": "code",
   "execution_count": 86,
   "id": "e1b9a146-cff8-4dff-addb-377d42167c93",
   "metadata": {},
   "outputs": [
    {
     "data": {
      "text/plain": [
       "1.2450067060858079"
      ]
     },
     "execution_count": 86,
     "metadata": {},
     "output_type": "execute_result"
    }
   ],
   "source": [
    "ABC"
   ]
  },
  {
   "cell_type": "code",
   "execution_count": null,
   "id": "2cc3acd9-906a-447f-82ab-445a1cf5cba8",
   "metadata": {},
   "outputs": [],
   "source": []
  }
 ],
 "metadata": {
  "kernelspec": {
   "display_name": "Python 3 (ipykernel)",
   "language": "python",
   "name": "python3"
  },
  "language_info": {
   "codemirror_mode": {
    "name": "ipython",
    "version": 3
   },
   "file_extension": ".py",
   "mimetype": "text/x-python",
   "name": "python",
   "nbconvert_exporter": "python",
   "pygments_lexer": "ipython3",
   "version": "3.9.12"
  }
 },
 "nbformat": 4,
 "nbformat_minor": 5
}
