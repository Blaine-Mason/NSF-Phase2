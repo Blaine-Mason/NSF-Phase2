{
 "cells": [
  {
   "cell_type": "markdown",
   "metadata": {},
   "source": [
    "# Estimating spherical Gaussian Mixture Models (GMMs) using Tensor Decompositions"
   ]
  },
  {
   "cell_type": "code",
   "execution_count": 1,
   "metadata": {
    "tags": []
   },
   "outputs": [
    {
     "ename": "ValueError",
     "evalue": "invalid literal for int() with base 10: '\\x1b[?2004h'",
     "output_type": "error",
     "traceback": [
      "\u001b[0;31m---------------------------------------------------------------------------\u001b[0m",
      "\u001b[0;31mValueError\u001b[0m                                Traceback (most recent call last)",
      "\u001b[0;32m<ipython-input-1-d02eafe78da4>\u001b[0m in \u001b[0;36m<module>\u001b[0;34m\u001b[0m\n\u001b[1;32m      4\u001b[0m \u001b[0;32mimport\u001b[0m \u001b[0mnumpy\u001b[0m\u001b[0;34m.\u001b[0m\u001b[0mlinalg\u001b[0m \u001b[0;32mas\u001b[0m \u001b[0mla\u001b[0m\u001b[0;34m\u001b[0m\u001b[0;34m\u001b[0m\u001b[0m\n\u001b[1;32m      5\u001b[0m \u001b[0;32mfrom\u001b[0m \u001b[0moct2py\u001b[0m \u001b[0;32mimport\u001b[0m \u001b[0moctave\u001b[0m\u001b[0;34m\u001b[0m\u001b[0;34m\u001b[0m\u001b[0m\n\u001b[0;32m----> 6\u001b[0;31m \u001b[0moctave\u001b[0m\u001b[0;34m.\u001b[0m\u001b[0maddpath\u001b[0m\u001b[0;34m(\u001b[0m\u001b[0;34m'../'\u001b[0m\u001b[0;34m)\u001b[0m\u001b[0;34m;\u001b[0m\u001b[0;34m\u001b[0m\u001b[0;34m\u001b[0m\u001b[0m\n\u001b[0m",
      "\u001b[0;32m/usr/local/anaconda3/lib/python3.8/site-packages/oct2py/core.py\u001b[0m in \u001b[0;36m__getattr__\u001b[0;34m(self, attr)\u001b[0m\n\u001b[1;32m    727\u001b[0m \u001b[0;34m\u001b[0m\u001b[0m\n\u001b[1;32m    728\u001b[0m         \u001b[0;31m# Make sure the name exists.\u001b[0m\u001b[0;34m\u001b[0m\u001b[0;34m\u001b[0m\u001b[0;34m\u001b[0m\u001b[0m\n\u001b[0;32m--> 729\u001b[0;31m         \u001b[0mexist\u001b[0m \u001b[0;34m=\u001b[0m \u001b[0mself\u001b[0m\u001b[0;34m.\u001b[0m\u001b[0m_exist\u001b[0m\u001b[0;34m(\u001b[0m\u001b[0mname\u001b[0m\u001b[0;34m)\u001b[0m\u001b[0;34m\u001b[0m\u001b[0;34m\u001b[0m\u001b[0m\n\u001b[0m\u001b[1;32m    730\u001b[0m \u001b[0;34m\u001b[0m\u001b[0m\n\u001b[1;32m    731\u001b[0m         \u001b[0;32mif\u001b[0m \u001b[0mexist\u001b[0m \u001b[0;32mnot\u001b[0m \u001b[0;32min\u001b[0m \u001b[0;34m[\u001b[0m\u001b[0;36m2\u001b[0m\u001b[0;34m,\u001b[0m \u001b[0;36m3\u001b[0m\u001b[0;34m,\u001b[0m \u001b[0;36m5\u001b[0m\u001b[0;34m,\u001b[0m \u001b[0;36m103\u001b[0m\u001b[0;34m]\u001b[0m\u001b[0;34m:\u001b[0m\u001b[0;34m\u001b[0m\u001b[0;34m\u001b[0m\u001b[0m\n",
      "\u001b[0;32m/usr/local/anaconda3/lib/python3.8/site-packages/oct2py/core.py\u001b[0m in \u001b[0;36m_exist\u001b[0;34m(self, name)\u001b[0m\n\u001b[1;32m    678\u001b[0m         \u001b[0mcmd\u001b[0m \u001b[0;34m=\u001b[0m \u001b[0;34m'exist(\"%s\")'\u001b[0m \u001b[0;34m%\u001b[0m \u001b[0mname\u001b[0m\u001b[0;34m\u001b[0m\u001b[0;34m\u001b[0m\u001b[0m\n\u001b[1;32m    679\u001b[0m         \u001b[0mresp\u001b[0m \u001b[0;34m=\u001b[0m \u001b[0mself\u001b[0m\u001b[0;34m.\u001b[0m\u001b[0m_engine\u001b[0m\u001b[0;34m.\u001b[0m\u001b[0meval\u001b[0m\u001b[0;34m(\u001b[0m\u001b[0mcmd\u001b[0m\u001b[0;34m,\u001b[0m \u001b[0msilent\u001b[0m\u001b[0;34m=\u001b[0m\u001b[0;32mTrue\u001b[0m\u001b[0;34m)\u001b[0m\u001b[0;34m.\u001b[0m\u001b[0mstrip\u001b[0m\u001b[0;34m(\u001b[0m\u001b[0;34m)\u001b[0m\u001b[0;34m\u001b[0m\u001b[0;34m\u001b[0m\u001b[0m\n\u001b[0;32m--> 680\u001b[0;31m         \u001b[0mexist\u001b[0m \u001b[0;34m=\u001b[0m \u001b[0mint\u001b[0m\u001b[0;34m(\u001b[0m\u001b[0mresp\u001b[0m\u001b[0;34m.\u001b[0m\u001b[0msplit\u001b[0m\u001b[0;34m(\u001b[0m\u001b[0;34m)\u001b[0m\u001b[0;34m[\u001b[0m\u001b[0;34m-\u001b[0m\u001b[0;36m1\u001b[0m\u001b[0;34m]\u001b[0m\u001b[0;34m)\u001b[0m\u001b[0;34m\u001b[0m\u001b[0;34m\u001b[0m\u001b[0m\n\u001b[0m\u001b[1;32m    681\u001b[0m         \u001b[0;32mif\u001b[0m \u001b[0mexist\u001b[0m \u001b[0;34m==\u001b[0m \u001b[0;36m0\u001b[0m\u001b[0;34m:\u001b[0m\u001b[0;34m\u001b[0m\u001b[0;34m\u001b[0m\u001b[0m\n\u001b[1;32m    682\u001b[0m             \u001b[0mcmd\u001b[0m \u001b[0;34m=\u001b[0m \u001b[0;34m'class(%s)'\u001b[0m \u001b[0;34m%\u001b[0m \u001b[0mname\u001b[0m\u001b[0;34m\u001b[0m\u001b[0;34m\u001b[0m\u001b[0m\n",
      "\u001b[0;31mValueError\u001b[0m: invalid literal for int() with base 10: '\\x1b[?2004h'"
     ]
    }
   ],
   "source": [
    "import numpy as np\n",
    "import matplotlib.pyplot as plt\n",
    "from matplotlib.patches import Ellipse\n",
    "import numpy.linalg as la\n",
    "from oct2py import octave\n",
    "octave.addpath('../');"
   ]
  },
  {
   "cell_type": "markdown",
   "metadata": {},
   "source": [
    "### Generate data"
   ]
  },
  {
   "cell_type": "code",
   "execution_count": null,
   "metadata": {
    "tags": []
   },
   "outputs": [],
   "source": [
    "def generate_data():\n",
    "    A = -dist+(dist+dist)*np.random.rand(d, k)\n",
    "    X = np.zeros((tot, d))\n",
    "\n",
    "    plt.axis('equal')\n",
    "\n",
    "    for i in range(k):\n",
    "        mean = A[:, i].T\n",
    "        if spher:\n",
    "            covariance = s * np.eye(d)\n",
    "        else:\n",
    "            a = -cov_range + (cov_range + cov_range) * np.random.rand(d, d)\n",
    "            covariance = a.T @ a\n",
    "        mvn = np.random.multivariate_normal(mean, covariance, n)\n",
    "        #plt.plot(mvn[:, 0], mvn[:, 1], '.')\n",
    "        #plt.plot(mean[0], mean[1], 'x')\n",
    "        X[i*n:(i+1)*n, :] = mvn\n",
    "        \n",
    "    return (X, A)"
   ]
  },
  {
   "cell_type": "markdown",
   "metadata": {},
   "source": [
    "### Calculate first order data moment (mean)"
   ]
  },
  {
   "cell_type": "code",
   "execution_count": null,
   "metadata": {
    "tags": []
   },
   "outputs": [],
   "source": [
    "def calculate_first_moment(X):\n",
    "    mu = np.zeros((d, 1))\n",
    "    for t in range(tot):\n",
    "        for i in range(d):\n",
    "            mu[i] += X[t, i]\n",
    "    mu /= tot\n",
    "    return mu"
   ]
  },
  {
   "cell_type": "markdown",
   "metadata": {},
   "source": [
    "### Calculate second order data moment (covariance)"
   ]
  },
  {
   "cell_type": "code",
   "execution_count": null,
   "metadata": {
    "tags": []
   },
   "outputs": [],
   "source": [
    "def calculate_second_moment(X):\n",
    "    Sigma = np.zeros((d, d))\n",
    "    for t in range(tot):\n",
    "        for i in range(d):\n",
    "            for j in range(d):\n",
    "                Sigma[i, j] += np.dot(X[t, i],X[t, j])\n",
    "    Sigma /= tot\n",
    "    return Sigma"
   ]
  },
  {
   "cell_type": "markdown",
   "metadata": {},
   "source": [
    "### Extract information from second order data moment"
   ]
  },
  {
   "cell_type": "code",
   "execution_count": null,
   "metadata": {
    "tags": []
   },
   "outputs": [],
   "source": [
    "def extract_information_from_second_moment(Sigma, X):\n",
    "    # print(\"Sigma array\\n\")\n",
    "    # print(Sigma)\n",
    "    # print(\"\\n#####################################################\\n\")\n",
    "    U, S, _ = np.linalg.svd(Sigma)\n",
    "    # print(\"Unitary array\\n\")\n",
    "    # print(U)\n",
    "    # print(\"\\n#####################################################\\n\")\n",
    "    # print(\"Eigenvalues\\n\")\n",
    "    # print(S)\n",
    "    # print(\"\\n#####################################################\\n\")\n",
    "    s_est = S[-1]\n",
    "    W, X_whit = perform_whitening(X, U, S)\n",
    "    return (s_est, W, X_whit)"
   ]
  },
  {
   "cell_type": "markdown",
   "metadata": {},
   "source": [
    "### Perform whitening"
   ]
  },
  {
   "cell_type": "code",
   "execution_count": null,
   "metadata": {
    "tags": []
   },
   "outputs": [],
   "source": [
    "def perform_whitening(X, U, S):\n",
    "    W = U[:, 0:k] @ np.sqrt(np.linalg.pinv(np.diag(S[0:k])))\n",
    "    # print(\"Whitening Matrix\\n\")\n",
    "    # print(W)\n",
    "    # print(\"\\n#####################################################\\n\")\n",
    "    X_whit = X @ W\n",
    "    # print(\"X Whitened\\n\")\n",
    "    # print(X_whit)\n",
    "    # print(\"\\n#####################################################\\n\")\n",
    "    return (W, X_whit)"
   ]
  },
  {
   "cell_type": "markdown",
   "metadata": {},
   "source": [
    "### Perform tensor power method"
   ]
  },
  {
   "cell_type": "code",
   "execution_count": null,
   "metadata": {
    "tags": []
   },
   "outputs": [],
   "source": [
    "def perform_tensor_power_method(X_whit, W, s_est, mu):\n",
    "    TOL = 1e-8\n",
    "    maxiter = 100\n",
    "    V_est = np.zeros((k, k))\n",
    "    lamb = np.zeros((k, 1))\n",
    "    \n",
    "    for i in range(k):\n",
    "        v_old = np.random.rand(k, 1)\n",
    "        v_old = np.divide(v_old, np.linalg.norm(v_old))\n",
    "        for iter in range(maxiter):\n",
    "            v_new = (X_whit.T @ (X_whit @ v_old * X_whit @ v_old))/ tot\n",
    "            #v_new = v_new - s_est * (W' * mu * dot((W*v_old),(W*v_old)));\n",
    "            #v_new = v_new - s_est * (2 * W' * W * v_old * ((W'*mu)' * (v_old)));\n",
    "            v_new -= s_est * ((W.T @ mu) @ np.dot((W @ v_old).T, (W @ v_old)))\n",
    "            v_new -= s_est * (2 * (W.T @ (W @ (v_old @ ((W.T @ mu).T @ v_old)))))\n",
    "            if i > 0:\n",
    "                for j in range(i):\n",
    "                    v_new -= np.reshape(V_est[:, j] * np.power((v_old.T @ V_est[:, j]), 2) * lamb[j], (k, 1))\n",
    "            l = np.linalg.norm(v_new)\n",
    "            v_new = np.divide(v_new, np.linalg.norm(v_new))\n",
    "            if np.linalg.norm(v_old - v_new) < TOL:\n",
    "                V_est[:, i] = np.reshape(v_new, k)\n",
    "                lamb[i] = l\n",
    "                break\n",
    "            v_old = v_new\n",
    "    \n",
    "    return (V_est, lamb)"
   ]
  },
  {
   "cell_type": "markdown",
   "metadata": {},
   "source": [
    "### Perform backwards transformation"
   ]
  },
  {
   "cell_type": "code",
   "execution_count": null,
   "metadata": {
    "tags": []
   },
   "outputs": [],
   "source": [
    "def perform_backwards_transformation(V_est, lamb):\n",
    "    # print(\"V\\n\")\n",
    "    # print(V_est)\n",
    "    # print(\"\\n#####################################################\\n\")\n",
    "    # print(\"Lamb\\n\")\n",
    "    # print(lamb)\n",
    "    # print(\"\\n#####################################################\\n\")\n",
    "    # print(np.linalg.pinv(W.T) @ V_est)\n",
    "    # print(\"\\n#####################################################\\n\")\n",
    "    # print(np.diag(np.reshape(lamb.T, k)))\n",
    "    # print(\"\\n#####################################################\\n\")\n",
    "    # print((np.linalg.pinv(W.T) @ V_est) @ np.diag(np.reshape(lamb.T, k)))\n",
    "    # print(\"\\n#####################################################\\n\")\n",
    "    return (np.linalg.pinv(W.T) @ V_est) @ np.diag(np.reshape(lamb.T, k))"
   ]
  },
  {
   "cell_type": "markdown",
   "metadata": {},
   "source": [
    "### Plot result"
   ]
  },
  {
   "cell_type": "code",
   "execution_count": null,
   "metadata": {
    "tags": []
   },
   "outputs": [],
   "source": [
    "def plot_results(X, A, A_est, s_est, FB):\n",
    "    plt.axis('equal')\n",
    "    \n",
    "    ax = plt.subplot(aspect='equal')\n",
    "    \n",
    "    plt.plot(X[:,0], X[:,1], '.', zorder=-3)\n",
    "    \n",
    "    for i in range(k):\n",
    "        mean = A[:, i].T\n",
    "        mean_est = A_est[:, i].T\n",
    "        \n",
    "        plt.plot(mean[0], mean[1], 'x', color='y', zorder=-2)\n",
    "        plt.plot(mean_est[0], mean_est[1], '+', color='r', zorder=-1)\n",
    "        \n",
    "        ell = Ellipse(xy=(mean_est[0], mean_est[1]),\n",
    "                      width=s_est, height=s_est,\n",
    "                      angle=0, color='red')\n",
    "        ell.set_facecolor('none')\n",
    "        ax.add_artist(ell)\n",
    "    if FB:\n",
    "        plt.title(\"FB(GMM)\")\n",
    "    else:\n",
    "        plt.title(\"GMM\")\n",
    "    plt.show()"
   ]
  },
  {
   "cell_type": "code",
   "execution_count": null,
   "metadata": {},
   "outputs": [],
   "source": [
    "def plot_mixtures(X, FB):\n",
    "    plt.axis('equal')\n",
    "    \n",
    "    ax = plt.subplot(aspect='equal')\n",
    "    \n",
    "    plt.plot(X[:,0], X[:,1], '.', zorder=-3)\n",
    "    if FB:\n",
    "        plt.title(\"FB(GMM)\")\n",
    "    else:\n",
    "        plt.title(\"GMM\")\n",
    "    plt.show()"
   ]
  },
  {
   "cell_type": "markdown",
   "metadata": {},
   "source": [
    "# Center Data"
   ]
  },
  {
   "cell_type": "code",
   "execution_count": null,
   "metadata": {},
   "outputs": [],
   "source": [
    "def center_gmm(X, A):\n",
    "    X = X - np.mean(X)\n",
    "    A = A - np.mean(A)\n",
    "    return X, A"
   ]
  },
  {
   "cell_type": "markdown",
   "metadata": {},
   "source": [
    "# Add Noise"
   ]
  },
  {
   "cell_type": "code",
   "execution_count": null,
   "metadata": {},
   "outputs": [],
   "source": [
    "def add_noise(X, thresh):\n",
    "    for i in range(thresh):\n",
    "        noise = np.random.standard_cauchy((X.shape[1]))\n",
    "        random_point = np.random.randint(0,X.shape[0])\n",
    "        X[random_point, :] += noise\n",
    "    return X"
   ]
  },
  {
   "cell_type": "markdown",
   "metadata": {},
   "source": [
    "# Execution"
   ]
  },
  {
   "cell_type": "code",
   "execution_count": null,
   "metadata": {
    "tags": []
   },
   "outputs": [],
   "source": [
    "d = 10\n",
    "k = 6\n",
    "n = 1000\n",
    "tot = k * n\n",
    "s = 2\n",
    "dist = 20\n",
    "spher = True\n",
    "cov_range = 2\n",
    "\n",
    "\n",
    "X, A = generate_data()\n",
    "X, A = center_gmm(X, A)\n",
    "mu = calculate_first_moment(X)\n",
    "Sigma = calculate_second_moment(X)\n",
    "\n",
    "s_est, W, X_whit = extract_information_from_second_moment(Sigma, X)\n",
    "\n",
    "V_est, lamb = perform_tensor_power_method(X_whit, W, s_est, mu)\n",
    "\n",
    "A_est = perform_backwards_transformation(V_est, lamb)\n",
    "\n",
    "plot_results(X, A, A_est, s_est)"
   ]
  },
  {
   "cell_type": "code",
   "execution_count": null,
   "metadata": {},
   "outputs": [],
   "source": [
    "def support(X, val, q): # Set q to be the qth quantile\n",
    "    return np.quantile((X.T).dot(val), q)\n",
    "\n",
    "def compute_fb(X, q, n):\n",
    "    polar_body = np.ones((n,0))\n",
    "    for i in range(X.shape[1]):\n",
    "        if support(X, X[:,i] / la.norm(X[:,i]), q) > np.dot(X[:,i], X[:,i]/la.norm(X[:,i])): \n",
    "            polar_body = np.hstack((polar_body, np.array(X[:,i]).reshape(n,1)))\n",
    "    return polar_body"
   ]
  },
  {
   "cell_type": "code",
   "execution_count": null,
   "metadata": {},
   "outputs": [],
   "source": [
    "def Frobenius_Norm(A, A_):\n",
    "    return np.sqrt(np.trace(np.subtract(A, A_)@np.subtract(A,A_).conj().T))\n",
    "\n",
    "\n",
    "def Get_Min(A,A_):\n",
    "    weights = -abs((A.T@A_)**2)\n",
    "    ind = octave.munkres(weights)\n",
    "    fs = [int(x) - 1 for x in list(ind[0])]\n",
    "    B = A_[:, fs]\n",
    "    innerprod = np.diag(np.real(A.T@B) < 0)\n",
    "    B[:,innerprod] = -B[:, innerprod]\n",
    "    min_ = Frobenius_Norm(B, A)\n",
    "    return min_"
   ]
  },
  {
   "cell_type": "code",
   "execution_count": null,
   "metadata": {
    "tags": []
   },
   "outputs": [],
   "source": [
    "d = 10\n",
    "k = 5\n",
    "n = 2000\n",
    "tot = k * n\n",
    "s = 2\n",
    "dist = 20\n",
    "spher = True\n",
    "cov_range = 2\n",
    "###########################################################################\n",
    "#W/o FB\n",
    "X, A = generate_data()\n",
    "X, A = center_gmm(X, A)\n",
    "\n",
    "#print(\"\\nREGULAR GMM RESULTS\\n\")\n",
    "mu = calculate_first_moment(X)\n",
    "Sigma = calculate_second_moment(X)\n",
    "\n",
    "s_est, W, X_whit = extract_information_from_second_moment(Sigma, X)\n",
    "\n",
    "V_est, lamb = perform_tensor_power_method(X_whit, W, s_est, mu)\n",
    "\n",
    "A_est = perform_backwards_transformation(V_est, lamb)\n",
    "plot_results(X, A, A_est, s_est, False)\n",
    "############################################################\n",
    "#W/FB\n",
    "X_ = add_noise(X, 1000)\n",
    "tot = X_.shape[1]\n",
    "\n",
    "mu_wo = calculate_first_moment(X_)\n",
    "Sigma_wo = calculate_second_moment(X_)\n",
    "\n",
    "s_est_wo, W_wo, X_whit_wo = extract_information_from_second_moment(Sigma_wo, X_)\n",
    "\n",
    "V_est_wo, lamb_wo = perform_tensor_power_method(X_whit_wo, W_wo, s_est_wo, mu_wo)\n",
    "\n",
    "#print(\"FB A_est_ print outs\")\n",
    "\n",
    "A_est_wo = perform_backwards_transformation(V_est_wo, lamb_wo)\n",
    "\n",
    "plot_results(X_, A, A_est_wo, s_est_wo, False)\n",
    "############################################################\n",
    "#print(\"\\nFLOATING BODY RESULTS\\n\")\n",
    "\n",
    "#W/FB\n",
    "X_ = compute_fb(X_.T, .95, d)\n",
    "tot = X_.shape[1]\n",
    "\n",
    "mu_ = calculate_first_moment(X_.T)\n",
    "Sigma_ = calculate_second_moment(X_.T)\n",
    "\n",
    "s_est_, W_, X_whit_ = extract_information_from_second_moment(Sigma_, X_.T)\n",
    "\n",
    "V_est_, lamb_ = perform_tensor_power_method(X_whit_, W_, s_est_, mu_)\n",
    "\n",
    "#print(\"FB A_est_ print outs\")\n",
    "\n",
    "A_est_ = perform_backwards_transformation(V_est_, lamb_)\n",
    "\n",
    "plot_results(X_.T, A, A_est_, s_est_, True)"
   ]
  },
  {
   "cell_type": "code",
   "execution_count": 628,
   "metadata": {},
   "outputs": [
    {
     "data": {
      "text/plain": [
       "0.029692783800352375"
      ]
     },
     "execution_count": 628,
     "metadata": {},
     "output_type": "execute_result"
    }
   ],
   "source": [
    "normal = np.zeros((2,k))\n",
    "nofb = np.zeros((2,k))\n",
    "yesfb = np.zeros((2,k))\n",
    "OG_fb = np.zeros((2,k))\n",
    "for i in range(k):\n",
    "        mean = A_est[:, i].T\n",
    "        mean_wo = A_est_wo[:, i].T\n",
    "        mean_est = A_est_[:, i].T\n",
    "        OG_mean = A[:,i].T\n",
    "        \n",
    "        normal[:,i] = np.array([mean[0], mean[1]])\n",
    "        nofb[:,i] = np.array([mean_wo[0], mean_wo[1]])\n",
    "        yesfb[:,i] = np.array([mean_est[0], mean_est[1]])\n",
    "        OG_fb[:,i] = np.array([OG_mean[0], OG_mean[1]])\n",
    "Get_Min(normal/la.norm(normal,2), yesfb/la.norm(yesfb,2))\n"
   ]
  },
  {
   "cell_type": "code",
   "execution_count": 621,
   "metadata": {},
   "outputs": [
    {
     "name": "stdout",
     "output_type": "stream",
     "text": [
      "Difference of A and FB: 0.5285821707284798\n"
     ]
    }
   ],
   "source": [
    "print(f\"Difference of A and FB: {Get_Min(normal/la.norm(OG_fb,2), yesfb/la.norm(yesfb,2))}\")"
   ]
  },
  {
   "cell_type": "code",
   "execution_count": 622,
   "metadata": {},
   "outputs": [
    {
     "name": "stdout",
     "output_type": "stream",
     "text": [
      "Difference of No and FB: 1.2399909478399742\n"
     ]
    }
   ],
   "source": [
    "print(f\"Difference of No and FB: {Get_Min(normal/la.norm(OG_fb,2), nofb/la.norm(nofb,2))}\")"
   ]
  },
  {
   "cell_type": "code",
   "execution_count": 623,
   "metadata": {},
   "outputs": [
    {
     "name": "stdout",
     "output_type": "stream",
     "text": [
      "Difference of A and Normal: 1.2500622847710199\n"
     ]
    }
   ],
   "source": [
    "print(f\"Difference of A and Normal: {Get_Min(OG_fb/la.norm(OG_fb,2), nofb/la.norm(nofb,2))}\")"
   ]
  },
  {
   "cell_type": "code",
   "execution_count": 624,
   "metadata": {},
   "outputs": [],
   "source": [
    "octave.addpath('/mnt/linuxlab/home/jmontebell2/Github/boobs/');"
   ]
  },
  {
   "cell_type": "code",
   "execution_count": 567,
   "metadata": {},
   "outputs": [
    {
     "data": {
      "text/plain": [
       "(15, 3)"
      ]
     },
     "execution_count": 567,
     "metadata": {},
     "output_type": "execute_result"
    }
   ],
   "source": [
    "A_est_wo.shape"
   ]
  },
  {
   "cell_type": "code",
   "execution_count": null,
   "metadata": {},
   "outputs": [],
   "source": []
  }
 ],
 "metadata": {
  "kernelspec": {
   "display_name": "Python 3",
   "language": "python",
   "name": "python3"
  },
  "language_info": {
   "codemirror_mode": {
    "name": "ipython",
    "version": 3
   },
   "file_extension": ".py",
   "mimetype": "text/x-python",
   "name": "python",
   "nbconvert_exporter": "python",
   "pygments_lexer": "ipython3",
   "version": "3.8.5"
  }
 },
 "nbformat": 4,
 "nbformat_minor": 4
}
