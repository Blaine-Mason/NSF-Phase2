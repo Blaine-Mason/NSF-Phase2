{
 "cells": [
  {
   "cell_type": "markdown",
   "metadata": {},
   "source": [
    "# Estimating spherical Gaussian Mixture Models (GMMs) using Tensor Decompositions"
   ]
  },
  {
   "cell_type": "code",
   "execution_count": 447,
   "metadata": {
    "tags": []
   },
   "outputs": [],
   "source": [
    "import numpy as np\n",
    "import matplotlib.pyplot as plt\n",
    "from matplotlib.patches import Ellipse\n",
    "import numpy.linalg as la\n",
    "from oct2py import octave\n",
    "octave.addpath('../');\n",
    "import pandas as pd\n",
    "import seaborn as sns\n",
    "from tqdm import tqdm"
   ]
  },
  {
   "cell_type": "markdown",
   "metadata": {},
   "source": [
    "### Generate data"
   ]
  },
  {
   "cell_type": "code",
   "execution_count": 6,
   "metadata": {
    "tags": []
   },
   "outputs": [],
   "source": [
    "def generate_data():\n",
    "    A = -dist+(dist+dist)*np.random.rand(d, k)\n",
    "    X = np.zeros((tot, d))\n",
    "\n",
    "    plt.axis('equal')\n",
    "\n",
    "    for i in range(k):\n",
    "        mean = A[:, i].T\n",
    "        if spher:\n",
    "            covariance = s * np.eye(d)\n",
    "        else:\n",
    "            a = -cov_range + (cov_range + cov_range) * np.random.rand(d, d)\n",
    "            covariance = a.T @ a\n",
    "        mvn = np.random.multivariate_normal(mean, covariance, n)\n",
    "        #plt.plot(mvn[:, 0], mvn[:, 1], '.')\n",
    "        #plt.plot(mean[0], mean[1], 'x')\n",
    "        X[i*n:(i+1)*n, :] = mvn\n",
    "        \n",
    "    return (X, A)"
   ]
  },
  {
   "cell_type": "markdown",
   "metadata": {},
   "source": [
    "import pandas as pd\n",
    "import seaborn as sns### Calculate first order data moment (mean)"
   ]
  },
  {
   "cell_type": "code",
   "execution_count": 7,
   "metadata": {
    "tags": []
   },
   "outputs": [],
   "source": [
    "def calculate_first_moment(X):\n",
    "    mu = np.zeros((d, 1))\n",
    "    for t in range(tot):\n",
    "        for i in range(d):\n",
    "            mu[i] += X[t, i]\n",
    "    mu /= tot\n",
    "    return mu"
   ]
  },
  {
   "cell_type": "markdown",
   "metadata": {},
   "source": [
    "### Calculate second order data moment (covariance)"
   ]
  },
  {
   "cell_type": "code",
   "execution_count": 8,
   "metadata": {
    "tags": []
   },
   "outputs": [],
   "source": [
    "def calculate_second_moment(X):\n",
    "    Sigma = np.zeros((d, d))\n",
    "    for t in range(tot):\n",
    "        for i in range(d):\n",
    "            for j in range(d):\n",
    "                Sigma[i, j] += np.dot(X[t, i],X[t, j])\n",
    "    Sigma /= tot\n",
    "    return Sigma"
   ]
  },
  {
   "cell_type": "markdown",
   "metadata": {},
   "source": [
    "### Extract information from second order data moment"
   ]
  },
  {
   "cell_type": "code",
   "execution_count": 9,
   "metadata": {
    "tags": []
   },
   "outputs": [],
   "source": [
    "def extract_information_from_second_moment(Sigma, X):\n",
    "    # print(\"Sigma array\\n\")\n",
    "    # print(Sigma)\n",
    "    # print(\"\\n#####################################################\\n\")\n",
    "    U, S, _ = np.linalg.svd(Sigma)\n",
    "    # print(\"Unitary array\\n\")\n",
    "    # print(U)\n",
    "    # print(\"\\n#####################################################\\n\")\n",
    "    # print(\"Eigenvalues\\n\")\n",
    "    # print(S)\n",
    "    # print(\"\\n#####################################################\\n\")\n",
    "    s_est = S[-1]\n",
    "    W, X_whit = perform_whitening(X, U, S)\n",
    "    return (s_est, W, X_whit)"
   ]
  },
  {
   "cell_type": "markdown",
   "metadata": {},
   "source": [
    "### Perform whitening"
   ]
  },
  {
   "cell_type": "code",
   "execution_count": 10,
   "metadata": {
    "tags": []
   },
   "outputs": [],
   "source": [
    "def perform_whitening(X, U, S):\n",
    "    W = U[:, 0:k] @ np.sqrt(np.linalg.pinv(np.diag(S[0:k])))\n",
    "    # print(\"Whitening Matrix\\n\")\n",
    "    # print(W)\n",
    "    # print(\"\\n#####################################################\\n\")\n",
    "    X_whit = X @ W\n",
    "    # print(\"X Whitened\\n\")\n",
    "    # print(X_whit)\n",
    "    # print(\"\\n#####################################################\\n\")\n",
    "    return (W, X_whit)"
   ]
  },
  {
   "cell_type": "markdown",
   "metadata": {},
   "source": [
    "### Perform tensor power method"
   ]
  },
  {
   "cell_type": "code",
   "execution_count": 36,
   "metadata": {
    "tags": []
   },
   "outputs": [],
   "source": [
    "def perform_tensor_power_method(X_whit, W, s_est, mu):\n",
    "    TOL = 1e-8\n",
    "    maxiter = 100\n",
    "    V_est = np.zeros((k, k))\n",
    "    lamb = np.zeros((k, 1))\n",
    "    \n",
    "    for i in range(k):\n",
    "        v_old = np.random.rand(k, 1)\n",
    "        v_old = np.divide(v_old, np.linalg.norm(v_old))\n",
    "        for iter in range(maxiter):\n",
    "            #print((X_whit.T @ (X_whit @ v_old * X_whit @ v_old))/ tot)\n",
    "            #print(\"#####################\")\n",
    "            v_new = (X_whit.T @ (X_whit @ v_old * X_whit @ v_old))/ tot\n",
    "            #v_new = v_new - s_est * (W' * mu * dot((W*v_old),(W*v_old)));\n",
    "            #v_new = v_new - s_est * (2 * W' * W * v_old * ((W'*mu)' * (v_old)));\n",
    "            v_new -= s_est * ((W.T @ mu) @ np.dot((W @ v_old).T, (W @ v_old)))\n",
    "            v_new -= s_est * (2 * (W.T @ (W @ (v_old @ ((W.T @ mu).T @ v_old)))))\n",
    "            if i > 0:\n",
    "                for j in range(i):\n",
    "                    v_new -= np.reshape(V_est[:, j] * np.power((v_old.T @ V_est[:, j]), 2) * lamb[j], (k, 1))\n",
    "            l = np.linalg.norm(v_new)\n",
    "            v_new = np.divide(v_new, np.linalg.norm(v_new))\n",
    "            if np.linalg.norm(v_old - v_new) < TOL:\n",
    "                V_est[:, i] = np.reshape(v_new, k)\n",
    "                lamb[i] = l\n",
    "                break\n",
    "            v_old = v_new\n",
    "    \n",
    "    return (V_est, lamb)"
   ]
  },
  {
   "cell_type": "markdown",
   "metadata": {},
   "source": [
    "### Perform backwards transformation"
   ]
  },
  {
   "cell_type": "code",
   "execution_count": 52,
   "metadata": {
    "tags": []
   },
   "outputs": [],
   "source": [
    "def perform_backwards_transformation(V_est, lamb):\n",
    "    return (np.linalg.pinv(W.T) @ V_est) @ np.diag(np.reshape(lamb.T, k))"
   ]
  },
  {
   "cell_type": "markdown",
   "metadata": {},
   "source": [
    "### Plot result"
   ]
  },
  {
   "cell_type": "code",
   "execution_count": 38,
   "metadata": {
    "tags": []
   },
   "outputs": [],
   "source": [
    "def plot_results(X, A, A_est, s_est, FB):\n",
    "    plt.axis('equal')\n",
    "    \n",
    "    ax = plt.subplot(aspect='equal')\n",
    "    \n",
    "    plt.plot(X[:,0], X[:,1], '.', zorder=-3)\n",
    "    \n",
    "    for i in range(k):\n",
    "        mean = A[:, i].T\n",
    "        mean_est = A_est[:, i].T\n",
    "        \n",
    "        plt.plot(mean[0], mean[1], 'x', color='y', zorder=-2)\n",
    "        plt.plot(mean_est[0], mean_est[1], '+', color='r', zorder=-1)\n",
    "        \n",
    "        ell = Ellipse(xy=(mean_est[0], mean_est[1]),\n",
    "                      width=s_est, height=s_est,\n",
    "                      angle=0, color='red')\n",
    "        ell.set_facecolor('none')\n",
    "        ax.add_artist(ell)\n",
    "    if FB:\n",
    "        plt.title(\"FB(GMM)\")\n",
    "    else:\n",
    "        plt.title(\"GMM\")\n",
    "    plt.show()"
   ]
  },
  {
   "cell_type": "code",
   "execution_count": 39,
   "metadata": {},
   "outputs": [],
   "source": [
    "def plot_mixtures(X, FB):\n",
    "    plt.axis('equal')\n",
    "    \n",
    "    ax = plt.subplot(aspect='equal')\n",
    "    \n",
    "    plt.plot(X[:,0], X[:,1], '.', zorder=-3)\n",
    "    if FB:\n",
    "        plt.title(\"FB(GMM)\")\n",
    "    else:\n",
    "        plt.title(\"GMM\")\n",
    "    plt.show()"
   ]
  },
  {
   "cell_type": "markdown",
   "metadata": {},
   "source": [
    "# Center Data"
   ]
  },
  {
   "cell_type": "code",
   "execution_count": 40,
   "metadata": {},
   "outputs": [],
   "source": [
    "def center_gmm(X, A):\n",
    "    X = X - np.mean(X)\n",
    "    A = A - np.mean(A)\n",
    "    return X, A"
   ]
  },
  {
   "cell_type": "markdown",
   "metadata": {},
   "source": [
    "# Add Noise"
   ]
  },
  {
   "cell_type": "code",
   "execution_count": 41,
   "metadata": {},
   "outputs": [],
   "source": [
    "def add_noise(X, thresh):\n",
    "    for i in range(thresh):\n",
    "        noise = np.random.standard_cauchy((X.shape[1]))\n",
    "        random_point = np.random.randint(0,X.shape[0])\n",
    "        X[random_point, :] += noise\n",
    "    return X"
   ]
  },
  {
   "cell_type": "markdown",
   "metadata": {},
   "source": [
    "# Execution"
   ]
  },
  {
   "cell_type": "code",
   "execution_count": 42,
   "metadata": {
    "tags": []
   },
   "outputs": [
    {
     "data": {
      "image/png": "[encoded data removed]",
      "text/plain": [
       "<Figure size 432x288 with 1 Axes>"
      ]
     },
     "metadata": {
      "needs_background": "light"
     },
     "output_type": "display_data"
    }
   ],
   "source": [
    "d = 10\n",
    "k = 6\n",
    "n = 1000\n",
    "tot = k * n\n",
    "s = 2\n",
    "dist = 20\n",
    "spher = True\n",
    "cov_range = 2\n",
    "\n",
    "\n",
    "X, A = generate_data()\n",
    "X, A = center_gmm(X, A)\n",
    "mu = calculate_first_moment(X)\n",
    "Sigma = calculate_second_moment(X)\n",
    "\n",
    "s_est, W, X_whit = extract_information_from_second_moment(Sigma, X)\n",
    "\n",
    "V_est, lamb = perform_tensor_power_method(X_whit, W, s_est, mu)\n",
    "\n",
    "A_est = perform_backwards_transformation(V_est, lamb)\n",
    "\n",
    "#plot_results(X, A, A_est, s_est)"
   ]
  },
  {
   "cell_type": "code",
   "execution_count": 43,
   "metadata": {},
   "outputs": [],
   "source": [
    "def support(X, val, q): # Set q to be the qth quantile\n",
    "    return np.quantile((X.T).dot(val), q)\n",
    "\n",
    "def compute_fb(X, q, n):\n",
    "    polar_body = np.ones((n,0))\n",
    "    for i in range(X.shape[1]):\n",
    "        if support(X, X[:,i] / la.norm(X[:,i]), q) > np.dot(X[:,i], X[:,i]/la.norm(X[:,i])): \n",
    "            polar_body = np.hstack((polar_body, np.array(X[:,i]).reshape(n,1)))\n",
    "    return polar_body"
   ]
  },
  {
   "cell_type": "code",
   "execution_count": 408,
   "metadata": {},
   "outputs": [],
   "source": [
    "def Frobenius_Norm(A, A_):\n",
    "    return np.sqrt(np.trace(np.subtract(A, A_)@np.subtract(A, A_).conj().T))\n",
    "\n",
    "\n",
    "def Get_Min(A,A_):\n",
    "    weights = -abs((A.T@A_)**2)\n",
    "    ind = octave.munkres(weights)\n",
    "    fs = [int(x) - 1 for x in list(ind[0])]\n",
    "    B = A_[:, fs]\n",
    "    innerprod = np.diag(np.real(A.T@B) < 0)\n",
    "    B[:,innerprod] = -B[:, innerprod]\n",
    "    min_ = Frobenius_Norm(B, A)\n",
    "    return min_"
   ]
  },
  {
   "cell_type": "code",
   "execution_count": 472,
   "metadata": {
    "tags": []
   },
   "outputs": [
    {
     "name": "stderr",
     "output_type": "stream",
     "text": [
      "100%|██████████████████████████████████████████| 11/11 [43:02<00:00, 234.79s/it]\n"
     ]
    },
    {
     "data": {
      "image/png": "[encoded data removed]",
      "text/plain": [
       "<Figure size 432x288 with 1 Axes>"
      ]
     },
     "metadata": {},
     "output_type": "display_data"
    }
   ],
   "source": [
    "final = []\n",
    "for d in tqdm(range(10, 21)):\n",
    "    k = 5\n",
    "    mins = []\n",
    "    for n in range(1000, 11000, 1000):\n",
    "        tot = k * n\n",
    "        s = 2\n",
    "        dist = 20\n",
    "        spher = True\n",
    "        cov_range = 2\n",
    "        ###########################################################################\n",
    "        #W/o FB\n",
    "        X, A = generate_data()\n",
    "        X, A = center_gmm(X, A)\n",
    "\n",
    "        #print(\"\\nREGULAR GMM RESULTS\\n\")\n",
    "        mu = calculate_first_moment(X)\n",
    "        Sigma = calculate_second_moment(X)\n",
    "\n",
    "        s_est, W, X_whit = extract_information_from_second_moment(Sigma, X)\n",
    "\n",
    "        V_est, lamb = perform_tensor_power_method(X_whit, W, s_est, mu)\n",
    "\n",
    "        A_est = perform_backwards_transformation(V_est, lamb)\n",
    "        #plot_results(X, A, A_est, s_est, False)\n",
    "        ############################################################\n",
    "        #W/FB\n",
    "        X_ = add_noise(X, 1000)\n",
    "        tot = X_.shape[1]\n",
    "\n",
    "        mu_wo = calculate_first_moment(X_)\n",
    "        Sigma_wo = calculate_second_moment(X_)\n",
    "\n",
    "        s_est_wo, W_wo, X_whit_wo = extract_information_from_second_moment(Sigma_wo, X_)\n",
    "\n",
    "        V_est_wo, lamb_wo = perform_tensor_power_method(X_whit_wo, W_wo, s_est_wo, mu_wo)\n",
    "\n",
    "        #print(\"FB A_est_ print outs\")\n",
    "\n",
    "        A_est_wo = perform_backwards_transformation(V_est_wo, lamb_wo)\n",
    "\n",
    "        #plot_results(X_, A, A_est_wo, s_est_wo, False)\n",
    "        ############################################################\n",
    "        #print(\"\\nFLOATING BODY RESULTS\\n\")\n",
    "\n",
    "        #W/FB\n",
    "        X_ = compute_fb(X_.T, .95, d)\n",
    "        tot = X_.shape[1]\n",
    "\n",
    "        mu_ = calculate_first_moment(X_.T)\n",
    "        Sigma_ = calculate_second_moment(X_.T)\n",
    "\n",
    "        s_est_, W_, X_whit_ = extract_information_from_second_moment(Sigma_, X_.T)\n",
    "\n",
    "        V_est_, lamb_ = perform_tensor_power_method(X_whit_, W_, s_est_, mu_)\n",
    "\n",
    "        #print(\"FB A_est_ print outs\")\n",
    "\n",
    "        A_est_ = perform_backwards_transformation(V_est_, lamb_)\n",
    "\n",
    "        #plot_results(X_.T, A, A_est_, s_est_, True)\n",
    "        normal = np.zeros((2,k))\n",
    "        nofb = np.zeros((2,k))\n",
    "        yesfb = np.zeros((2,k))\n",
    "        OG_fb = np.zeros((2,k))\n",
    "        for i in range(k):\n",
    "                mean = A_est[:, i].T\n",
    "                mean_wo = A_est_wo[:, i].T\n",
    "                mean_est = A_est_[:, i].T\n",
    "                OG_mean = A[:,i].T\n",
    "\n",
    "                normal[:,i] = np.array([mean[0], mean[1]])\n",
    "                nofb[:,i] = np.array([mean_wo[0], mean_wo[1]])\n",
    "                yesfb[:,i] = np.array([mean_est[0], mean_est[1]])\n",
    "                OG_fb[:,i] = np.array([OG_mean[0], OG_mean[1]])\n",
    "        mins.append(Get_Min(normal/la.norm(OG_fb,2), yesfb/la.norm(yesfb,2)))\n",
    "    final.append(mins)"
   ]
  },
  {
   "cell_type": "code",
   "execution_count": 473,
   "metadata": {},
   "outputs": [
    {
     "name": "stdout",
     "output_type": "stream",
     "text": [
      "Difference of A and FB: 0.6336618801191479\n"
     ]
    }
   ],
   "source": [
    "print(f\"Difference of A and FB: {Get_Min(normal/la.norm(OG_fb,2), yesfb/la.norm(yesfb,2))}\")"
   ]
  },
  {
   "cell_type": "code",
   "execution_count": 474,
   "metadata": {},
   "outputs": [
    {
     "name": "stdout",
     "output_type": "stream",
     "text": [
      "Difference of No and FB: 1.2039122647520628\n"
     ]
    }
   ],
   "source": [
    "print(f\"Difference of No and FB: {Get_Min(normal/la.norm(OG_fb,2), nofb/la.norm(nofb,2))}\")"
   ]
  },
  {
   "cell_type": "code",
   "execution_count": 475,
   "metadata": {},
   "outputs": [
    {
     "name": "stdout",
     "output_type": "stream",
     "text": [
      "Difference of A and Normal: 1.207785360840379\n"
     ]
    }
   ],
   "source": [
    "print(f\"Difference of A and Normal: {Get_Min(OG_fb/la.norm(OG_fb,2), nofb/la.norm(nofb,2))}\")"
   ]
  },
  {
   "cell_type": "code",
   "execution_count": 476,
   "metadata": {},
   "outputs": [],
   "source": [
    "df2 = pd.DataFrame(final, columns = [\"1000\", \"2000\", \"3000\", \"4000\", \"5000\", \"6000\", \"7000\", \"8000\", \"9000\", \"10000\"] ,index = [\"DIM-10\",\"DIM-11\",\"DIM-12\",\"DIM-13\",\"DIM-14\",\"DIM-15\",\"DIM-16\",\"DIM-17\",\"DIM-18\",\"DIM-19\", \"DIM-20\"])"
   ]
  },
  {
   "cell_type": "code",
   "execution_count": 477,
   "metadata": {},
   "outputs": [
    {
     "data": {
      "text/html": [
       "<div>\n",
       "<style scoped>\n",
       "    .dataframe tbody tr th:only-of-type {\n",
       "        vertical-align: middle;\n",
       "    }\n",
       "\n",
       "    .dataframe tbody tr th {\n",
       "        vertical-align: top;\n",
       "    }\n",
       "\n",
       "    .dataframe thead th {\n",
       "        text-align: right;\n",
       "    }\n",
       "</style>\n",
       "<table border=\"1\" class=\"dataframe\">\n",
       "  <thead>\n",
       "    <tr style=\"text-align: right;\">\n",
       "      <th></th>\n",
       "      <th>1000</th>\n",
       "      <th>2000</th>\n",
       "      <th>3000</th>\n",
       "      <th>4000</th>\n",
       "      <th>5000</th>\n",
       "      <th>6000</th>\n",
       "      <th>7000</th>\n",
       "      <th>8000</th>\n",
       "      <th>9000</th>\n",
       "      <th>10000</th>\n",
       "    </tr>\n",
       "  </thead>\n",
       "  <tbody>\n",
       "    <tr>\n",
       "      <th>DIM-10</th>\n",
       "      <td>0.039281</td>\n",
       "      <td>0.120052</td>\n",
       "      <td>0.660327</td>\n",
       "      <td>0.071937</td>\n",
       "      <td>0.142244</td>\n",
       "      <td>0.040344</td>\n",
       "      <td>0.030543</td>\n",
       "      <td>0.103478</td>\n",
       "      <td>0.037284</td>\n",
       "      <td>0.718135</td>\n",
       "    </tr>\n",
       "    <tr>\n",
       "      <th>DIM-11</th>\n",
       "      <td>0.055711</td>\n",
       "      <td>0.041769</td>\n",
       "      <td>0.057036</td>\n",
       "      <td>0.118375</td>\n",
       "      <td>0.114824</td>\n",
       "      <td>0.061454</td>\n",
       "      <td>0.059404</td>\n",
       "      <td>0.022505</td>\n",
       "      <td>0.446126</td>\n",
       "      <td>0.029752</td>\n",
       "    </tr>\n",
       "    <tr>\n",
       "      <th>DIM-12</th>\n",
       "      <td>0.032959</td>\n",
       "      <td>0.300590</td>\n",
       "      <td>0.057726</td>\n",
       "      <td>0.030826</td>\n",
       "      <td>0.079286</td>\n",
       "      <td>0.051030</td>\n",
       "      <td>0.015281</td>\n",
       "      <td>0.384933</td>\n",
       "      <td>0.031942</td>\n",
       "      <td>0.047657</td>\n",
       "    </tr>\n",
       "    <tr>\n",
       "      <th>DIM-13</th>\n",
       "      <td>0.280856</td>\n",
       "      <td>0.090935</td>\n",
       "      <td>0.553690</td>\n",
       "      <td>0.563485</td>\n",
       "      <td>0.071331</td>\n",
       "      <td>0.048929</td>\n",
       "      <td>0.030722</td>\n",
       "      <td>0.042569</td>\n",
       "      <td>0.098886</td>\n",
       "      <td>0.421160</td>\n",
       "    </tr>\n",
       "    <tr>\n",
       "      <th>DIM-14</th>\n",
       "      <td>0.034080</td>\n",
       "      <td>0.232851</td>\n",
       "      <td>0.070052</td>\n",
       "      <td>0.020422</td>\n",
       "      <td>0.079562</td>\n",
       "      <td>0.046615</td>\n",
       "      <td>0.476415</td>\n",
       "      <td>0.049822</td>\n",
       "      <td>0.051901</td>\n",
       "      <td>0.072041</td>\n",
       "    </tr>\n",
       "    <tr>\n",
       "      <th>DIM-15</th>\n",
       "      <td>0.044601</td>\n",
       "      <td>0.411048</td>\n",
       "      <td>0.142491</td>\n",
       "      <td>0.634694</td>\n",
       "      <td>0.570574</td>\n",
       "      <td>0.600624</td>\n",
       "      <td>0.333482</td>\n",
       "      <td>0.052411</td>\n",
       "      <td>0.678805</td>\n",
       "      <td>0.108182</td>\n",
       "    </tr>\n",
       "    <tr>\n",
       "      <th>DIM-16</th>\n",
       "      <td>0.037429</td>\n",
       "      <td>0.042088</td>\n",
       "      <td>0.060201</td>\n",
       "      <td>0.422132</td>\n",
       "      <td>0.129238</td>\n",
       "      <td>0.067178</td>\n",
       "      <td>0.049729</td>\n",
       "      <td>0.033636</td>\n",
       "      <td>0.246097</td>\n",
       "      <td>0.119563</td>\n",
       "    </tr>\n",
       "    <tr>\n",
       "      <th>DIM-17</th>\n",
       "      <td>0.361052</td>\n",
       "      <td>0.024234</td>\n",
       "      <td>0.645479</td>\n",
       "      <td>0.036471</td>\n",
       "      <td>0.699020</td>\n",
       "      <td>0.095885</td>\n",
       "      <td>0.037498</td>\n",
       "      <td>0.047839</td>\n",
       "      <td>0.046610</td>\n",
       "      <td>0.031752</td>\n",
       "    </tr>\n",
       "    <tr>\n",
       "      <th>DIM-18</th>\n",
       "      <td>0.092092</td>\n",
       "      <td>0.035568</td>\n",
       "      <td>0.239939</td>\n",
       "      <td>0.108663</td>\n",
       "      <td>0.068512</td>\n",
       "      <td>0.063432</td>\n",
       "      <td>0.031143</td>\n",
       "      <td>0.660219</td>\n",
       "      <td>0.062028</td>\n",
       "      <td>0.113350</td>\n",
       "    </tr>\n",
       "    <tr>\n",
       "      <th>DIM-19</th>\n",
       "      <td>0.205398</td>\n",
       "      <td>0.057462</td>\n",
       "      <td>0.536886</td>\n",
       "      <td>0.274419</td>\n",
       "      <td>0.031863</td>\n",
       "      <td>0.619683</td>\n",
       "      <td>0.079249</td>\n",
       "      <td>0.518538</td>\n",
       "      <td>0.210194</td>\n",
       "      <td>0.072260</td>\n",
       "    </tr>\n",
       "    <tr>\n",
       "      <th>DIM-20</th>\n",
       "      <td>0.410532</td>\n",
       "      <td>0.372076</td>\n",
       "      <td>0.022343</td>\n",
       "      <td>0.700502</td>\n",
       "      <td>0.040690</td>\n",
       "      <td>0.076315</td>\n",
       "      <td>0.400209</td>\n",
       "      <td>0.066979</td>\n",
       "      <td>0.499173</td>\n",
       "      <td>0.633662</td>\n",
       "    </tr>\n",
       "  </tbody>\n",
       "</table>\n",
       "</div>"
      ],
      "text/plain": [
       "            1000      2000      3000      4000      5000      6000      7000  \\\n",
       "DIM-10  0.039281  0.120052  0.660327  0.071937  0.142244  0.040344  0.030543   \n",
       "DIM-11  0.055711  0.041769  0.057036  0.118375  0.114824  0.061454  0.059404   \n",
       "DIM-12  0.032959  0.300590  0.057726  0.030826  0.079286  0.051030  0.015281   \n",
       "DIM-13  0.280856  0.090935  0.553690  0.563485  0.071331  0.048929  0.030722   \n",
       "DIM-14  0.034080  0.232851  0.070052  0.020422  0.079562  0.046615  0.476415   \n",
       "DIM-15  0.044601  0.411048  0.142491  0.634694  0.570574  0.600624  0.333482   \n",
       "DIM-16  0.037429  0.042088  0.060201  0.422132  0.129238  0.067178  0.049729   \n",
       "DIM-17  0.361052  0.024234  0.645479  0.036471  0.699020  0.095885  0.037498   \n",
       "DIM-18  0.092092  0.035568  0.239939  0.108663  0.068512  0.063432  0.031143   \n",
       "DIM-19  0.205398  0.057462  0.536886  0.274419  0.031863  0.619683  0.079249   \n",
       "DIM-20  0.410532  0.372076  0.022343  0.700502  0.040690  0.076315  0.400209   \n",
       "\n",
       "            8000      9000     10000  \n",
       "DIM-10  0.103478  0.037284  0.718135  \n",
       "DIM-11  0.022505  0.446126  0.029752  \n",
       "DIM-12  0.384933  0.031942  0.047657  \n",
       "DIM-13  0.042569  0.098886  0.421160  \n",
       "DIM-14  0.049822  0.051901  0.072041  \n",
       "DIM-15  0.052411  0.678805  0.108182  \n",
       "DIM-16  0.033636  0.246097  0.119563  \n",
       "DIM-17  0.047839  0.046610  0.031752  \n",
       "DIM-18  0.660219  0.062028  0.113350  \n",
       "DIM-19  0.518538  0.210194  0.072260  \n",
       "DIM-20  0.066979  0.499173  0.633662  "
      ]
     },
     "execution_count": 477,
     "metadata": {},
     "output_type": "execute_result"
    }
   ],
   "source": [
    "df2"
   ]
  },
  {
   "cell_type": "code",
   "execution_count": 488,
   "metadata": {},
   "outputs": [],
   "source": [
    "numpi = df2.to_numpy()"
   ]
  },
  {
   "cell_type": "code",
   "execution_count": 492,
   "metadata": {},
   "outputs": [
    {
     "data": {
      "image/png": "[encoded data removed]",
      "text/plain": [
       "<Figure size 432x288 with 1 Axes>"
      ]
     },
     "metadata": {},
     "output_type": "display_data"
    }
   ],
   "source": [
    "for i in range(0, 3):\n",
    "    plt.plot(np.arange(1000, 11000, 1000), numpi[i], label=f'Dim={10 + i}')\n",
    "plt.legend()\n",
    "plt.show()"
   ]
  },
  {
   "cell_type": "code",
   "execution_count": null,
   "metadata": {},
   "outputs": [],
   "source": []
  }
 ],
 "metadata": {
  "kernelspec": {
   "display_name": "Python 3 (ipykernel)",
   "language": "python",
   "name": "python3"
  },
  "language_info": {
   "codemirror_mode": {
    "name": "ipython",
    "version": 3
   },
   "file_extension": ".py",
   "mimetype": "text/x-python",
   "name": "python",
   "nbconvert_exporter": "python",
   "pygments_lexer": "ipython3",
   "version": "3.9.12"
  }
 },
 "nbformat": 4,
 "nbformat_minor": 4
}
