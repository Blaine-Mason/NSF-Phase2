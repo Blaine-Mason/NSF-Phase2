{
 "cells": [
  {
   "cell_type": "markdown",
   "metadata": {},
   "source": [
    "# Estimating spherical Gaussian Mixture Models (GMMs) using Tensor Decompositions"
   ]
  },
  {
   "cell_type": "code",
   "execution_count": 364,
   "metadata": {
    "tags": []
   },
   "outputs": [],
   "source": [
    "import numpy as np\n",
    "import matplotlib.pyplot as plt\n",
    "from matplotlib.patches import Ellipse\n",
    "import numpy.linalg as la\n",
    "from oct2py import octave\n",
    "octave.addpath('../');"
   ]
  },
  {
   "cell_type": "markdown",
   "metadata": {},
   "source": [
    "### Generate data"
   ]
  },
  {
   "cell_type": "code",
   "execution_count": 46,
   "metadata": {
    "tags": []
   },
   "outputs": [],
   "source": [
    "def generate_data():\n",
    "    A = -dist+(dist+dist)*np.random.rand(d, k)\n",
    "    X = np.zeros((tot, d))\n",
    "\n",
    "    plt.axis('equal')\n",
    "\n",
    "    for i in range(k):\n",
    "        mean = A[:, i].T\n",
    "        if spher:\n",
    "            covariance = s * np.eye(d)\n",
    "        else:\n",
    "            a = -cov_range + (cov_range + cov_range) * np.random.rand(d, d)\n",
    "            covariance = a.T @ a\n",
    "        mvn = np.random.multivariate_normal(mean, covariance, n)\n",
    "        #plt.plot(mvn[:, 0], mvn[:, 1], '.')\n",
    "        #plt.plot(mean[0], mean[1], 'x')\n",
    "        X[i*n:(i+1)*n, :] = mvn\n",
    "        \n",
    "    return (X, A)"
   ]
  },
  {
   "cell_type": "markdown",
   "metadata": {},
   "source": [
    "### Calculate first order data moment (mean)"
   ]
  },
  {
   "cell_type": "code",
   "execution_count": 241,
   "metadata": {
    "tags": []
   },
   "outputs": [],
   "source": [
    "def calculate_first_moment(X):\n",
    "    mu = np.zeros((d, 1))\n",
    "    for t in range(tot):\n",
    "        for i in range(d):\n",
    "            mu[i] += X[t, i]\n",
    "    mu /= tot\n",
    "    return mu"
   ]
  },
  {
   "cell_type": "markdown",
   "metadata": {},
   "source": [
    "### Calculate second order data moment (covariance)"
   ]
  },
  {
   "cell_type": "code",
   "execution_count": 39,
   "metadata": {
    "tags": []
   },
   "outputs": [],
   "source": [
    "def calculate_second_moment(X):\n",
    "    Sigma = np.zeros((d, d))\n",
    "    for t in range(tot):\n",
    "        for i in range(d):\n",
    "            for j in range(d):\n",
    "                Sigma[i, j] += np.dot(X[t, i],X[t, j])\n",
    "    Sigma /= tot\n",
    "    return Sigma"
   ]
  },
  {
   "cell_type": "markdown",
   "metadata": {},
   "source": [
    "### Extract information from second order data moment"
   ]
  },
  {
   "cell_type": "code",
   "execution_count": 304,
   "metadata": {
    "tags": []
   },
   "outputs": [],
   "source": [
    "def extract_information_from_second_moment(Sigma, X):\n",
    "    # print(\"Sigma array\\n\")\n",
    "    # print(Sigma)\n",
    "    # print(\"\\n#####################################################\\n\")\n",
    "    U, S, _ = np.linalg.svd(Sigma)\n",
    "    # print(\"Unitary array\\n\")\n",
    "    # print(U)\n",
    "    # print(\"\\n#####################################################\\n\")\n",
    "    # print(\"Eigenvalues\\n\")\n",
    "    # print(S)\n",
    "    # print(\"\\n#####################################################\\n\")\n",
    "    s_est = S[-1]\n",
    "    W, X_whit = perform_whitening(X, U, S)\n",
    "    return (s_est, W, X_whit)"
   ]
  },
  {
   "cell_type": "markdown",
   "metadata": {},
   "source": [
    "### Perform whitening"
   ]
  },
  {
   "cell_type": "code",
   "execution_count": 305,
   "metadata": {
    "tags": []
   },
   "outputs": [],
   "source": [
    "def perform_whitening(X, U, S):\n",
    "    W = U[:, 0:k] @ np.sqrt(np.linalg.pinv(np.diag(S[0:k])))\n",
    "    # print(\"Whitening Matrix\\n\")\n",
    "    # print(W)\n",
    "    # print(\"\\n#####################################################\\n\")\n",
    "    X_whit = X @ W\n",
    "    # print(\"X Whitened\\n\")\n",
    "    # print(X_whit)\n",
    "    # print(\"\\n#####################################################\\n\")\n",
    "    return (W, X_whit)"
   ]
  },
  {
   "cell_type": "markdown",
   "metadata": {},
   "source": [
    "### Perform tensor power method"
   ]
  },
  {
   "cell_type": "code",
   "execution_count": 306,
   "metadata": {
    "tags": []
   },
   "outputs": [],
   "source": [
    "def perform_tensor_power_method(X_whit, W, s_est, mu):\n",
    "    TOL = 1e-8\n",
    "    maxiter = 100\n",
    "    V_est = np.zeros((k, k))\n",
    "    lamb = np.zeros((k, 1))\n",
    "    \n",
    "    for i in range(k):\n",
    "        v_old = np.random.rand(k, 1)\n",
    "        v_old = np.divide(v_old, np.linalg.norm(v_old))\n",
    "        for iter in range(maxiter):\n",
    "            v_new = (X_whit.T @ (X_whit @ v_old * X_whit @ v_old))/ tot\n",
    "            #v_new = v_new - s_est * (W' * mu * dot((W*v_old),(W*v_old)));\n",
    "            #v_new = v_new - s_est * (2 * W' * W * v_old * ((W'*mu)' * (v_old)));\n",
    "            v_new -= s_est * ((W.T @ mu) @ np.dot((W @ v_old).T, (W @ v_old)))\n",
    "            v_new -= s_est * (2 * (W.T @ (W @ (v_old @ ((W.T @ mu).T @ v_old)))))\n",
    "            if i > 0:\n",
    "                for j in range(i):\n",
    "                    v_new -= np.reshape(V_est[:, j] * np.power((v_old.T @ V_est[:, j]), 2) * lamb[j], (k, 1))\n",
    "            l = np.linalg.norm(v_new)\n",
    "            v_new = np.divide(v_new, np.linalg.norm(v_new))\n",
    "            if np.linalg.norm(v_old - v_new) < TOL:\n",
    "                V_est[:, i] = np.reshape(v_new, k)\n",
    "                lamb[i] = l\n",
    "                break\n",
    "            v_old = v_new\n",
    "    \n",
    "    return (V_est, lamb)"
   ]
  },
  {
   "cell_type": "markdown",
   "metadata": {},
   "source": [
    "### Perform backwards transformation"
   ]
  },
  {
   "cell_type": "code",
   "execution_count": 307,
   "metadata": {
    "tags": []
   },
   "outputs": [],
   "source": [
    "def perform_backwards_transformation(V_est, lamb):\n",
    "    # print(\"V\\n\")\n",
    "    # print(V_est)\n",
    "    # print(\"\\n#####################################################\\n\")\n",
    "    # print(\"Lamb\\n\")\n",
    "    # print(lamb)\n",
    "    # print(\"\\n#####################################################\\n\")\n",
    "    # print(np.linalg.pinv(W.T) @ V_est)\n",
    "    # print(\"\\n#####################################################\\n\")\n",
    "    # print(np.diag(np.reshape(lamb.T, k)))\n",
    "    # print(\"\\n#####################################################\\n\")\n",
    "    # print((np.linalg.pinv(W.T) @ V_est) @ np.diag(np.reshape(lamb.T, k)))\n",
    "    # print(\"\\n#####################################################\\n\")\n",
    "    return (np.linalg.pinv(W.T) @ V_est) @ np.diag(np.reshape(lamb.T, k))"
   ]
  },
  {
   "cell_type": "markdown",
   "metadata": {},
   "source": [
    "### Plot result"
   ]
  },
  {
   "cell_type": "code",
   "execution_count": 319,
   "metadata": {
    "tags": []
   },
   "outputs": [],
   "source": [
    "def plot_results(X, A, A_est, s_est, FB):\n",
    "    plt.axis('equal')\n",
    "    \n",
    "    ax = plt.subplot(aspect='equal')\n",
    "    \n",
    "    plt.plot(X[:,0], X[:,1], '.', zorder=-3)\n",
    "    \n",
    "    for i in range(k):\n",
    "        mean = A[:, i].T\n",
    "        mean_est = A_est[:, i].T\n",
    "        \n",
    "        plt.plot(mean[0], mean[1], 'x', color='y', zorder=-2)\n",
    "        plt.plot(mean_est[0], mean_est[1], '+', color='r', zorder=-1)\n",
    "        \n",
    "        ell = Ellipse(xy=(mean_est[0], mean_est[1]),\n",
    "                      width=s_est, height=s_est,\n",
    "                      angle=0, color='red')\n",
    "        ell.set_facecolor('none')\n",
    "        ax.add_artist(ell)\n",
    "    if FB:\n",
    "        plt.title(\"FB(GMM)\")\n",
    "    else:\n",
    "        plt.title(\"GMM\")\n",
    "    plt.show()"
   ]
  },
  {
   "cell_type": "code",
   "execution_count": 320,
   "metadata": {},
   "outputs": [],
   "source": [
    "def plot_mixtures(X, FB):\n",
    "    plt.axis('equal')\n",
    "    \n",
    "    ax = plt.subplot(aspect='equal')\n",
    "    \n",
    "    plt.plot(X[:,0], X[:,1], '.', zorder=-3)\n",
    "    if FB:\n",
    "        plt.title(\"FB(GMM)\")\n",
    "    else:\n",
    "        plt.title(\"GMM\")\n",
    "    plt.show()"
   ]
  },
  {
   "cell_type": "markdown",
   "metadata": {},
   "source": [
    "# Center Data"
   ]
  },
  {
   "cell_type": "code",
   "execution_count": 310,
   "metadata": {},
   "outputs": [],
   "source": [
    "def center_gmm(X, A):\n",
    "    X = X - np.mean(X)\n",
    "    A = A - np.mean(A)\n",
    "    return X, A"
   ]
  },
  {
   "cell_type": "markdown",
   "metadata": {},
   "source": [
    "# Add Noise"
   ]
  },
  {
   "cell_type": "code",
   "execution_count": 311,
   "metadata": {},
   "outputs": [],
   "source": [
    "def add_noise(X, thresh):\n",
    "    for i in range(thresh):\n",
    "        noise = np.random.standard_cauchy((X.shape[1]))\n",
    "        random_point = np.random.randint(0,X.shape[0])\n",
    "        X[random_point, :] += noise\n",
    "    return X"
   ]
  },
  {
   "cell_type": "markdown",
   "metadata": {},
   "source": [
    "# Execution"
   ]
  },
  {
   "cell_type": "code",
   "execution_count": 207,
   "metadata": {
    "collapsed": true,
    "jupyter": {
     "outputs_hidden": true
    },
    "tags": []
   },
   "outputs": [
    {
     "name": "stdout",
     "output_type": "stream",
     "text": [
      "[[-7.18005811  3.82751592 -7.45073445  0.76178646  4.58926826 -2.72721799]\n",
      " [ 1.27325807  1.92455397 -1.57435825  6.62540433  1.84768385 -7.23476855]\n",
      " [ 3.52941103  7.24744509 -4.29982388  1.61369317  3.98408042 -4.52028192]\n",
      " [-0.80729257 -5.40241995  6.30178993 -7.78359131 -7.38122351 -6.6188128 ]\n",
      " [-7.54706329 -2.58668576 -4.14846082 -7.73610796  7.50883566 -1.00832364]\n",
      " [-6.52562695  0.24140139  0.53956515 -0.22622288  3.51635834 -6.54010233]\n",
      " [ 8.45832876 -5.15200568 -2.79238099  0.49476811  7.22686845  5.50887674]\n",
      " [ 8.08549095  4.73802742 -5.49091071  4.61325655  1.08568621  0.95998738]\n",
      " [-6.76960032  0.86240818 -5.02437137  4.43667397  7.74982707 -6.94869403]\n",
      " [ 7.07196893 -1.00547169  7.25591839 -4.34932847  6.29482793  6.53563202]]\n",
      "[[2.41136281 0.         0.         0.         0.         0.        ]\n",
      " [0.         2.36330571 0.         0.         0.         0.        ]\n",
      " [0.         0.         2.37518412 0.         0.         0.        ]\n",
      " [0.         0.         0.         2.38355449 0.         0.        ]\n",
      " [0.         0.         0.         0.         2.41607679 0.        ]\n",
      " [0.         0.         0.         0.         0.         2.40414685]]\n",
      "[[-17.3137251    9.04559021 -17.6968661    1.81575954  11.08802453\n",
      "   -6.55663256]\n",
      " [  3.07028715   4.54830937  -3.73939072  15.79201223   4.46414608\n",
      "  -17.39344605]\n",
      " [  8.51069051  17.12792833 -10.21287338   3.8463256    9.62584425\n",
      "  -10.86742156]\n",
      " [ -1.94667528 -12.76756991  14.96791133 -18.55261402 -17.83360282\n",
      "  -15.91259799]\n",
      " [-18.19870775  -6.11312922  -9.85335825 -18.43943487  18.14192358\n",
      "   -2.42415812]\n",
      " [-15.73565414   0.57050529   1.28156657  -0.53921457   8.49579179\n",
      "  -15.72336644]\n",
      " [ 20.39609942 -12.17576441  -6.63241896   1.17930676  17.46066915\n",
      "   13.24414869]\n",
      " [ 19.49705219  11.19740723 -13.04192389  10.99594836   2.62310127\n",
      "    2.30795065]\n",
      " [-16.32396245   2.03813418 -11.93380706  10.57505417  18.72417734\n",
      "  -16.70568089]\n",
      " [ 17.05308289  -2.37623699  17.2341421  -10.3668614   15.20878767\n",
      "   15.71261918]]\n"
     ]
    },
    {
     "data": {
      "image/png": "[encoded data removed]",
      "text/plain": [
       "<Figure size 432x288 with 1 Axes>"
      ]
     },
     "metadata": {
      "needs_background": "light"
     },
     "output_type": "display_data"
    }
   ],
   "source": [
    "d = 10\n",
    "k = 6\n",
    "n = 1000\n",
    "tot = k * n\n",
    "s = 2\n",
    "dist = 20\n",
    "spher = True\n",
    "cov_range = 2\n",
    "\n",
    "\n",
    "X, A = generate_data()\n",
    "X, A = center_gmm(X, A)\n",
    "mu = calculate_first_moment(X)\n",
    "Sigma = calculate_second_moment(X)\n",
    "\n",
    "s_est, W, X_whit = extract_information_from_second_moment(Sigma, X)\n",
    "\n",
    "V_est, lamb = perform_tensor_power_method(X_whit, W, s_est, mu)\n",
    "\n",
    "A_est = perform_backwards_transformation(V_est, lamb)\n",
    "\n",
    "plot_results(X, A, A_est, s_est)"
   ]
  },
  {
   "cell_type": "code",
   "execution_count": 277,
   "metadata": {},
   "outputs": [],
   "source": [
    "def support(X, val, q): # Set q to be the qth quantile\n",
    "    return np.quantile((X.T).dot(val), q)\n",
    "\n",
    "def compute_fb(X, q, n):\n",
    "    polar_body = np.ones((n,0))\n",
    "    for i in range(X.shape[1]):\n",
    "        if support(X, X[:,i] / la.norm(X[:,i]), q) > np.dot(X[:,i], X[:,i]/la.norm(X[:,i])): \n",
    "            polar_body = np.hstack((polar_body, np.array(X[:,i]).reshape(n,1)))\n",
    "    return polar_body"
   ]
  },
  {
   "cell_type": "code",
   "execution_count": 351,
   "metadata": {},
   "outputs": [],
   "source": [
    "def Frobenius_Norm(A, A_):\n",
    "    return np.sqrt(np.trace(np.subtract(A, A_)@np.subtract(A,A_).conj().T))\n",
    "\n",
    "\n",
    "def Get_Min(A,A_):\n",
    "    weights = -abs((A.T@A_)**2)\n",
    "    ind = octave.munkres(weights)\n",
    "    fs = [int(x) - 1 for x in list(ind[0])]\n",
    "    B = A_[:, fs]\n",
    "    innerprod = np.diag(np.real(A.T@B) < 0)\n",
    "    B[:,innerprod] = -B[:, innerprod]\n",
    "    min_ = Frobenius_Norm(B, A)\n",
    "    return min_"
   ]
  },
  {
   "cell_type": "code",
   "execution_count": 630,
   "metadata": {
    "tags": []
   },
   "outputs": [
    {
     "data": {
      "image/png": "[encoded data removed]",
      "text/plain": [
       "<Figure size 432x288 with 1 Axes>"
      ]
     },
     "metadata": {
      "needs_background": "light"
     },
     "output_type": "display_data"
    },
    {
     "data": {
      "image/png": "[encoded data removed]",
      "text/plain": [
       "<Figure size 432x288 with 1 Axes>"
      ]
     },
     "metadata": {
      "needs_background": "light"
     },
     "output_type": "display_data"
    },
    {
     "data": {
      "image/png": "[encoded data removed]",
      "text/plain": [
       "<Figure size 432x288 with 1 Axes>"
      ]
     },
     "metadata": {
      "needs_background": "light"
     },
     "output_type": "display_data"
    }
   ],
   "source": [
    "d = 10\n",
    "k = 5\n",
    "n = 2000\n",
    "tot = k * n\n",
    "s = 2\n",
    "dist = 20\n",
    "spher = True\n",
    "cov_range = 2\n",
    "###########################################################################\n",
    "#W/o FB\n",
    "X, A = generate_data()\n",
    "X, A = center_gmm(X, A)\n",
    "\n",
    "#print(\"\\nREGULAR GMM RESULTS\\n\")\n",
    "mu = calculate_first_moment(X)\n",
    "Sigma = calculate_second_moment(X)\n",
    "\n",
    "s_est, W, X_whit = extract_information_from_second_moment(Sigma, X)\n",
    "\n",
    "V_est, lamb = perform_tensor_power_method(X_whit, W, s_est, mu)\n",
    "\n",
    "A_est = perform_backwards_transformation(V_est, lamb)\n",
    "plot_results(X, A, A_est, s_est, False)\n",
    "############################################################\n",
    "#W/FB\n",
    "X_ = add_noise(X, 1000)\n",
    "tot = X_.shape[1]\n",
    "\n",
    "mu_wo = calculate_first_moment(X_)\n",
    "Sigma_wo = calculate_second_moment(X_)\n",
    "\n",
    "s_est_wo, W_wo, X_whit_wo = extract_information_from_second_moment(Sigma_wo, X_)\n",
    "\n",
    "V_est_wo, lamb_wo = perform_tensor_power_method(X_whit_wo, W_wo, s_est_wo, mu_wo)\n",
    "\n",
    "#print(\"FB A_est_ print outs\")\n",
    "\n",
    "A_est_wo = perform_backwards_transformation(V_est_wo, lamb_wo)\n",
    "\n",
    "plot_results(X_, A, A_est_wo, s_est_wo, False)\n",
    "############################################################\n",
    "#print(\"\\nFLOATING BODY RESULTS\\n\")\n",
    "\n",
    "#W/FB\n",
    "X_ = compute_fb(X_.T, .95, d)\n",
    "tot = X_.shape[1]\n",
    "\n",
    "mu_ = calculate_first_moment(X_.T)\n",
    "Sigma_ = calculate_second_moment(X_.T)\n",
    "\n",
    "s_est_, W_, X_whit_ = extract_information_from_second_moment(Sigma_, X_.T)\n",
    "\n",
    "V_est_, lamb_ = perform_tensor_power_method(X_whit_, W_, s_est_, mu_)\n",
    "\n",
    "#print(\"FB A_est_ print outs\")\n",
    "\n",
    "A_est_ = perform_backwards_transformation(V_est_, lamb_)\n",
    "\n",
    "plot_results(X_.T, A, A_est_, s_est_, True)"
   ]
  },
  {
   "cell_type": "code",
   "execution_count": 628,
   "metadata": {},
   "outputs": [
    {
     "data": {
      "text/plain": [
       "0.029692783800352375"
      ]
     },
     "execution_count": 628,
     "metadata": {},
     "output_type": "execute_result"
    }
   ],
   "source": [
    "normal = np.zeros((2,k))\n",
    "nofb = np.zeros((2,k))\n",
    "yesfb = np.zeros((2,k))\n",
    "OG_fb = np.zeros((2,k))\n",
    "for i in range(k):\n",
    "        mean = A_est[:, i].T\n",
    "        mean_wo = A_est_wo[:, i].T\n",
    "        mean_est = A_est_[:, i].T\n",
    "        OG_mean = A[:,i].T\n",
    "        \n",
    "        normal[:,i] = np.array([mean[0], mean[1]])\n",
    "        nofb[:,i] = np.array([mean_wo[0], mean_wo[1]])\n",
    "        yesfb[:,i] = np.array([mean_est[0], mean_est[1]])\n",
    "        OG_fb[:,i] = np.array([OG_mean[0], OG_mean[1]])\n",
    "Get_Min(normal/la.norm(normal,2), yesfb/la.norm(yesfb,2))\n"
   ]
  },
  {
   "cell_type": "code",
   "execution_count": 621,
   "metadata": {},
   "outputs": [
    {
     "name": "stdout",
     "output_type": "stream",
     "text": [
      "Difference of A and FB: 0.5285821707284798\n"
     ]
    }
   ],
   "source": [
    "print(f\"Difference of A and FB: {Get_Min(normal/la.norm(OG_fb,2), yesfb/la.norm(yesfb,2))}\")"
   ]
  },
  {
   "cell_type": "code",
   "execution_count": 622,
   "metadata": {},
   "outputs": [
    {
     "name": "stdout",
     "output_type": "stream",
     "text": [
      "Difference of No and FB: 1.2399909478399742\n"
     ]
    }
   ],
   "source": [
    "print(f\"Difference of No and FB: {Get_Min(normal/la.norm(OG_fb,2), nofb/la.norm(nofb,2))}\")"
   ]
  },
  {
   "cell_type": "code",
   "execution_count": 623,
   "metadata": {},
   "outputs": [
    {
     "name": "stdout",
     "output_type": "stream",
     "text": [
      "Difference of A and Normal: 1.2500622847710199\n"
     ]
    }
   ],
   "source": [
    "print(f\"Difference of A and Normal: {Get_Min(OG_fb/la.norm(OG_fb,2), nofb/la.norm(nofb,2))}\")"
   ]
  },
  {
   "cell_type": "code",
   "execution_count": 624,
   "metadata": {},
   "outputs": [],
   "source": [
    "octave.addpath('/mnt/linuxlab/home/jmontebell2/Github/boobs/');"
   ]
  },
  {
   "cell_type": "code",
   "execution_count": 567,
   "metadata": {},
   "outputs": [
    {
     "data": {
      "text/plain": [
       "(15, 3)"
      ]
     },
     "execution_count": 567,
     "metadata": {},
     "output_type": "execute_result"
    }
   ],
   "source": [
    "A_est_wo.shape"
   ]
  },
  {
   "cell_type": "code",
   "execution_count": null,
   "metadata": {},
   "outputs": [],
   "source": []
  }
 ],
 "metadata": {
  "kernelspec": {
   "display_name": "Python 3 (ipykernel)",
   "language": "python",
   "name": "python3"
  },
  "language_info": {
   "codemirror_mode": {
    "name": "ipython",
    "version": 3
   },
   "file_extension": ".py",
   "mimetype": "text/x-python",
   "name": "python",
   "nbconvert_exporter": "python",
   "pygments_lexer": "ipython3",
   "version": "3.9.12"
  }
 },
 "nbformat": 4,
 "nbformat_minor": 4
}
