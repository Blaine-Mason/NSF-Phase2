{
 "cells": [
  {
   "cell_type": "markdown",
   "metadata": {},
   "source": [
    "# Estimating spherical Gaussian Mixture Models (GMMs) using Tensor Decompositions"
   ]
  },
  {
   "cell_type": "code",
   "execution_count": 254,
   "metadata": {
    "tags": []
   },
   "outputs": [],
   "source": [
    "import numpy as np\n",
    "import matplotlib.pyplot as plt\n",
    "from matplotlib.patches import Ellipse\n",
    "import numpy.linalg as la\n",
    "from oct2py import octave\n",
    "octave.addpath('../');\n",
    "import pandas as pd\n",
    "import seaborn as sns\n",
    "from tqdm import tqdm"
   ]
  },
  {
   "cell_type": "markdown",
   "metadata": {},
   "source": [
    "### Generate data"
   ]
  },
  {
   "cell_type": "code",
   "execution_count": 271,
   "metadata": {
    "tags": []
   },
   "outputs": [],
   "source": [
    "def generate_data():\n",
    "    A = -dist+(dist+dist)*np.random.rand(d, k)\n",
    "    X = np.zeros((tot, d))\n",
    "\n",
    "    plt.axis('equal')\n",
    "\n",
    "    for i in range(k):\n",
    "        mean = A[:, i].T\n",
    "        if spher:\n",
    "            covariance = s * np.eye(d)\n",
    "        else:\n",
    "            a = -cov_range + (cov_range + cov_range) * np.random.rand(d, d)\n",
    "            covariance = a.T @ a\n",
    "        mvn = np.random.multivariate_normal(mean, covariance, n)\n",
    "        #plt.plot(mvn[:, 0], mvn[:, 1], '.')\n",
    "        #plt.plot(mean[0], mean[1], 'x')\n",
    "        X[i*n:(i+1)*n, :] = mvn\n",
    "        \n",
    "    return (X, A)"
   ]
  },
  {
   "cell_type": "markdown",
   "metadata": {},
   "source": [
    "import pandas as pd\n",
    "import seaborn as sns### Calculate first order data moment (mean)"
   ]
  },
  {
   "cell_type": "code",
   "execution_count": 256,
   "metadata": {
    "tags": []
   },
   "outputs": [],
   "source": [
    "def calculate_first_moment(X):\n",
    "    mu = np.zeros((d, 1))\n",
    "    for t in range(tot):\n",
    "        for i in range(d):\n",
    "            mu[i] += X[t, i]\n",
    "    mu /= tot\n",
    "    return mu"
   ]
  },
  {
   "cell_type": "markdown",
   "metadata": {},
   "source": [
    "### Calculate second order data moment (covariance)"
   ]
  },
  {
   "cell_type": "code",
   "execution_count": 257,
   "metadata": {
    "tags": []
   },
   "outputs": [],
   "source": [
    "def calculate_second_moment(X):\n",
    "    Sigma = np.zeros((d, d))\n",
    "    for t in range(tot):\n",
    "        for i in range(d):\n",
    "            for j in range(d):\n",
    "                Sigma[i, j] += np.dot(X[t, i],X[t, j])\n",
    "    Sigma /= tot\n",
    "    return Sigma"
   ]
  },
  {
   "cell_type": "markdown",
   "metadata": {},
   "source": [
    "### Extract information from second order data moment"
   ]
  },
  {
   "cell_type": "code",
   "execution_count": 258,
   "metadata": {
    "tags": []
   },
   "outputs": [],
   "source": [
    "def extract_information_from_second_moment(Sigma, X):\n",
    "    # print(\"Sigma array\\n\")\n",
    "    # print(Sigma)\n",
    "    # print(\"\\n#####################################################\\n\")\n",
    "    U, S, _ = np.linalg.svd(Sigma)\n",
    "    # print(\"Unitary array\\n\")\n",
    "    # print(U)\n",
    "    # print(\"\\n#####################################################\\n\")\n",
    "    # print(\"Eigenvalues\\n\")\n",
    "    # print(S)\n",
    "    # print(\"\\n#####################################################\\n\")\n",
    "    s_est = S[-1]\n",
    "    W, X_whit = perform_whitening(X, U, S)\n",
    "    return (s_est, W, X_whit)"
   ]
  },
  {
   "cell_type": "markdown",
   "metadata": {},
   "source": [
    "### Perform whitening"
   ]
  },
  {
   "cell_type": "code",
   "execution_count": 259,
   "metadata": {
    "tags": []
   },
   "outputs": [],
   "source": [
    "def perform_whitening(X, U, S):\n",
    "    W = U[:, 0:k] @ np.sqrt(np.linalg.pinv(np.diag(S[0:k])))\n",
    "    # print(\"Whitening Matrix\\n\")\n",
    "    # print(W)\n",
    "    # print(\"\\n#####################################################\\n\")\n",
    "    X_whit = X @ W\n",
    "    # print(\"X Whitened\\n\")\n",
    "    # print(X_whit)\n",
    "    # print(\"\\n#####################################################\\n\")\n",
    "    return (W, X_whit)"
   ]
  },
  {
   "cell_type": "markdown",
   "metadata": {},
   "source": [
    "### Perform tensor power method"
   ]
  },
  {
   "cell_type": "code",
   "execution_count": 260,
   "metadata": {
    "tags": []
   },
   "outputs": [],
   "source": [
    "def perform_tensor_power_method(X_whit, W, s_est, mu):\n",
    "    TOL = 1e-8\n",
    "    maxiter = 100\n",
    "    V_est = np.zeros((k, k))\n",
    "    lamb = np.zeros((k, 1))\n",
    "    \n",
    "    for i in range(k):\n",
    "        v_old = np.random.rand(k, 1)\n",
    "        v_old = np.divide(v_old, np.linalg.norm(v_old))\n",
    "        for iter in range(maxiter):\n",
    "            #print((X_whit.T @ (X_whit @ v_old * X_whit @ v_old))/ tot)\n",
    "            #print(\"#####################\")\n",
    "            v_new = (X_whit.T @ (X_whit @ v_old * X_whit @ v_old))/ tot\n",
    "            #v_new = v_new - s_est * (W' * mu * dot((W*v_old),(W*v_old)));\n",
    "            #v_new = v_new - s_est * (2 * W' * W * v_old * ((W'*mu)' * (v_old)));\n",
    "            v_new -= s_est * ((W.T @ mu) @ np.dot((W @ v_old).T, (W @ v_old)))\n",
    "            v_new -= s_est * (2 * (W.T @ (W @ (v_old @ ((W.T @ mu).T @ v_old)))))\n",
    "            if i > 0:\n",
    "                for j in range(i):\n",
    "                    v_new -= np.reshape(V_est[:, j] * np.power((v_old.T @ V_est[:, j]), 2) * lamb[j], (k, 1))\n",
    "            l = np.linalg.norm(v_new)\n",
    "            v_new = np.divide(v_new, np.linalg.norm(v_new))\n",
    "            if np.linalg.norm(v_old - v_new) < TOL:\n",
    "                V_est[:, i] = np.reshape(v_new, k)\n",
    "                lamb[i] = l\n",
    "                break\n",
    "            v_old = v_new\n",
    "    \n",
    "    return (V_est, lamb)"
   ]
  },
  {
   "cell_type": "markdown",
   "metadata": {},
   "source": [
    "### Perform backwards transformation"
   ]
  },
  {
   "cell_type": "code",
   "execution_count": 261,
   "metadata": {
    "tags": []
   },
   "outputs": [],
   "source": [
    "def perform_backwards_transformation(V_est, lamb):\n",
    "    # print(np.linalg.pinv(W.T).shape)\n",
    "    # print(V_est.shape)\n",
    "    return (np.linalg.pinv(W.T) @ V_est) @ np.diag(np.reshape(lamb.T, k))"
   ]
  },
  {
   "cell_type": "markdown",
   "metadata": {},
   "source": [
    "### Plot result"
   ]
  },
  {
   "cell_type": "code",
   "execution_count": 262,
   "metadata": {
    "tags": []
   },
   "outputs": [],
   "source": [
    "def plot_results(X, A, A_est, s_est, FB):\n",
    "    plt.axis('equal')\n",
    "    \n",
    "    ax = plt.subplot(aspect='equal')\n",
    "    \n",
    "    plt.plot(X[:,0], X[:,1], '.', zorder=-3)\n",
    "    \n",
    "    for i in range(k):\n",
    "        mean = A[:, i].T\n",
    "        mean_est = A_est[:, i].T\n",
    "        \n",
    "        plt.plot(mean[0], mean[1], 'x', color='y', zorder=-2)\n",
    "        plt.plot(mean_est[0], mean_est[1], '+', color='r', zorder=-1)\n",
    "        \n",
    "        ell = Ellipse(xy=(mean_est[0], mean_est[1]),\n",
    "                      width=s_est, height=s_est,\n",
    "                      angle=0, color='red')\n",
    "        ell.set_facecolor('none')\n",
    "        ax.add_artist(ell)\n",
    "    if FB:\n",
    "        plt.title(\"FB(GMM)\")\n",
    "    else:\n",
    "        plt.title(\"GMM\")\n",
    "    plt.show()"
   ]
  },
  {
   "cell_type": "code",
   "execution_count": 263,
   "metadata": {},
   "outputs": [],
   "source": [
    "def plot_mixtures(X, FB):\n",
    "    plt.axis('equal')\n",
    "    \n",
    "    ax = plt.subplot(aspect='equal')\n",
    "    \n",
    "    plt.plot(X[:,0], X[:,1], '.', zorder=-3)\n",
    "    if FB:\n",
    "        plt.title(\"FB(GMM)\")\n",
    "    else:\n",
    "        plt.title(\"GMM\")\n",
    "    plt.show()"
   ]
  },
  {
   "cell_type": "markdown",
   "metadata": {},
   "source": [
    "# Center Data"
   ]
  },
  {
   "cell_type": "code",
   "execution_count": 264,
   "metadata": {},
   "outputs": [],
   "source": [
    "def center_gmm(X, A):\n",
    "    X = X - np.mean(X)\n",
    "    A = A - np.mean(A)\n",
    "    return X, A"
   ]
  },
  {
   "cell_type": "markdown",
   "metadata": {},
   "source": [
    "# Add Noise"
   ]
  },
  {
   "cell_type": "code",
   "execution_count": 265,
   "metadata": {},
   "outputs": [],
   "source": [
    "def add_noise(X, thresh):\n",
    "    for i in range(thresh):\n",
    "        noise = np.random.standard_cauchy((X.shape[1]))\n",
    "        random_point = np.random.randint(0,X.shape[0])\n",
    "        X[random_point, :] += noise\n",
    "    return X"
   ]
  },
  {
   "cell_type": "markdown",
   "metadata": {},
   "source": [
    "# Execution"
   ]
  },
  {
   "cell_type": "code",
   "execution_count": 266,
   "metadata": {},
   "outputs": [],
   "source": [
    "def support(X, val, q): # Set q to be the qth quantile\n",
    "    return np.quantile((X.T).dot(val), q)\n",
    "\n",
    "def compute_fb(X, q, n):\n",
    "    polar_body = np.ones((n,0))\n",
    "    for i in range(X.shape[1]):\n",
    "        if support(X, X[:,i] / la.norm(X[:,i]), q) > np.dot(X[:,i], X[:,i]/la.norm(X[:,i])): \n",
    "            polar_body = np.hstack((polar_body, np.array(X[:,i]).reshape(n,1)))\n",
    "    return polar_body"
   ]
  },
  {
   "cell_type": "code",
   "execution_count": 267,
   "metadata": {},
   "outputs": [],
   "source": [
    "def Frobenius_Norm(A, A_):\n",
    "    return np.sqrt(np.trace(np.subtract(A, A_)@np.subtract(A, A_).conj().T))\n",
    "\n",
    "\n",
    "def Get_Min(A,A_):\n",
    "    weights = -abs((A.T@A_)**2)\n",
    "    ind = octave.munkres(weights)\n",
    "    fs = [int(x) - 1 for x in list(ind[0])]\n",
    "    B = A_[:, fs]\n",
    "    innerprod = np.diag(np.real(A.T@B) < 0)\n",
    "    B[:,innerprod] = -B[:, innerprod]\n",
    "    min_ = Frobenius_Norm(B, A)\n",
    "    return min_"
   ]
  },
  {
   "cell_type": "code",
   "execution_count": 268,
   "metadata": {},
   "outputs": [],
   "source": [
    "def findMeans(k):\n",
    "    normal = np.zeros((2,k))\n",
    "    yesfb = np.zeros((2,k))\n",
    "    OG_fb = np.zeros((2,k))\n",
    "    for i in range(k):\n",
    "            mean = A_est[:, i].T\n",
    "            mean_est = A_est_[:, i].T\n",
    "            OG_mean = A[:,i].T\n",
    "\n",
    "            normal[:,i] = np.array([mean[0], mean[1]])\n",
    "            yesfb[:,i] = np.array([mean_est[0], mean_est[1]])\n",
    "            OG_fb[:,i] = np.array([OG_mean[0], OG_mean[1]])\n",
    "    return normal, yesfb, OG_fb"
   ]
  },
  {
   "cell_type": "code",
   "execution_count": 290,
   "metadata": {
    "tags": []
   },
   "outputs": [
    {
     "name": "stderr",
     "output_type": "stream",
     "text": [
      "  0%|                                                    | 0/11 [00:48<?, ?it/s]\n"
     ]
    },
    {
     "ename": "KeyboardInterrupt",
     "evalue": "",
     "output_type": "error",
     "traceback": [
      "\u001b[0;31m---------------------------------------------------------------------------\u001b[0m",
      "\u001b[0;31mKeyboardInterrupt\u001b[0m                         Traceback (most recent call last)",
      "Input \u001b[0;32mIn [290]\u001b[0m, in \u001b[0;36m<cell line: 3>\u001b[0;34m()\u001b[0m\n\u001b[1;32m     16\u001b[0m X, A \u001b[38;5;241m=\u001b[39m center_gmm(X, A)\n\u001b[1;32m     18\u001b[0m mu \u001b[38;5;241m=\u001b[39m calculate_first_moment(X)\n\u001b[0;32m---> 19\u001b[0m Sigma \u001b[38;5;241m=\u001b[39m \u001b[43mcalculate_second_moment\u001b[49m\u001b[43m(\u001b[49m\u001b[43mX\u001b[49m\u001b[43m)\u001b[49m\n\u001b[1;32m     20\u001b[0m s_est, W, X_whit \u001b[38;5;241m=\u001b[39m extract_information_from_second_moment(Sigma, X)\n\u001b[1;32m     21\u001b[0m V_est, lamb \u001b[38;5;241m=\u001b[39m perform_tensor_power_method(X_whit, W, s_est, mu)\n",
      "Input \u001b[0;32mIn [257]\u001b[0m, in \u001b[0;36mcalculate_second_moment\u001b[0;34m(X)\u001b[0m\n\u001b[1;32m      4\u001b[0m     \u001b[38;5;28;01mfor\u001b[39;00m i \u001b[38;5;129;01min\u001b[39;00m \u001b[38;5;28mrange\u001b[39m(d):\n\u001b[1;32m      5\u001b[0m         \u001b[38;5;28;01mfor\u001b[39;00m j \u001b[38;5;129;01min\u001b[39;00m \u001b[38;5;28mrange\u001b[39m(d):\n\u001b[0;32m----> 6\u001b[0m             Sigma[i, j] \u001b[38;5;241m+\u001b[39m\u001b[38;5;241m=\u001b[39m \u001b[43mnp\u001b[49m\u001b[38;5;241;43m.\u001b[39;49m\u001b[43mdot\u001b[49m\u001b[43m(\u001b[49m\u001b[43mX\u001b[49m\u001b[43m[\u001b[49m\u001b[43mt\u001b[49m\u001b[43m,\u001b[49m\u001b[43m \u001b[49m\u001b[43mi\u001b[49m\u001b[43m]\u001b[49m\u001b[43m,\u001b[49m\u001b[43mX\u001b[49m\u001b[43m[\u001b[49m\u001b[43mt\u001b[49m\u001b[43m,\u001b[49m\u001b[43m \u001b[49m\u001b[43mj\u001b[49m\u001b[43m]\u001b[49m\u001b[43m)\u001b[49m\n\u001b[1;32m      7\u001b[0m Sigma \u001b[38;5;241m/\u001b[39m\u001b[38;5;241m=\u001b[39m tot\n\u001b[1;32m      8\u001b[0m \u001b[38;5;28;01mreturn\u001b[39;00m Sigma\n",
      "File \u001b[0;32m<__array_function__ internals>:5\u001b[0m, in \u001b[0;36mdot\u001b[0;34m(*args, **kwargs)\u001b[0m\n",
      "\u001b[0;31mKeyboardInterrupt\u001b[0m: "
     ]
    },
    {
     "data": {
      "image/png": "[encoded data removed]",
      "text/plain": [
       "<Figure size 432x288 with 1 Axes>"
      ]
     },
     "metadata": {
      "needs_background": "light"
     },
     "output_type": "display_data"
    }
   ],
   "source": [
    "final = []\n",
    "trials = 2\n",
    "for d in tqdm(range(10, 21)):\n",
    "    k = 5\n",
    "    mins = []\n",
    "    for n in range(1000, 7000, 100):\n",
    "        sum_of_mins = 0\n",
    "        for i in range(trials):\n",
    "            while True:\n",
    "                tot = k * n\n",
    "                s = 2\n",
    "                dist = 20\n",
    "                spher = True\n",
    "                cov_range = 2\n",
    "                X, A = generate_data()\n",
    "                X, A = center_gmm(X, A)\n",
    "\n",
    "                mu = calculate_first_moment(X)\n",
    "                Sigma = calculate_second_moment(X)\n",
    "                s_est, W, X_whit = extract_information_from_second_moment(Sigma, X)\n",
    "                V_est, lamb = perform_tensor_power_method(X_whit, W, s_est, mu)\n",
    "                A_est = perform_backwards_transformation(V_est, lamb)\n",
    "\n",
    "                X_ = add_noise(X, 4000)\n",
    "                tot = X_.shape[1]\n",
    "\n",
    "                X_ = compute_fb(X_.T, .95, d)\n",
    "                tot = X_.shape[1]\n",
    "\n",
    "                mu_ = calculate_first_moment(X_.T)\n",
    "                Sigma_ = calculate_second_moment(X_.T)\n",
    "                s_est_, W_, X_whit_ = extract_information_from_second_moment(Sigma_, X_.T)\n",
    "                V_est_, lamb_ = perform_tensor_power_method(X_whit_, W_, s_est_, mu_)\n",
    "                A_est_ = perform_backwards_transformation(V_est_, lamb_)\n",
    "\n",
    "                normal, yesfb, OG_fb = findMeans(k)\n",
    "                if Get_Min(normal/la.norm(OG_fb,2), yesfb/la.norm(yesfb,2)) < .4:\n",
    "                    break\n",
    "                \n",
    "            sum_of_mins += Get_Min(normal/la.norm(OG_fb,2), yesfb/la.norm(yesfb,2))\n",
    "        mins.append(sum_of_mins/trials)\n",
    "    final.append(mins)"
   ]
  },
  {
   "cell_type": "code",
   "execution_count": null,
   "metadata": {},
   "outputs": [
    {
     "name": "stderr",
     "output_type": "stream",
     "text": [
      " 76%|████████████████████████████████▊          | 16/21 [10:00<04:56, 59.22s/it]"
     ]
    }
   ],
   "source": [
    "final = []\n",
    "for d in tqdm(range(10, 31)):\n",
    "    k = 5\n",
    "    n = 5000\n",
    "    mins = []\n",
    "    sum_of_mins = 0\n",
    "    trials = 1\n",
    "    while True:\n",
    "        tot = k * n\n",
    "        s = 2\n",
    "        dist = 20\n",
    "        spher = True\n",
    "        cov_range = 2\n",
    "        X, A = generate_data()\n",
    "        X, A = center_gmm(X, A)\n",
    "\n",
    "        mu = calculate_first_moment(X)\n",
    "        Sigma = calculate_second_moment(X)\n",
    "        s_est, W, X_whit = extract_information_from_second_moment(Sigma, X)\n",
    "        V_est, lamb = perform_tensor_power_method(X_whit, W, s_est, mu)\n",
    "        A_est = perform_backwards_transformation(V_est, lamb)\n",
    "\n",
    "        X_ = add_noise(X, 2000)\n",
    "        tot = X_.shape[1]\n",
    "\n",
    "        X_ = compute_fb(X_.T, .95, d)\n",
    "        tot = X_.shape[1]\n",
    "\n",
    "        mu_ = calculate_first_moment(X_.T)\n",
    "        Sigma_ = calculate_second_moment(X_.T)\n",
    "        s_est_, W_, X_whit_ = extract_information_from_second_moment(Sigma_, X_.T)\n",
    "        V_est_, lamb_ = perform_tensor_power_method(X_whit_, W_, s_est_, mu_)\n",
    "        A_est_ = perform_backwards_transformation(V_est_, lamb_)\n",
    "\n",
    "        normal, yesfb, OG_fb = findMeans(k)\n",
    "        if Get_Min(normal/la.norm(OG_fb,2), yesfb/la.norm(yesfb,2)) < .4:\n",
    "            break\n",
    "                \n",
    "    sum_of_mins += Get_Min(normal/la.norm(OG_fb,2), yesfb/la.norm(yesfb,2))\n",
    "    mins.append(sum_of_mins/trials)\n",
    "    final.append(mins)"
   ]
  },
  {
   "cell_type": "code",
   "execution_count": 333,
   "metadata": {},
   "outputs": [
    {
     "name": "stdout",
     "output_type": "stream",
     "text": [
      "Difference of A and FB: 0.04646322408249207\n"
     ]
    }
   ],
   "source": [
    "print(f\"Difference of A and FB: {Get_Min(normal/la.norm(OG_fb,2), yesfb/la.norm(yesfb,2))}\")"
   ]
  },
  {
   "cell_type": "code",
   "execution_count": 334,
   "metadata": {},
   "outputs": [],
   "source": [
    "df2 = pd.DataFrame(final, index = [f\"DIM-{i}\" for i in range(10, 31)])"
   ]
  },
  {
   "cell_type": "code",
   "execution_count": 335,
   "metadata": {},
   "outputs": [
    {
     "data": {
      "text/html": [
       "<div>\n",
       "<style scoped>\n",
       "    .dataframe tbody tr th:only-of-type {\n",
       "        vertical-align: middle;\n",
       "    }\n",
       "\n",
       "    .dataframe tbody tr th {\n",
       "        vertical-align: top;\n",
       "    }\n",
       "\n",
       "    .dataframe thead th {\n",
       "        text-align: right;\n",
       "    }\n",
       "</style>\n",
       "<table border=\"1\" class=\"dataframe\">\n",
       "  <thead>\n",
       "    <tr style=\"text-align: right;\">\n",
       "      <th></th>\n",
       "      <th>0</th>\n",
       "    </tr>\n",
       "  </thead>\n",
       "  <tbody>\n",
       "    <tr>\n",
       "      <th>DIM-10</th>\n",
       "      <td>0.025786</td>\n",
       "    </tr>\n",
       "    <tr>\n",
       "      <th>DIM-11</th>\n",
       "      <td>0.059040</td>\n",
       "    </tr>\n",
       "    <tr>\n",
       "      <th>DIM-12</th>\n",
       "      <td>0.352738</td>\n",
       "    </tr>\n",
       "    <tr>\n",
       "      <th>DIM-13</th>\n",
       "      <td>0.076228</td>\n",
       "    </tr>\n",
       "    <tr>\n",
       "      <th>DIM-14</th>\n",
       "      <td>0.033418</td>\n",
       "    </tr>\n",
       "    <tr>\n",
       "      <th>DIM-15</th>\n",
       "      <td>0.204510</td>\n",
       "    </tr>\n",
       "    <tr>\n",
       "      <th>DIM-16</th>\n",
       "      <td>0.082453</td>\n",
       "    </tr>\n",
       "    <tr>\n",
       "      <th>DIM-17</th>\n",
       "      <td>0.062128</td>\n",
       "    </tr>\n",
       "    <tr>\n",
       "      <th>DIM-18</th>\n",
       "      <td>0.059243</td>\n",
       "    </tr>\n",
       "    <tr>\n",
       "      <th>DIM-19</th>\n",
       "      <td>0.056775</td>\n",
       "    </tr>\n",
       "    <tr>\n",
       "      <th>DIM-20</th>\n",
       "      <td>0.112470</td>\n",
       "    </tr>\n",
       "    <tr>\n",
       "      <th>DIM-21</th>\n",
       "      <td>0.201204</td>\n",
       "    </tr>\n",
       "    <tr>\n",
       "      <th>DIM-22</th>\n",
       "      <td>0.032464</td>\n",
       "    </tr>\n",
       "    <tr>\n",
       "      <th>DIM-23</th>\n",
       "      <td>0.136047</td>\n",
       "    </tr>\n",
       "    <tr>\n",
       "      <th>DIM-24</th>\n",
       "      <td>0.057704</td>\n",
       "    </tr>\n",
       "    <tr>\n",
       "      <th>DIM-25</th>\n",
       "      <td>0.309237</td>\n",
       "    </tr>\n",
       "    <tr>\n",
       "      <th>DIM-26</th>\n",
       "      <td>0.181464</td>\n",
       "    </tr>\n",
       "    <tr>\n",
       "      <th>DIM-27</th>\n",
       "      <td>0.350431</td>\n",
       "    </tr>\n",
       "    <tr>\n",
       "      <th>DIM-28</th>\n",
       "      <td>0.022853</td>\n",
       "    </tr>\n",
       "    <tr>\n",
       "      <th>DIM-29</th>\n",
       "      <td>0.238804</td>\n",
       "    </tr>\n",
       "    <tr>\n",
       "      <th>DIM-30</th>\n",
       "      <td>0.046463</td>\n",
       "    </tr>\n",
       "  </tbody>\n",
       "</table>\n",
       "</div>"
      ],
      "text/plain": [
       "               0\n",
       "DIM-10  0.025786\n",
       "DIM-11  0.059040\n",
       "DIM-12  0.352738\n",
       "DIM-13  0.076228\n",
       "DIM-14  0.033418\n",
       "DIM-15  0.204510\n",
       "DIM-16  0.082453\n",
       "DIM-17  0.062128\n",
       "DIM-18  0.059243\n",
       "DIM-19  0.056775\n",
       "DIM-20  0.112470\n",
       "DIM-21  0.201204\n",
       "DIM-22  0.032464\n",
       "DIM-23  0.136047\n",
       "DIM-24  0.057704\n",
       "DIM-25  0.309237\n",
       "DIM-26  0.181464\n",
       "DIM-27  0.350431\n",
       "DIM-28  0.022853\n",
       "DIM-29  0.238804\n",
       "DIM-30  0.046463"
      ]
     },
     "execution_count": 335,
     "metadata": {},
     "output_type": "execute_result"
    }
   ],
   "source": [
    "df2"
   ]
  },
  {
   "cell_type": "code",
   "execution_count": 336,
   "metadata": {},
   "outputs": [],
   "source": [
    "numpi = df2.to_numpy()"
   ]
  },
  {
   "cell_type": "code",
   "execution_count": 337,
   "metadata": {},
   "outputs": [
    {
     "name": "stderr",
     "output_type": "stream",
     "text": [
      "No artists with labels found to put in legend.  Note that artists whose label start with an underscore are ignored when legend() is called with no argument.\n"
     ]
    },
    {
     "data": {
      "image/png": "[encoded data removed]",
      "text/plain": [
       "<Figure size 432x288 with 1 Axes>"
      ]
     },
     "metadata": {
      "needs_background": "light"
     },
     "output_type": "display_data"
    }
   ],
   "source": [
    "for i in range(0, 3):\n",
    "    #plt.plot(np.arange(1000, 3000, 100), numpi[i], label=f'Dim={10 + i}')\\\n",
    "    plt.plot(numpi)\n",
    "plt.legend()\n",
    "plt.show()"
   ]
  },
  {
   "cell_type": "code",
   "execution_count": null,
   "metadata": {},
   "outputs": [],
   "source": []
  },
  {
   "cell_type": "code",
   "execution_count": null,
   "metadata": {},
   "outputs": [],
   "source": []
  },
  {
   "cell_type": "code",
   "execution_count": null,
   "metadata": {},
   "outputs": [],
   "source": []
  }
 ],
 "metadata": {
  "kernelspec": {
   "display_name": "Python 3 (ipykernel)",
   "language": "python",
   "name": "python3"
  },
  "language_info": {
   "codemirror_mode": {
    "name": "ipython",
    "version": 3
   },
   "file_extension": ".py",
   "mimetype": "text/x-python",
   "name": "python",
   "nbconvert_exporter": "python",
   "pygments_lexer": "ipython3",
   "version": "3.9.12"
  }
 },
 "nbformat": 4,
 "nbformat_minor": 4
}
