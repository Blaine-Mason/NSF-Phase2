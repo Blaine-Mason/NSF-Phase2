{
 "cells": [
  {
   "cell_type": "code",
   "execution_count": 24,
   "metadata": {},
   "outputs": [
    {
     "name": "stdout",
     "output_type": "stream",
     "text": [
      "objective = 0.5 @ (1.0 + -var3364[0, 1]) + 0.5 @ (1.0 + -var3364[0, 2]) + 0.5 @ (1.0 + -var3364[1, 3]) + 0.5 @ (1.0 + -var3364[1, 4]) + 0.5 @ (1.0 + -var3364[2, 3]) + 0.5 @ (1.0 + -var3364[3, 4])\n",
      "5.185492438628354\n",
      "[[-9.06549825e-02  1.09505058e-01 -5.15827518e-01]\n",
      " [-6.28911893e-01 -3.21683703e-01  4.83654806e-01]\n",
      " [-9.06549824e-02  1.09505058e-01  5.15827518e-01]\n",
      " [-6.28911893e-01 -3.21683703e-01 -4.83654806e-01]\n",
      " [-4.38751650e-01  8.76958650e-01  1.04083409e-15]]\n"
     ]
    }
   ],
   "source": [
    "%matplotlib widget\n",
    "edges = [\n",
    "    (0,1),\n",
    "    (0,2),\n",
    "    (1,3),\n",
    "    (1,4),\n",
    "    (2,3),\n",
    "    (3,4)\n",
    "]\n",
    "import scipy.linalg as la\n",
    "import cvxpy as cp\n",
    "import numpy as np\n",
    "import matplotlib.pyplot as plt\n",
    "X = cp.Variable((5,5), symmetric=True)\n",
    "\n",
    "constraints = [X >> 0]\n",
    "constraints += [\n",
    "    X[i, i] == 1 for i in range(5)\n",
    "]\n",
    "\n",
    "objective = sum( .5*(1-X[i, j]) for (i, j) in edges)\n",
    "print(f'objective = {objective}')\n",
    "prob = cp.Problem(cp.Maximize(objective), constraints)\n",
    "print(prob.solve())\n",
    "\n",
    "evals, evects = np.linalg.eigh(X.value)\n",
    "sdp_vectors = evects.T[evals > float(1.0E-6)].T\n",
    "print(sdp_vectors)"
   ]
  },
  {
   "cell_type": "code",
   "execution_count": null,
   "metadata": {},
   "outputs": [],
   "source": []
  }
 ],
 "metadata": {
  "kernelspec": {
   "display_name": "Python 3",
   "language": "python",
   "name": "python3"
  },
  "language_info": {
   "codemirror_mode": {
    "name": "ipython",
    "version": 3
   },
   "file_extension": ".py",
   "mimetype": "text/x-python",
   "name": "python",
   "nbconvert_exporter": "python",
   "pygments_lexer": "ipython3",
   "version": "3.8.5"
  }
 },
 "nbformat": 4,
 "nbformat_minor": 4
}
